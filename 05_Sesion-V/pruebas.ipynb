{
 "cells": [
  {
   "cell_type": "code",
   "execution_count": 126,
   "outputs": [],
   "source": [
    "import pandas as pd\n",
    "from rdkit import Chem\n",
    "from rdkit.Chem import rdMolDescriptors\n",
    "from sklearn.model_selection import train_test_split\n",
    "from sklearn.ensemble import RandomForestClassifier\n",
    "from sklearn.metrics import accuracy_score\n",
    "from skopt import BayesSearchCV"
   ],
   "metadata": {
    "collapsed": false
   }
  },
  {
   "cell_type": "markdown",
   "source": [
    "# Arreglo de datos"
   ],
   "metadata": {
    "collapsed": false
   }
  },
  {
   "cell_type": "code",
   "execution_count": 58,
   "outputs": [
    {
     "data": {
      "text/plain": "Inactive        4181\nActive          1854\nIntermediate    1282\nName: activity_type, dtype: int64"
     },
     "execution_count": 58,
     "metadata": {},
     "output_type": "execute_result"
    }
   ],
   "source": [
    "base_raw = pd.read_csv('data/P00533/P00533_03_ligands_smiles_activity_type.csv')\n",
    "base_raw.activity_type.value_counts()"
   ],
   "metadata": {
    "collapsed": false
   }
  },
  {
   "cell_type": "code",
   "execution_count": 59,
   "outputs": [
    {
     "data": {
      "text/plain": "<AxesSubplot:>"
     },
     "execution_count": 59,
     "metadata": {},
     "output_type": "execute_result"
    },
    {
     "data": {
      "text/plain": "<Figure size 432x288 with 1 Axes>",
      "image/png": "[encoded data removed]"
     },
     "metadata": {
      "needs_background": "light"
     },
     "output_type": "display_data"
    }
   ],
   "source": [
    "base_raw.activity_type.value_counts().plot.bar(x='activity_type')"
   ],
   "metadata": {
    "collapsed": false
   }
  },
  {
   "cell_type": "code",
   "execution_count": 63,
   "outputs": [
    {
     "data": {
      "text/plain": "<AxesSubplot:>"
     },
     "execution_count": 63,
     "metadata": {},
     "output_type": "execute_result"
    },
    {
     "data": {
      "text/plain": "<Figure size 432x288 with 1 Axes>",
      "image/png": "[encoded data removed]"
     },
     "metadata": {
      "needs_background": "light"
     },
     "output_type": "display_data"
    }
   ],
   "source": [
    "bd = base_raw[base_raw['activity_type'] != 'Intermediate'].drop(['chembl_id_ligand'], axis=1)\n",
    "bd.activity_type.value_counts().plot.bar(x='activity_type')"
   ],
   "metadata": {
    "collapsed": false
   }
  },
  {
   "cell_type": "code",
   "execution_count": 64,
   "outputs": [
    {
     "name": "stdout",
     "output_type": "stream",
     "text": [
      "6035\n"
     ]
    },
    {
     "data": {
      "text/plain": "                                       smiles  activity\n0            Brc1cccc(Nc2ncnc3c2sc2ccccc23)c1         1\n1  Brc1cccc(Nc2ncnc3cc(NCCCCN4CCOCC4)ncc23)c1         1\n2   Brc1cccc(Nc2ncnc3cc(NCCCN4CCOCC4)ncc23)c1         1\n3    Brc1cccc(Nc2ncnc3cc(NCCCn4ccnc4)ncc23)c1         1\n4    Brc1cccc(Nc2ncnc3cc(NCCN4CCOCC4)ncc23)c1         1",
      "text/html": "<div>\n<style scoped>\n    .dataframe tbody tr th:only-of-type {\n        vertical-align: middle;\n    }\n\n    .dataframe tbody tr th {\n        vertical-align: top;\n    }\n\n    .dataframe thead th {\n        text-align: right;\n    }\n</style>\n<table border=\"1\" class=\"dataframe\">\n  <thead>\n    <tr style=\"text-align: right;\">\n      <th></th>\n      <th>smiles</th>\n      <th>activity</th>\n    </tr>\n  </thead>\n  <tbody>\n    <tr>\n      <th>0</th>\n      <td>Brc1cccc(Nc2ncnc3c2sc2ccccc23)c1</td>\n      <td>1</td>\n    </tr>\n    <tr>\n      <th>1</th>\n      <td>Brc1cccc(Nc2ncnc3cc(NCCCCN4CCOCC4)ncc23)c1</td>\n      <td>1</td>\n    </tr>\n    <tr>\n      <th>2</th>\n      <td>Brc1cccc(Nc2ncnc3cc(NCCCN4CCOCC4)ncc23)c1</td>\n      <td>1</td>\n    </tr>\n    <tr>\n      <th>3</th>\n      <td>Brc1cccc(Nc2ncnc3cc(NCCCn4ccnc4)ncc23)c1</td>\n      <td>1</td>\n    </tr>\n    <tr>\n      <th>4</th>\n      <td>Brc1cccc(Nc2ncnc3cc(NCCN4CCOCC4)ncc23)c1</td>\n      <td>1</td>\n    </tr>\n  </tbody>\n</table>\n</div>"
     },
     "execution_count": 64,
     "metadata": {},
     "output_type": "execute_result"
    }
   ],
   "source": [
    "bd['activity'] = 0\n",
    "bd.loc[bd[bd.activity_type == 'Active'].index, 'activity'] = 1.0\n",
    "bd.drop(['activity_type'], axis=1, inplace=True)\n",
    "print(len(bd))\n",
    "bd.head()"
   ],
   "metadata": {
    "collapsed": false
   }
  },
  {
   "cell_type": "code",
   "execution_count": 65,
   "outputs": [
    {
     "data": {
      "text/plain": "                                           morgan2_c  activity\n0  [0, 0, 0, 0, 0, 0, 0, 0, 0, 0, 0, 0, 0, 0, 0, ...         1\n1  [0, 0, 0, 0, 0, 0, 0, 0, 0, 0, 0, 0, 0, 0, 0, ...         1\n2  [0, 0, 0, 0, 0, 0, 0, 0, 0, 0, 0, 0, 0, 0, 0, ...         1\n3  [0, 0, 0, 0, 0, 0, 0, 0, 0, 0, 0, 0, 0, 0, 0, ...         1\n4  [0, 0, 0, 0, 0, 0, 0, 0, 0, 0, 0, 0, 0, 0, 0, ...         1",
      "text/html": "<div>\n<style scoped>\n    .dataframe tbody tr th:only-of-type {\n        vertical-align: middle;\n    }\n\n    .dataframe tbody tr th {\n        vertical-align: top;\n    }\n\n    .dataframe thead th {\n        text-align: right;\n    }\n</style>\n<table border=\"1\" class=\"dataframe\">\n  <thead>\n    <tr style=\"text-align: right;\">\n      <th></th>\n      <th>morgan2_c</th>\n      <th>activity</th>\n    </tr>\n  </thead>\n  <tbody>\n    <tr>\n      <th>0</th>\n      <td>[0, 0, 0, 0, 0, 0, 0, 0, 0, 0, 0, 0, 0, 0, 0, ...</td>\n      <td>1</td>\n    </tr>\n    <tr>\n      <th>1</th>\n      <td>[0, 0, 0, 0, 0, 0, 0, 0, 0, 0, 0, 0, 0, 0, 0, ...</td>\n      <td>1</td>\n    </tr>\n    <tr>\n      <th>2</th>\n      <td>[0, 0, 0, 0, 0, 0, 0, 0, 0, 0, 0, 0, 0, 0, 0, ...</td>\n      <td>1</td>\n    </tr>\n    <tr>\n      <th>3</th>\n      <td>[0, 0, 0, 0, 0, 0, 0, 0, 0, 0, 0, 0, 0, 0, 0, ...</td>\n      <td>1</td>\n    </tr>\n    <tr>\n      <th>4</th>\n      <td>[0, 0, 0, 0, 0, 0, 0, 0, 0, 0, 0, 0, 0, 0, 0, ...</td>\n      <td>1</td>\n    </tr>\n  </tbody>\n</table>\n</div>"
     },
     "execution_count": 65,
     "metadata": {},
     "output_type": "execute_result"
    }
   ],
   "source": [
    "bd['morgan2_c'] = bd.smiles.map(lambda smile: rdMolDescriptors.GetMorganFingerprintAsBitVect(Chem.MolFromSmiles(smile), 2).ToList())\n",
    "bd = bd[['morgan2_c', 'activity']]\n",
    "bd.head()"
   ],
   "metadata": {
    "collapsed": false
   }
  },
  {
   "cell_type": "code",
   "execution_count": 85,
   "outputs": [
    {
     "name": "stdout",
     "output_type": "stream",
     "text": [
      "4224 1811\n"
     ]
    },
    {
     "data": {
      "text/plain": "                                           morgan2_c  activity\n0  [0, 0, 0, 0, 0, 0, 0, 0, 0, 0, 0, 0, 0, 0, 0, ...         0\n1  [0, 1, 0, 0, 0, 0, 0, 0, 0, 0, 0, 0, 0, 0, 0, ...         1\n2  [0, 0, 0, 0, 0, 0, 0, 0, 0, 0, 0, 0, 0, 0, 0, ...         0\n3  [0, 0, 0, 0, 0, 0, 0, 0, 0, 0, 0, 0, 0, 0, 0, ...         0\n4  [0, 0, 0, 0, 0, 0, 0, 0, 0, 0, 0, 0, 0, 0, 0, ...         0",
      "text/html": "<div>\n<style scoped>\n    .dataframe tbody tr th:only-of-type {\n        vertical-align: middle;\n    }\n\n    .dataframe tbody tr th {\n        vertical-align: top;\n    }\n\n    .dataframe thead th {\n        text-align: right;\n    }\n</style>\n<table border=\"1\" class=\"dataframe\">\n  <thead>\n    <tr style=\"text-align: right;\">\n      <th></th>\n      <th>morgan2_c</th>\n      <th>activity</th>\n    </tr>\n  </thead>\n  <tbody>\n    <tr>\n      <th>0</th>\n      <td>[0, 0, 0, 0, 0, 0, 0, 0, 0, 0, 0, 0, 0, 0, 0, ...</td>\n      <td>0</td>\n    </tr>\n    <tr>\n      <th>1</th>\n      <td>[0, 1, 0, 0, 0, 0, 0, 0, 0, 0, 0, 0, 0, 0, 0, ...</td>\n      <td>1</td>\n    </tr>\n    <tr>\n      <th>2</th>\n      <td>[0, 0, 0, 0, 0, 0, 0, 0, 0, 0, 0, 0, 0, 0, 0, ...</td>\n      <td>0</td>\n    </tr>\n    <tr>\n      <th>3</th>\n      <td>[0, 0, 0, 0, 0, 0, 0, 0, 0, 0, 0, 0, 0, 0, 0, ...</td>\n      <td>0</td>\n    </tr>\n    <tr>\n      <th>4</th>\n      <td>[0, 0, 0, 0, 0, 0, 0, 0, 0, 0, 0, 0, 0, 0, 0, ...</td>\n      <td>0</td>\n    </tr>\n  </tbody>\n</table>\n</div>"
     },
     "execution_count": 85,
     "metadata": {},
     "output_type": "execute_result"
    }
   ],
   "source": [
    "fp_df_train, fp_df_valid = train_test_split(bd, test_size=0.3, random_state=142857, shuffle=True, stratify=bd['activity'])\n",
    "fp_df_train.reset_index(drop=True, inplace=True)\n",
    "fp_df_valid.reset_index(drop=True, inplace=True)\n",
    "print(len(fp_df_train), len(fp_df_valid))\n",
    "fp_df_train.head()"
   ],
   "metadata": {
    "collapsed": false
   }
  },
  {
   "cell_type": "markdown",
   "source": [
    "# Entrenar el modelo"
   ],
   "metadata": {
    "collapsed": false
   }
  },
  {
   "cell_type": "code",
   "execution_count": 113,
   "outputs": [],
   "source": [
    "X, y = fp_df_train.morgan2_c, fp_df_train.activity\n",
    "X_train, X_test, y_train, y_test = train_test_split(X, y, test_size=0.2, random_state=142857, shuffle=True, stratify=y)\n",
    "X_train, X_test = X_train.tolist(), X_test.tolist()"
   ],
   "metadata": {
    "collapsed": false
   }
  },
  {
   "cell_type": "code",
   "execution_count": 140,
   "outputs": [
    {
     "name": "stdout",
     "output_type": "stream",
     "text": [
      "{'bootstrap': True, 'ccp_alpha': 0.0, 'class_weight': None, 'criterion': 'gini', 'max_depth': None, 'max_features': 'sqrt', 'max_leaf_nodes': None, 'max_samples': None, 'min_impurity_decrease': 0.0, 'min_samples_leaf': 1, 'min_samples_split': 2, 'min_weight_fraction_leaf': 0.0, 'n_estimators': 100, 'n_jobs': None, 'oob_score': False, 'random_state': None, 'verbose': 0, 'warm_start': False}\n"
     ]
    },
    {
     "data": {
      "text/plain": "RandomForestClassifier()",
      "text/html": "<style>#sk-container-id-5 {color: black;background-color: white;}#sk-container-id-5 pre{padding: 0;}#sk-container-id-5 div.sk-toggleable {background-color: white;}#sk-container-id-5 label.sk-toggleable__label {cursor: pointer;display: block;width: 100%;margin-bottom: 0;padding: 0.3em;box-sizing: border-box;text-align: center;}#sk-container-id-5 label.sk-toggleable__label-arrow:before {content: \"▸\";float: left;margin-right: 0.25em;color: #696969;}#sk-container-id-5 label.sk-toggleable__label-arrow:hover:before {color: black;}#sk-container-id-5 div.sk-estimator:hover label.sk-toggleable__label-arrow:before {color: black;}#sk-container-id-5 div.sk-toggleable__content {max-height: 0;max-width: 0;overflow: hidden;text-align: left;background-color: #f0f8ff;}#sk-container-id-5 div.sk-toggleable__content pre {margin: 0.2em;color: black;border-radius: 0.25em;background-color: #f0f8ff;}#sk-container-id-5 input.sk-toggleable__control:checked~div.sk-toggleable__content {max-height: 200px;max-width: 100%;overflow: auto;}#sk-container-id-5 input.sk-toggleable__control:checked~label.sk-toggleable__label-arrow:before {content: \"▾\";}#sk-container-id-5 div.sk-estimator input.sk-toggleable__control:checked~label.sk-toggleable__label {background-color: #d4ebff;}#sk-container-id-5 div.sk-label input.sk-toggleable__control:checked~label.sk-toggleable__label {background-color: #d4ebff;}#sk-container-id-5 input.sk-hidden--visually {border: 0;clip: rect(1px 1px 1px 1px);clip: rect(1px, 1px, 1px, 1px);height: 1px;margin: -1px;overflow: hidden;padding: 0;position: absolute;width: 1px;}#sk-container-id-5 div.sk-estimator {font-family: monospace;background-color: #f0f8ff;border: 1px dotted black;border-radius: 0.25em;box-sizing: border-box;margin-bottom: 0.5em;}#sk-container-id-5 div.sk-estimator:hover {background-color: #d4ebff;}#sk-container-id-5 div.sk-parallel-item::after {content: \"\";width: 100%;border-bottom: 1px solid gray;flex-grow: 1;}#sk-container-id-5 div.sk-label:hover label.sk-toggleable__label {background-color: #d4ebff;}#sk-container-id-5 div.sk-serial::before {content: \"\";position: absolute;border-left: 1px solid gray;box-sizing: border-box;top: 0;bottom: 0;left: 50%;z-index: 0;}#sk-container-id-5 div.sk-serial {display: flex;flex-direction: column;align-items: center;background-color: white;padding-right: 0.2em;padding-left: 0.2em;position: relative;}#sk-container-id-5 div.sk-item {position: relative;z-index: 1;}#sk-container-id-5 div.sk-parallel {display: flex;align-items: stretch;justify-content: center;background-color: white;position: relative;}#sk-container-id-5 div.sk-item::before, #sk-container-id-5 div.sk-parallel-item::before {content: \"\";position: absolute;border-left: 1px solid gray;box-sizing: border-box;top: 0;bottom: 0;left: 50%;z-index: -1;}#sk-container-id-5 div.sk-parallel-item {display: flex;flex-direction: column;z-index: 1;position: relative;background-color: white;}#sk-container-id-5 div.sk-parallel-item:first-child::after {align-self: flex-end;width: 50%;}#sk-container-id-5 div.sk-parallel-item:last-child::after {align-self: flex-start;width: 50%;}#sk-container-id-5 div.sk-parallel-item:only-child::after {width: 0;}#sk-container-id-5 div.sk-dashed-wrapped {border: 1px dashed gray;margin: 0 0.4em 0.5em 0.4em;box-sizing: border-box;padding-bottom: 0.4em;background-color: white;}#sk-container-id-5 div.sk-label label {font-family: monospace;font-weight: bold;display: inline-block;line-height: 1.2em;}#sk-container-id-5 div.sk-label-container {text-align: center;}#sk-container-id-5 div.sk-container {/* jupyter's `normalize.less` sets `[hidden] { display: none; }` but bootstrap.min.css set `[hidden] { display: none !important; }` so we also need the `!important` here to be able to override the default hidden behavior on the sphinx rendered scikit-learn.org. See: https://github.com/scikit-learn/scikit-learn/issues/21755 */display: inline-block !important;position: relative;}#sk-container-id-5 div.sk-text-repr-fallback {display: none;}</style><div id=\"sk-container-id-5\" class=\"sk-top-container\"><div class=\"sk-text-repr-fallback\"><pre>RandomForestClassifier()</pre><b>In a Jupyter environment, please rerun this cell to show the HTML representation or trust the notebook. <br />On GitHub, the HTML representation is unable to render, please try loading this page with nbviewer.org.</b></div><div class=\"sk-container\" hidden><div class=\"sk-item\"><div class=\"sk-estimator sk-toggleable\"><input class=\"sk-toggleable__control sk-hidden--visually\" id=\"sk-estimator-id-9\" type=\"checkbox\" checked><label for=\"sk-estimator-id-9\" class=\"sk-toggleable__label sk-toggleable__label-arrow\">RandomForestClassifier</label><div class=\"sk-toggleable__content\"><pre>RandomForestClassifier()</pre></div></div></div></div></div>"
     },
     "execution_count": 140,
     "metadata": {},
     "output_type": "execute_result"
    }
   ],
   "source": [
    "model = RandomForestClassifier()\n",
    "params_dict = model.get_params(deep=True)\n",
    "print(params_dict) # parametros por defecto\n",
    "model.fit(X_train, y_train)"
   ],
   "metadata": {
    "collapsed": false
   }
  },
  {
   "cell_type": "code",
   "execution_count": 141,
   "outputs": [
    {
     "name": "stdout",
     "output_type": "stream",
     "text": [
      "0.9991121633619414 0.9183431952662722\n"
     ]
    }
   ],
   "source": [
    "# Conjunto de entrenamiento\n",
    "y_predict = model.predict(X_train)\n",
    "acc_train = accuracy_score(y_train, y_predict)\n",
    "# Conjunto de test\n",
    "y_predict_test = model.predict(X_test)\n",
    "acc_test = accuracy_score(y_test, y_predict_test)\n",
    "print(acc_train, acc_test)"
   ],
   "metadata": {
    "collapsed": false
   }
  },
  {
   "cell_type": "markdown",
   "source": [
    "# Grid Search CV (BayesSearchCV)"
   ],
   "metadata": {
    "collapsed": false
   }
  },
  {
   "cell_type": "code",
   "execution_count": 134,
   "outputs": [
    {
     "name": "stdout",
     "output_type": "stream",
     "text": [
      "Fitting 5 folds for each of 1 candidates, totalling 5 fits\n",
      "Fitting 5 folds for each of 1 candidates, totalling 5 fits\n",
      "Fitting 5 folds for each of 1 candidates, totalling 5 fits\n",
      "Fitting 5 folds for each of 1 candidates, totalling 5 fits\n",
      "Fitting 5 folds for each of 1 candidates, totalling 5 fits\n",
      "Fitting 5 folds for each of 1 candidates, totalling 5 fits\n",
      "Fitting 5 folds for each of 1 candidates, totalling 5 fits\n",
      "Fitting 5 folds for each of 1 candidates, totalling 5 fits\n",
      "Fitting 5 folds for each of 1 candidates, totalling 5 fits\n",
      "Fitting 5 folds for each of 1 candidates, totalling 5 fits\n",
      "Fitting 5 folds for each of 1 candidates, totalling 5 fits\n",
      "Fitting 5 folds for each of 1 candidates, totalling 5 fits\n",
      "Fitting 5 folds for each of 1 candidates, totalling 5 fits\n",
      "Fitting 5 folds for each of 1 candidates, totalling 5 fits\n",
      "Fitting 5 folds for each of 1 candidates, totalling 5 fits\n",
      "Fitting 5 folds for each of 1 candidates, totalling 5 fits\n",
      "Fitting 5 folds for each of 1 candidates, totalling 5 fits\n",
      "Fitting 5 folds for each of 1 candidates, totalling 5 fits\n",
      "Fitting 5 folds for each of 1 candidates, totalling 5 fits\n",
      "Fitting 5 folds for each of 1 candidates, totalling 5 fits\n"
     ]
    },
    {
     "data": {
      "text/plain": "BayesSearchCV(cv=5, estimator=RandomForestClassifier(), n_iter=20, n_jobs=-1,\n              random_state=142857, return_train_score=True, scoring='accuracy',\n              search_spaces={'criterion': ['gini', 'entropy', 'log_loss'],\n                             'max_depth': [None, 5, 6, 7, 8, 9, 10, 11, 12],\n                             'max_features': [0.2, 0.3, 0.4, 0.5, 0.6],\n                             'max_leaf_nodes': [None, 5, 6, 7, 8, 9, 10, 11,\n                                                12],\n                             'max_samples': [0.6, 0.7, 0.8, 0.9, 1]},\n              verbose=3)",
      "text/html": "<style>#sk-container-id-4 {color: black;background-color: white;}#sk-container-id-4 pre{padding: 0;}#sk-container-id-4 div.sk-toggleable {background-color: white;}#sk-container-id-4 label.sk-toggleable__label {cursor: pointer;display: block;width: 100%;margin-bottom: 0;padding: 0.3em;box-sizing: border-box;text-align: center;}#sk-container-id-4 label.sk-toggleable__label-arrow:before {content: \"▸\";float: left;margin-right: 0.25em;color: #696969;}#sk-container-id-4 label.sk-toggleable__label-arrow:hover:before {color: black;}#sk-container-id-4 div.sk-estimator:hover label.sk-toggleable__label-arrow:before {color: black;}#sk-container-id-4 div.sk-toggleable__content {max-height: 0;max-width: 0;overflow: hidden;text-align: left;background-color: #f0f8ff;}#sk-container-id-4 div.sk-toggleable__content pre {margin: 0.2em;color: black;border-radius: 0.25em;background-color: #f0f8ff;}#sk-container-id-4 input.sk-toggleable__control:checked~div.sk-toggleable__content {max-height: 200px;max-width: 100%;overflow: auto;}#sk-container-id-4 input.sk-toggleable__control:checked~label.sk-toggleable__label-arrow:before {content: \"▾\";}#sk-container-id-4 div.sk-estimator input.sk-toggleable__control:checked~label.sk-toggleable__label {background-color: #d4ebff;}#sk-container-id-4 div.sk-label input.sk-toggleable__control:checked~label.sk-toggleable__label {background-color: #d4ebff;}#sk-container-id-4 input.sk-hidden--visually {border: 0;clip: rect(1px 1px 1px 1px);clip: rect(1px, 1px, 1px, 1px);height: 1px;margin: -1px;overflow: hidden;padding: 0;position: absolute;width: 1px;}#sk-container-id-4 div.sk-estimator {font-family: monospace;background-color: #f0f8ff;border: 1px dotted black;border-radius: 0.25em;box-sizing: border-box;margin-bottom: 0.5em;}#sk-container-id-4 div.sk-estimator:hover {background-color: #d4ebff;}#sk-container-id-4 div.sk-parallel-item::after {content: \"\";width: 100%;border-bottom: 1px solid gray;flex-grow: 1;}#sk-container-id-4 div.sk-label:hover label.sk-toggleable__label {background-color: #d4ebff;}#sk-container-id-4 div.sk-serial::before {content: \"\";position: absolute;border-left: 1px solid gray;box-sizing: border-box;top: 0;bottom: 0;left: 50%;z-index: 0;}#sk-container-id-4 div.sk-serial {display: flex;flex-direction: column;align-items: center;background-color: white;padding-right: 0.2em;padding-left: 0.2em;position: relative;}#sk-container-id-4 div.sk-item {position: relative;z-index: 1;}#sk-container-id-4 div.sk-parallel {display: flex;align-items: stretch;justify-content: center;background-color: white;position: relative;}#sk-container-id-4 div.sk-item::before, #sk-container-id-4 div.sk-parallel-item::before {content: \"\";position: absolute;border-left: 1px solid gray;box-sizing: border-box;top: 0;bottom: 0;left: 50%;z-index: -1;}#sk-container-id-4 div.sk-parallel-item {display: flex;flex-direction: column;z-index: 1;position: relative;background-color: white;}#sk-container-id-4 div.sk-parallel-item:first-child::after {align-self: flex-end;width: 50%;}#sk-container-id-4 div.sk-parallel-item:last-child::after {align-self: flex-start;width: 50%;}#sk-container-id-4 div.sk-parallel-item:only-child::after {width: 0;}#sk-container-id-4 div.sk-dashed-wrapped {border: 1px dashed gray;margin: 0 0.4em 0.5em 0.4em;box-sizing: border-box;padding-bottom: 0.4em;background-color: white;}#sk-container-id-4 div.sk-label label {font-family: monospace;font-weight: bold;display: inline-block;line-height: 1.2em;}#sk-container-id-4 div.sk-label-container {text-align: center;}#sk-container-id-4 div.sk-container {/* jupyter's `normalize.less` sets `[hidden] { display: none; }` but bootstrap.min.css set `[hidden] { display: none !important; }` so we also need the `!important` here to be able to override the default hidden behavior on the sphinx rendered scikit-learn.org. See: https://github.com/scikit-learn/scikit-learn/issues/21755 */display: inline-block !important;position: relative;}#sk-container-id-4 div.sk-text-repr-fallback {display: none;}</style><div id=\"sk-container-id-4\" class=\"sk-top-container\"><div class=\"sk-text-repr-fallback\"><pre>BayesSearchCV(cv=5, estimator=RandomForestClassifier(), n_iter=20, n_jobs=-1,\n              random_state=142857, return_train_score=True, scoring=&#x27;accuracy&#x27;,\n              search_spaces={&#x27;criterion&#x27;: [&#x27;gini&#x27;, &#x27;entropy&#x27;, &#x27;log_loss&#x27;],\n                             &#x27;max_depth&#x27;: [None, 5, 6, 7, 8, 9, 10, 11, 12],\n                             &#x27;max_features&#x27;: [0.2, 0.3, 0.4, 0.5, 0.6],\n                             &#x27;max_leaf_nodes&#x27;: [None, 5, 6, 7, 8, 9, 10, 11,\n                                                12],\n                             &#x27;max_samples&#x27;: [0.6, 0.7, 0.8, 0.9, 1]},\n              verbose=3)</pre><b>In a Jupyter environment, please rerun this cell to show the HTML representation or trust the notebook. <br />On GitHub, the HTML representation is unable to render, please try loading this page with nbviewer.org.</b></div><div class=\"sk-container\" hidden><div class=\"sk-item sk-dashed-wrapped\"><div class=\"sk-label-container\"><div class=\"sk-label sk-toggleable\"><input class=\"sk-toggleable__control sk-hidden--visually\" id=\"sk-estimator-id-6\" type=\"checkbox\" ><label for=\"sk-estimator-id-6\" class=\"sk-toggleable__label sk-toggleable__label-arrow\">BayesSearchCV</label><div class=\"sk-toggleable__content\"><pre>BayesSearchCV(cv=5, estimator=RandomForestClassifier(), n_iter=20, n_jobs=-1,\n              random_state=142857, return_train_score=True, scoring=&#x27;accuracy&#x27;,\n              search_spaces={&#x27;criterion&#x27;: [&#x27;gini&#x27;, &#x27;entropy&#x27;, &#x27;log_loss&#x27;],\n                             &#x27;max_depth&#x27;: [None, 5, 6, 7, 8, 9, 10, 11, 12],\n                             &#x27;max_features&#x27;: [0.2, 0.3, 0.4, 0.5, 0.6],\n                             &#x27;max_leaf_nodes&#x27;: [None, 5, 6, 7, 8, 9, 10, 11,\n                                                12],\n                             &#x27;max_samples&#x27;: [0.6, 0.7, 0.8, 0.9, 1]},\n              verbose=3)</pre></div></div></div><div class=\"sk-parallel\"><div class=\"sk-parallel-item\"><div class=\"sk-item\"><div class=\"sk-label-container\"><div class=\"sk-label sk-toggleable\"><input class=\"sk-toggleable__control sk-hidden--visually\" id=\"sk-estimator-id-7\" type=\"checkbox\" ><label for=\"sk-estimator-id-7\" class=\"sk-toggleable__label sk-toggleable__label-arrow\">estimator: RandomForestClassifier</label><div class=\"sk-toggleable__content\"><pre>RandomForestClassifier()</pre></div></div></div><div class=\"sk-serial\"><div class=\"sk-item\"><div class=\"sk-estimator sk-toggleable\"><input class=\"sk-toggleable__control sk-hidden--visually\" id=\"sk-estimator-id-8\" type=\"checkbox\" ><label for=\"sk-estimator-id-8\" class=\"sk-toggleable__label sk-toggleable__label-arrow\">RandomForestClassifier</label><div class=\"sk-toggleable__content\"><pre>RandomForestClassifier()</pre></div></div></div></div></div></div></div></div></div></div>"
     },
     "execution_count": 134,
     "metadata": {},
     "output_type": "execute_result"
    }
   ],
   "source": [
    "param_grid = {\n",
    "    'criterion': [\"gini\", \"entropy\", \"log_loss\"],\n",
    "    'max_depth': [None, 5, 6, 7, 8, 9, 10, 11, 12],\n",
    "    'max_features': [0.2, 0.3, 0.4, 0.5, 0.6],\n",
    "    'max_leaf_nodes': [None, 5, 6, 7, 8, 9, 10, 11, 12],\n",
    "    'max_samples': [0.6, 0.7, 0.8, 0.9, 1]}\n",
    "\n",
    "model = RandomForestClassifier()\n",
    "clf = BayesSearchCV(estimator=model, search_spaces=param_grid, cv=5, n_iter=20, n_jobs=-1,\n",
    "                    scoring='accuracy', refit=True, return_train_score=True, verbose=3,\n",
    "                    random_state=142857)\n",
    "clf.fit(X_train, y_train)"
   ],
   "metadata": {
    "collapsed": false
   }
  },
  {
   "cell_type": "code",
   "execution_count": 135,
   "outputs": [
    {
     "data": {
      "text/plain": "    mean_fit_time  std_fit_time  mean_score_time  std_score_time  \\\n0        6.167751      0.062977         0.076410        0.011401   \n1        5.834425      0.104414         0.067388        0.005103   \n2        3.950781      0.112610         0.065149        0.004218   \n3        3.644486      0.087909         0.065116        0.005406   \n4        5.990474      0.048751         0.069116        0.005059   \n5        2.983734      0.043602         0.069292        0.007684   \n6        9.268007      0.140787         0.094065        0.009086   \n7       15.807128      0.206966         0.115059        0.063796   \n8        5.273121      0.127878         0.075568        0.023772   \n9       12.616634      0.151871         0.077906        0.017383   \n10      13.854258      0.128866         0.076691        0.010197   \n11       9.732733      0.186359         0.075410        0.007375   \n12       6.091851      0.082454         0.067150        0.005842   \n13       8.811087      0.196463         0.087097        0.037037   \n14      10.910132      0.125765         0.073852        0.006665   \n15       7.213835      0.086545         0.068852        0.004424   \n16       4.568412      0.053307         0.070858        0.004431   \n17       9.754928      0.066753         0.076334        0.015049   \n18       9.215417      0.088663         0.075334        0.003921   \n19      13.412078      0.172079         0.070082        0.005680   \n\n   param_criterion param_max_depth param_max_features param_max_leaf_nodes  \\\n0             gini              11                0.3                    9   \n1             gini               8                0.4                    6   \n2          entropy              10                0.3                    9   \n3             gini              11                0.2                    5   \n4             gini               5                0.4                   12   \n5         log_loss               5                0.2                    9   \n6          entropy              11                0.6                   11   \n7             gini              10                0.6                 None   \n8             gini              10                0.4                    9   \n9             gini               9                0.6                 None   \n10         entropy              10                0.6                 None   \n11        log_loss              10                0.4                 None   \n12         entropy              12                0.5                    7   \n13            gini               5                0.6                    8   \n14         entropy               8                0.5                 None   \n15         entropy               5                0.5                   10   \n16        log_loss              10                0.2                 None   \n17         entropy              10                0.3                 None   \n18         entropy              10                0.4                 None   \n19        log_loss              11                0.6                 None   \n\n   param_max_samples                                             params  ...  \\\n0                1.0  {'criterion': 'gini', 'max_depth': 11, 'max_fe...  ...   \n1                0.8  {'criterion': 'gini', 'max_depth': 8, 'max_fea...  ...   \n2                0.6  {'criterion': 'entropy', 'max_depth': 10, 'max...  ...   \n3                1.0  {'criterion': 'gini', 'max_depth': 11, 'max_fe...  ...   \n4                0.7  {'criterion': 'gini', 'max_depth': 5, 'max_fea...  ...   \n5                0.7  {'criterion': 'log_loss', 'max_depth': 5, 'max...  ...   \n6                0.7  {'criterion': 'entropy', 'max_depth': 11, 'max...  ...   \n7                0.8  {'criterion': 'gini', 'max_depth': 10, 'max_fe...  ...   \n8                0.6  {'criterion': 'gini', 'max_depth': 10, 'max_fe...  ...   \n9                0.6  {'criterion': 'gini', 'max_depth': 9, 'max_fea...  ...   \n10               0.8  {'criterion': 'entropy', 'max_depth': 10, 'max...  ...   \n11               0.8  {'criterion': 'log_loss', 'max_depth': 10, 'ma...  ...   \n12               0.6  {'criterion': 'entropy', 'max_depth': 12, 'max...  ...   \n13               0.8  {'criterion': 'gini', 'max_depth': 5, 'max_fea...  ...   \n14               0.8  {'criterion': 'entropy', 'max_depth': 8, 'max_...  ...   \n15               0.7  {'criterion': 'entropy', 'max_depth': 5, 'max_...  ...   \n16               0.7  {'criterion': 'log_loss', 'max_depth': 10, 'ma...  ...   \n17               1.0  {'criterion': 'entropy', 'max_depth': 10, 'max...  ...   \n18               0.7  {'criterion': 'entropy', 'max_depth': 10, 'max...  ...   \n19               0.7  {'criterion': 'log_loss', 'max_depth': 11, 'ma...  ...   \n\n    std_test_score  rank_test_score  split0_train_score  split1_train_score  \\\n0         0.013102               15            0.850906            0.870514   \n1         0.013544               19            0.833888            0.829819   \n2         0.010659               16            0.840548            0.850166   \n3         0.007187               20            0.828339            0.818720   \n4         0.005668               11            0.870514            0.875324   \n5         0.011102               16            0.843507            0.853496   \n6         0.012454               10            0.867555            0.871624   \n7         0.004094                3            0.948946            0.955235   \n8         0.011319               13            0.857196            0.870884   \n9         0.005618                7            0.936367            0.948206   \n10        0.008415                2            0.963004            0.961154   \n11        0.009355                6            0.960044            0.961524   \n12        0.015007               18            0.834628            0.839808   \n13        0.010507               14            0.860155            0.867185   \n14        0.004679                9            0.935997            0.940437   \n15        0.013822               12            0.858306            0.859785   \n16        0.004442                8            0.952645            0.955975   \n17        0.002724                5            0.964484            0.964854   \n18        0.005559                4            0.955235            0.960784   \n19        0.005287                1            0.969293            0.967074   \n\n    split2_train_score  split3_train_score  split4_train_score  \\\n0             0.853496            0.850906            0.862426   \n1             0.834628            0.832408            0.831361   \n2             0.844247            0.845727            0.844675   \n3             0.830189            0.829819            0.825074   \n4             0.868294            0.876064            0.874260   \n5             0.840917            0.846097            0.839867   \n6             0.862005            0.864965            0.869453   \n7             0.950425            0.954125            0.950444   \n8             0.846467            0.859415            0.864645   \n9             0.934517            0.936367            0.941568   \n10            0.957085            0.964854            0.959320   \n11            0.951905            0.961894            0.955621   \n12            0.839068            0.841287            0.838018   \n13            0.847207            0.849797            0.852071   \n14            0.936367            0.941916            0.944896   \n15            0.853496            0.853496            0.856509   \n16            0.944136            0.952275            0.948964   \n17            0.959304            0.966704            0.957470   \n18            0.954495            0.959674            0.956361   \n19            0.964114            0.965964            0.963757   \n\n    mean_train_score  std_train_score  rank_train_score  \n0           0.857650         0.007701                13  \n1           0.832421         0.001727                19  \n2           0.845073         0.003088                16  \n3           0.826428         0.004255                20  \n4           0.872891         0.002988                10  \n5           0.844777         0.004866                17  \n6           0.867120         0.003368                11  \n7           0.951835         0.002411                 6  \n8           0.859721         0.008136                12  \n9           0.939405         0.004990                 9  \n10          0.961083         0.002721                 3  \n11          0.958198         0.003857                 4  \n12          0.838562         0.002236                18  \n13          0.855283         0.007362                15  \n14          0.939923         0.003377                 8  \n15          0.856318         0.002527                14  \n16          0.950799         0.004003                 7  \n17          0.962563         0.003539                 2  \n18          0.957310         0.002482                 5  \n19          0.966040         0.002029                 1  \n\n[20 rows x 26 columns]",
      "text/html": "<div>\n<style scoped>\n    .dataframe tbody tr th:only-of-type {\n        vertical-align: middle;\n    }\n\n    .dataframe tbody tr th {\n        vertical-align: top;\n    }\n\n    .dataframe thead th {\n        text-align: right;\n    }\n</style>\n<table border=\"1\" class=\"dataframe\">\n  <thead>\n    <tr style=\"text-align: right;\">\n      <th></th>\n      <th>mean_fit_time</th>\n      <th>std_fit_time</th>\n      <th>mean_score_time</th>\n      <th>std_score_time</th>\n      <th>param_criterion</th>\n      <th>param_max_depth</th>\n      <th>param_max_features</th>\n      <th>param_max_leaf_nodes</th>\n      <th>param_max_samples</th>\n      <th>params</th>\n      <th>...</th>\n      <th>std_test_score</th>\n      <th>rank_test_score</th>\n      <th>split0_train_score</th>\n      <th>split1_train_score</th>\n      <th>split2_train_score</th>\n      <th>split3_train_score</th>\n      <th>split4_train_score</th>\n      <th>mean_train_score</th>\n      <th>std_train_score</th>\n      <th>rank_train_score</th>\n    </tr>\n  </thead>\n  <tbody>\n    <tr>\n      <th>0</th>\n      <td>6.167751</td>\n      <td>0.062977</td>\n      <td>0.076410</td>\n      <td>0.011401</td>\n      <td>gini</td>\n      <td>11</td>\n      <td>0.3</td>\n      <td>9</td>\n      <td>1.0</td>\n      <td>{'criterion': 'gini', 'max_depth': 11, 'max_fe...</td>\n      <td>...</td>\n      <td>0.013102</td>\n      <td>15</td>\n      <td>0.850906</td>\n      <td>0.870514</td>\n      <td>0.853496</td>\n      <td>0.850906</td>\n      <td>0.862426</td>\n      <td>0.857650</td>\n      <td>0.007701</td>\n      <td>13</td>\n    </tr>\n    <tr>\n      <th>1</th>\n      <td>5.834425</td>\n      <td>0.104414</td>\n      <td>0.067388</td>\n      <td>0.005103</td>\n      <td>gini</td>\n      <td>8</td>\n      <td>0.4</td>\n      <td>6</td>\n      <td>0.8</td>\n      <td>{'criterion': 'gini', 'max_depth': 8, 'max_fea...</td>\n      <td>...</td>\n      <td>0.013544</td>\n      <td>19</td>\n      <td>0.833888</td>\n      <td>0.829819</td>\n      <td>0.834628</td>\n      <td>0.832408</td>\n      <td>0.831361</td>\n      <td>0.832421</td>\n      <td>0.001727</td>\n      <td>19</td>\n    </tr>\n    <tr>\n      <th>2</th>\n      <td>3.950781</td>\n      <td>0.112610</td>\n      <td>0.065149</td>\n      <td>0.004218</td>\n      <td>entropy</td>\n      <td>10</td>\n      <td>0.3</td>\n      <td>9</td>\n      <td>0.6</td>\n      <td>{'criterion': 'entropy', 'max_depth': 10, 'max...</td>\n      <td>...</td>\n      <td>0.010659</td>\n      <td>16</td>\n      <td>0.840548</td>\n      <td>0.850166</td>\n      <td>0.844247</td>\n      <td>0.845727</td>\n      <td>0.844675</td>\n      <td>0.845073</td>\n      <td>0.003088</td>\n      <td>16</td>\n    </tr>\n    <tr>\n      <th>3</th>\n      <td>3.644486</td>\n      <td>0.087909</td>\n      <td>0.065116</td>\n      <td>0.005406</td>\n      <td>gini</td>\n      <td>11</td>\n      <td>0.2</td>\n      <td>5</td>\n      <td>1.0</td>\n      <td>{'criterion': 'gini', 'max_depth': 11, 'max_fe...</td>\n      <td>...</td>\n      <td>0.007187</td>\n      <td>20</td>\n      <td>0.828339</td>\n      <td>0.818720</td>\n      <td>0.830189</td>\n      <td>0.829819</td>\n      <td>0.825074</td>\n      <td>0.826428</td>\n      <td>0.004255</td>\n      <td>20</td>\n    </tr>\n    <tr>\n      <th>4</th>\n      <td>5.990474</td>\n      <td>0.048751</td>\n      <td>0.069116</td>\n      <td>0.005059</td>\n      <td>gini</td>\n      <td>5</td>\n      <td>0.4</td>\n      <td>12</td>\n      <td>0.7</td>\n      <td>{'criterion': 'gini', 'max_depth': 5, 'max_fea...</td>\n      <td>...</td>\n      <td>0.005668</td>\n      <td>11</td>\n      <td>0.870514</td>\n      <td>0.875324</td>\n      <td>0.868294</td>\n      <td>0.876064</td>\n      <td>0.874260</td>\n      <td>0.872891</td>\n      <td>0.002988</td>\n      <td>10</td>\n    </tr>\n    <tr>\n      <th>5</th>\n      <td>2.983734</td>\n      <td>0.043602</td>\n      <td>0.069292</td>\n      <td>0.007684</td>\n      <td>log_loss</td>\n      <td>5</td>\n      <td>0.2</td>\n      <td>9</td>\n      <td>0.7</td>\n      <td>{'criterion': 'log_loss', 'max_depth': 5, 'max...</td>\n      <td>...</td>\n      <td>0.011102</td>\n      <td>16</td>\n      <td>0.843507</td>\n      <td>0.853496</td>\n      <td>0.840917</td>\n      <td>0.846097</td>\n      <td>0.839867</td>\n      <td>0.844777</td>\n      <td>0.004866</td>\n      <td>17</td>\n    </tr>\n    <tr>\n      <th>6</th>\n      <td>9.268007</td>\n      <td>0.140787</td>\n      <td>0.094065</td>\n      <td>0.009086</td>\n      <td>entropy</td>\n      <td>11</td>\n      <td>0.6</td>\n      <td>11</td>\n      <td>0.7</td>\n      <td>{'criterion': 'entropy', 'max_depth': 11, 'max...</td>\n      <td>...</td>\n      <td>0.012454</td>\n      <td>10</td>\n      <td>0.867555</td>\n      <td>0.871624</td>\n      <td>0.862005</td>\n      <td>0.864965</td>\n      <td>0.869453</td>\n      <td>0.867120</td>\n      <td>0.003368</td>\n      <td>11</td>\n    </tr>\n    <tr>\n      <th>7</th>\n      <td>15.807128</td>\n      <td>0.206966</td>\n      <td>0.115059</td>\n      <td>0.063796</td>\n      <td>gini</td>\n      <td>10</td>\n      <td>0.6</td>\n      <td>None</td>\n      <td>0.8</td>\n      <td>{'criterion': 'gini', 'max_depth': 10, 'max_fe...</td>\n      <td>...</td>\n      <td>0.004094</td>\n      <td>3</td>\n      <td>0.948946</td>\n      <td>0.955235</td>\n      <td>0.950425</td>\n      <td>0.954125</td>\n      <td>0.950444</td>\n      <td>0.951835</td>\n      <td>0.002411</td>\n      <td>6</td>\n    </tr>\n    <tr>\n      <th>8</th>\n      <td>5.273121</td>\n      <td>0.127878</td>\n      <td>0.075568</td>\n      <td>0.023772</td>\n      <td>gini</td>\n      <td>10</td>\n      <td>0.4</td>\n      <td>9</td>\n      <td>0.6</td>\n      <td>{'criterion': 'gini', 'max_depth': 10, 'max_fe...</td>\n      <td>...</td>\n      <td>0.011319</td>\n      <td>13</td>\n      <td>0.857196</td>\n      <td>0.870884</td>\n      <td>0.846467</td>\n      <td>0.859415</td>\n      <td>0.864645</td>\n      <td>0.859721</td>\n      <td>0.008136</td>\n      <td>12</td>\n    </tr>\n    <tr>\n      <th>9</th>\n      <td>12.616634</td>\n      <td>0.151871</td>\n      <td>0.077906</td>\n      <td>0.017383</td>\n      <td>gini</td>\n      <td>9</td>\n      <td>0.6</td>\n      <td>None</td>\n      <td>0.6</td>\n      <td>{'criterion': 'gini', 'max_depth': 9, 'max_fea...</td>\n      <td>...</td>\n      <td>0.005618</td>\n      <td>7</td>\n      <td>0.936367</td>\n      <td>0.948206</td>\n      <td>0.934517</td>\n      <td>0.936367</td>\n      <td>0.941568</td>\n      <td>0.939405</td>\n      <td>0.004990</td>\n      <td>9</td>\n    </tr>\n    <tr>\n      <th>10</th>\n      <td>13.854258</td>\n      <td>0.128866</td>\n      <td>0.076691</td>\n      <td>0.010197</td>\n      <td>entropy</td>\n      <td>10</td>\n      <td>0.6</td>\n      <td>None</td>\n      <td>0.8</td>\n      <td>{'criterion': 'entropy', 'max_depth': 10, 'max...</td>\n      <td>...</td>\n      <td>0.008415</td>\n      <td>2</td>\n      <td>0.963004</td>\n      <td>0.961154</td>\n      <td>0.957085</td>\n      <td>0.964854</td>\n      <td>0.959320</td>\n      <td>0.961083</td>\n      <td>0.002721</td>\n      <td>3</td>\n    </tr>\n    <tr>\n      <th>11</th>\n      <td>9.732733</td>\n      <td>0.186359</td>\n      <td>0.075410</td>\n      <td>0.007375</td>\n      <td>log_loss</td>\n      <td>10</td>\n      <td>0.4</td>\n      <td>None</td>\n      <td>0.8</td>\n      <td>{'criterion': 'log_loss', 'max_depth': 10, 'ma...</td>\n      <td>...</td>\n      <td>0.009355</td>\n      <td>6</td>\n      <td>0.960044</td>\n      <td>0.961524</td>\n      <td>0.951905</td>\n      <td>0.961894</td>\n      <td>0.955621</td>\n      <td>0.958198</td>\n      <td>0.003857</td>\n      <td>4</td>\n    </tr>\n    <tr>\n      <th>12</th>\n      <td>6.091851</td>\n      <td>0.082454</td>\n      <td>0.067150</td>\n      <td>0.005842</td>\n      <td>entropy</td>\n      <td>12</td>\n      <td>0.5</td>\n      <td>7</td>\n      <td>0.6</td>\n      <td>{'criterion': 'entropy', 'max_depth': 12, 'max...</td>\n      <td>...</td>\n      <td>0.015007</td>\n      <td>18</td>\n      <td>0.834628</td>\n      <td>0.839808</td>\n      <td>0.839068</td>\n      <td>0.841287</td>\n      <td>0.838018</td>\n      <td>0.838562</td>\n      <td>0.002236</td>\n      <td>18</td>\n    </tr>\n    <tr>\n      <th>13</th>\n      <td>8.811087</td>\n      <td>0.196463</td>\n      <td>0.087097</td>\n      <td>0.037037</td>\n      <td>gini</td>\n      <td>5</td>\n      <td>0.6</td>\n      <td>8</td>\n      <td>0.8</td>\n      <td>{'criterion': 'gini', 'max_depth': 5, 'max_fea...</td>\n      <td>...</td>\n      <td>0.010507</td>\n      <td>14</td>\n      <td>0.860155</td>\n      <td>0.867185</td>\n      <td>0.847207</td>\n      <td>0.849797</td>\n      <td>0.852071</td>\n      <td>0.855283</td>\n      <td>0.007362</td>\n      <td>15</td>\n    </tr>\n    <tr>\n      <th>14</th>\n      <td>10.910132</td>\n      <td>0.125765</td>\n      <td>0.073852</td>\n      <td>0.006665</td>\n      <td>entropy</td>\n      <td>8</td>\n      <td>0.5</td>\n      <td>None</td>\n      <td>0.8</td>\n      <td>{'criterion': 'entropy', 'max_depth': 8, 'max_...</td>\n      <td>...</td>\n      <td>0.004679</td>\n      <td>9</td>\n      <td>0.935997</td>\n      <td>0.940437</td>\n      <td>0.936367</td>\n      <td>0.941916</td>\n      <td>0.944896</td>\n      <td>0.939923</td>\n      <td>0.003377</td>\n      <td>8</td>\n    </tr>\n    <tr>\n      <th>15</th>\n      <td>7.213835</td>\n      <td>0.086545</td>\n      <td>0.068852</td>\n      <td>0.004424</td>\n      <td>entropy</td>\n      <td>5</td>\n      <td>0.5</td>\n      <td>10</td>\n      <td>0.7</td>\n      <td>{'criterion': 'entropy', 'max_depth': 5, 'max_...</td>\n      <td>...</td>\n      <td>0.013822</td>\n      <td>12</td>\n      <td>0.858306</td>\n      <td>0.859785</td>\n      <td>0.853496</td>\n      <td>0.853496</td>\n      <td>0.856509</td>\n      <td>0.856318</td>\n      <td>0.002527</td>\n      <td>14</td>\n    </tr>\n    <tr>\n      <th>16</th>\n      <td>4.568412</td>\n      <td>0.053307</td>\n      <td>0.070858</td>\n      <td>0.004431</td>\n      <td>log_loss</td>\n      <td>10</td>\n      <td>0.2</td>\n      <td>None</td>\n      <td>0.7</td>\n      <td>{'criterion': 'log_loss', 'max_depth': 10, 'ma...</td>\n      <td>...</td>\n      <td>0.004442</td>\n      <td>8</td>\n      <td>0.952645</td>\n      <td>0.955975</td>\n      <td>0.944136</td>\n      <td>0.952275</td>\n      <td>0.948964</td>\n      <td>0.950799</td>\n      <td>0.004003</td>\n      <td>7</td>\n    </tr>\n    <tr>\n      <th>17</th>\n      <td>9.754928</td>\n      <td>0.066753</td>\n      <td>0.076334</td>\n      <td>0.015049</td>\n      <td>entropy</td>\n      <td>10</td>\n      <td>0.3</td>\n      <td>None</td>\n      <td>1.0</td>\n      <td>{'criterion': 'entropy', 'max_depth': 10, 'max...</td>\n      <td>...</td>\n      <td>0.002724</td>\n      <td>5</td>\n      <td>0.964484</td>\n      <td>0.964854</td>\n      <td>0.959304</td>\n      <td>0.966704</td>\n      <td>0.957470</td>\n      <td>0.962563</td>\n      <td>0.003539</td>\n      <td>2</td>\n    </tr>\n    <tr>\n      <th>18</th>\n      <td>9.215417</td>\n      <td>0.088663</td>\n      <td>0.075334</td>\n      <td>0.003921</td>\n      <td>entropy</td>\n      <td>10</td>\n      <td>0.4</td>\n      <td>None</td>\n      <td>0.7</td>\n      <td>{'criterion': 'entropy', 'max_depth': 10, 'max...</td>\n      <td>...</td>\n      <td>0.005559</td>\n      <td>4</td>\n      <td>0.955235</td>\n      <td>0.960784</td>\n      <td>0.954495</td>\n      <td>0.959674</td>\n      <td>0.956361</td>\n      <td>0.957310</td>\n      <td>0.002482</td>\n      <td>5</td>\n    </tr>\n    <tr>\n      <th>19</th>\n      <td>13.412078</td>\n      <td>0.172079</td>\n      <td>0.070082</td>\n      <td>0.005680</td>\n      <td>log_loss</td>\n      <td>11</td>\n      <td>0.6</td>\n      <td>None</td>\n      <td>0.7</td>\n      <td>{'criterion': 'log_loss', 'max_depth': 11, 'ma...</td>\n      <td>...</td>\n      <td>0.005287</td>\n      <td>1</td>\n      <td>0.969293</td>\n      <td>0.967074</td>\n      <td>0.964114</td>\n      <td>0.965964</td>\n      <td>0.963757</td>\n      <td>0.966040</td>\n      <td>0.002029</td>\n      <td>1</td>\n    </tr>\n  </tbody>\n</table>\n<p>20 rows × 26 columns</p>\n</div>"
     },
     "execution_count": 135,
     "metadata": {},
     "output_type": "execute_result"
    }
   ],
   "source": [
    "pd.DataFrame(clf.cv_results_)"
   ],
   "metadata": {
    "collapsed": false
   }
  },
  {
   "cell_type": "code",
   "execution_count": 138,
   "outputs": [
    {
     "data": {
      "text/plain": "OrderedDict([('criterion', 'log_loss'),\n             ('max_depth', 11),\n             ('max_features', 0.6),\n             ('max_leaf_nodes', None),\n             ('max_samples', 0.7)])"
     },
     "execution_count": 138,
     "metadata": {},
     "output_type": "execute_result"
    }
   ],
   "source": [
    "parametros_optimizados = clf.best_params_\n",
    "parametros_optimizados"
   ],
   "metadata": {
    "collapsed": false
   }
  },
  {
   "cell_type": "code",
   "execution_count": 142,
   "outputs": [
    {
     "name": "stdout",
     "output_type": "stream",
     "text": [
      "0.963894643385617 0.8982248520710059\n"
     ]
    }
   ],
   "source": [
    "# Conjunto de entrenamiento\n",
    "y_predict = clf.predict(X_train)\n",
    "acc_train = accuracy_score(y_train, y_predict)\n",
    "# Conjunto de test\n",
    "y_predict_test = clf.predict(X_test)\n",
    "acc_test = accuracy_score(y_test, y_predict_test)\n",
    "print(acc_train, acc_test)"
   ],
   "metadata": {
    "collapsed": false
   }
  },
  {
   "cell_type": "code",
   "execution_count": 145,
   "outputs": [
    {
     "name": "stdout",
     "output_type": "stream",
     "text": [
      "0.9650784255696951 0.8946745562130177\n"
     ]
    }
   ],
   "source": [
    "\n",
    "model = RandomForestClassifier(**parametros_optimizados)\n",
    "params_dict = model.get_params(deep=True)\n",
    "# print(params_dict) # parametros por defecto\n",
    "model.fit(X_train, y_train)\n",
    "# Conjunto de entrenamiento\n",
    "y_predict = model.predict(X_train)\n",
    "acc_train = accuracy_score(y_train, y_predict)\n",
    "# Conjunto de test\n",
    "y_predict_test = model.predict(X_test)\n",
    "acc_test = accuracy_score(y_test, y_predict_test)\n",
    "print(acc_train, acc_test)"
   ],
   "metadata": {
    "collapsed": false
   }
  }
 ],
 "metadata": {
  "kernelspec": {
   "display_name": "Python 3",
   "language": "python",
   "name": "python3"
  },
  "language_info": {
   "codemirror_mode": {
    "name": "ipython",
    "version": 2
   },
   "file_extension": ".py",
   "mimetype": "text/x-python",
   "name": "python",
   "nbconvert_exporter": "python",
   "pygments_lexer": "ipython2",
   "version": "2.7.6"
  }
 },
 "nbformat": 4,
 "nbformat_minor": 0
}
