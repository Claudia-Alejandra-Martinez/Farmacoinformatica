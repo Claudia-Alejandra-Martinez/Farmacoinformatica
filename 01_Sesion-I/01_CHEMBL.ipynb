{
 "cells": [
  {
   "cell_type": "markdown",
   "source": [
    "# Práctica 1: Adquirir y analizar datos de ChEMBL\n",
    "\n",
    "## Conceptos a trabajar\n",
    "**Uniprot:** Es una base de datos que busca proporcionar a la comunidad científica un recurso integral, de alta calidad y de libre acceso de secuencias de proteínas e información funcional. Referencia: [Uniprot](https://www.uniprot.org/).\n",
    "\n",
    "**ChEMBL:** Es una base de datos que contiene moléculas bioactivas, reune datos químicos, de bioactividad y genómicos. Refernecia: [ChEMBL](https://www.ebi.ac.uk/chembl/)\n",
    "\n",
    "**Half-maximal inhibitory concentration (IC50):** Expresa la cantidad de fármaco necesaria para inhibir un proceso biológico a la mitad del valor no inhibido, es la medida más utilizada de la eficacia o potencia de un fármaco. Referencia: [Aykul, S. y Martínez-Hackert, E. (2016)](https://doi.org/10.1016/j.ab.2016.06.025)\n",
    "\n",
    "**pIC50:** Es el logaritmo negativo en base diez del IC50, cuando las unidades de son **molares (M)**. Se usa para facilitar la comparación entre distintos IC50. También, es importante saber que a mayor pIC50 el fármaco tiene una mayor eficacia o mayor potencial.\n",
    "\n",
    "**Half maximal effective concentration (EC50):** Es la concentración efectiva para producir el 50 % de la respuesta máxima, se usa para comparar las potencias de los fármacos. También, es importante saber que a menor sea el EC50 más potente será el fármaco. A esta pedida también se le calcula el logaritmo negativo en base diez **(pEC50)** para facilitar su comprensión. Referencia: [Waller, D., & Sampson, A. (2018)](https://doi.org/10.1016/B978-0-7020-7167-6.00001-4)\n",
    "\n",
    "**Inhibitor constant (Ki):** Es la concentración requerida para producir la mitad de la inhibición máxima, es útil para describir la afinidad de unión de una molécula a un receptor.\n",
    "\n",
    "**SMILES (Simplified Molecular-Input Line-Entry System):** Es una notación de línea para describir estructuras químicas utilizando cadenas ASCII cortas. Referencia: [Daylight Chemical Information Systems](https://www.daylight.com/smiles/)"
   ],
   "metadata": {
    "collapsed": false
   }
  },
  {
   "cell_type": "markdown",
   "source": [
    "# Proteína a estudiar\n",
    "**UniprotID**: P49841\n",
    "**Name**: Glycogen synthase kinase-3 beta\n",
    "**Protein Target Classification**: Enzyme > Kinase > Protein Kinase > CMGC protein kinase group > CMGC protein kinase GSK family\n",
    "\n",
    "Debemos buscar el ID del target de interes en la base de datos Uniprot, que en este caso es Glucógeno sintasa quinasa-3 beta, ID: [P49841](https://www.uniprot.org/uniprot/P49841)."
   ],
   "metadata": {
    "collapsed": false
   }
  },
  {
   "cell_type": "code",
   "execution_count": 3,
   "outputs": [],
   "source": [
    "# Librería necesaria para comunicarse con CHEMBL\n",
    "from chembl_webresource_client.new_client import new_client\n",
    "# libreria para trabajar con base de datos (Dataframes)\n",
    "import pandas as pd\n",
    "\n",
    "# Declaración de variables para instanciar el cliente de CHEMBL y acceder a la base de datos\n",
    "targets = new_client.target\n",
    "compounds = new_client.molecule\n",
    "bioactivities = new_client.activity"
   ],
   "metadata": {
    "collapsed": false
   }
  },
  {
   "cell_type": "code",
   "execution_count": 7,
   "outputs": [
    {
     "data": {
      "text/plain": "       organism                               pref_name target_chembl_id  \\\n0  Homo sapiens         Glycogen synthase kinase-3 beta        CHEMBL262   \n1  Homo sapiens              Glycogen synthase kinase-3    CHEMBL2095188   \n2  Homo sapiens  Axin-1/Glycogen synthase kinase-3 beta    CHEMBL3883309   \n\n                   target_type  \n0               SINGLE PROTEIN  \n1               PROTEIN FAMILY  \n2  PROTEIN-PROTEIN INTERACTION  ",
      "text/html": "<div>\n<style scoped>\n    .dataframe tbody tr th:only-of-type {\n        vertical-align: middle;\n    }\n\n    .dataframe tbody tr th {\n        vertical-align: top;\n    }\n\n    .dataframe thead th {\n        text-align: right;\n    }\n</style>\n<table border=\"1\" class=\"dataframe\">\n  <thead>\n    <tr style=\"text-align: right;\">\n      <th></th>\n      <th>organism</th>\n      <th>pref_name</th>\n      <th>target_chembl_id</th>\n      <th>target_type</th>\n    </tr>\n  </thead>\n  <tbody>\n    <tr>\n      <th>0</th>\n      <td>Homo sapiens</td>\n      <td>Glycogen synthase kinase-3 beta</td>\n      <td>CHEMBL262</td>\n      <td>SINGLE PROTEIN</td>\n    </tr>\n    <tr>\n      <th>1</th>\n      <td>Homo sapiens</td>\n      <td>Glycogen synthase kinase-3</td>\n      <td>CHEMBL2095188</td>\n      <td>PROTEIN FAMILY</td>\n    </tr>\n    <tr>\n      <th>2</th>\n      <td>Homo sapiens</td>\n      <td>Axin-1/Glycogen synthase kinase-3 beta</td>\n      <td>CHEMBL3883309</td>\n      <td>PROTEIN-PROTEIN INTERACTION</td>\n    </tr>\n  </tbody>\n</table>\n</div>"
     },
     "execution_count": 7,
     "metadata": {},
     "output_type": "execute_result"
    }
   ],
   "source": [
    "uniprot_id = 'P49841'\n",
    "# Adquirir información de ChEMBL que sea de interés\n",
    "target_P49841 = targets.get(target_components__accession=uniprot_id) \\\n",
    "                       .only('target_chembl_id', 'organism', 'pref_name', 'target_type')\n",
    "pd.DataFrame(target_P49841)"
   ],
   "metadata": {
    "collapsed": false
   }
  },
  {
   "cell_type": "markdown",
   "source": [
    "Vamos a seleccionar el target de interés (`CHEMBL262`) y guardar el ChEMBL-ID"
   ],
   "metadata": {
    "collapsed": false
   }
  },
  {
   "cell_type": "code",
   "execution_count": 9,
   "outputs": [
    {
     "name": "stdout",
     "output_type": "stream",
     "text": [
      "{'organism': 'Homo sapiens', 'pref_name': 'Glycogen synthase kinase-3 beta', 'target_chembl_id': 'CHEMBL262', 'target_type': 'SINGLE PROTEIN'}\n",
      "ChEMBL ID: CHEMBL262\n"
     ]
    }
   ],
   "source": [
    "# Seleccionar el target de interes\n",
    "target = target_P49841[0]\n",
    "print(target)\n",
    "# Guardar el ChEMBL-ID\n",
    "chembl_id = target['target_chembl_id']\n",
    "print(f'ChEMBL ID: {chembl_id}')"
   ],
   "metadata": {
    "collapsed": false
   }
  },
  {
   "cell_type": "markdown",
   "source": [
    "## Datos de bioactividad\n",
    "\n",
    "Ahora consultamos los datos de bioactividad que son de interés. Los pasos a seguir son:\n",
    "1. Descargar y filtrar bioactividades para el target\n",
    "    Los datos de bioactividad se van a filtrar de la siguiente manera:\n",
    "        * Tipo de bioactividad: IC50, EC50, Ki\n",
    "        * Relación: \"=\"\n",
    "2. Convertir los datos descargados en un data frame:\n",
    "    Las columnas de interés son: `molecule_chembl_id`, `type`, `relation`, `pchembl_value`"
   ],
   "metadata": {
    "collapsed": false
   }
  },
  {
   "cell_type": "code",
   "execution_count": 113,
   "outputs": [
    {
     "data": {
      "text/plain": "     molecule_chembl_id              type relation                 value  \\\n0          CHEMBL322970              IC50        =                  0.38   \n1          CHEMBL322970              EC50        =                  45.6   \n2          CHEMBL322970              EC50        =                 30.62   \n3          CHEMBL322970  Fold stimulation        =                   1.3   \n4          CHEMBL112564              IC50        =                  6.92   \n...                 ...               ...      ...                   ...   \n6863       CHEMBL102714              IC50        =  0.028999999999999998   \n6864      CHEMBL4868123               INH        =                  13.0   \n6865       CHEMBL156277              IC50        =                  14.0   \n6866      CHEMBL4875188              IC50        =                  36.0   \n6867       CHEMBL388978              IC50        =                   5.1   \n\n     units pchembl_value  \n0       uM          6.42  \n1       uM          4.34  \n2       uM          4.51  \n3     None          None  \n4       uM          5.16  \n...    ...           ...  \n6863    uM          7.54  \n6864     %          None  \n6865    nM          7.85  \n6866    nM          7.44  \n6867    nM          8.29  \n\n[6868 rows x 6 columns]",
      "text/html": "<div>\n<style scoped>\n    .dataframe tbody tr th:only-of-type {\n        vertical-align: middle;\n    }\n\n    .dataframe tbody tr th {\n        vertical-align: top;\n    }\n\n    .dataframe thead th {\n        text-align: right;\n    }\n</style>\n<table border=\"1\" class=\"dataframe\">\n  <thead>\n    <tr style=\"text-align: right;\">\n      <th></th>\n      <th>molecule_chembl_id</th>\n      <th>type</th>\n      <th>relation</th>\n      <th>value</th>\n      <th>units</th>\n      <th>pchembl_value</th>\n    </tr>\n  </thead>\n  <tbody>\n    <tr>\n      <th>0</th>\n      <td>CHEMBL322970</td>\n      <td>IC50</td>\n      <td>=</td>\n      <td>0.38</td>\n      <td>uM</td>\n      <td>6.42</td>\n    </tr>\n    <tr>\n      <th>1</th>\n      <td>CHEMBL322970</td>\n      <td>EC50</td>\n      <td>=</td>\n      <td>45.6</td>\n      <td>uM</td>\n      <td>4.34</td>\n    </tr>\n    <tr>\n      <th>2</th>\n      <td>CHEMBL322970</td>\n      <td>EC50</td>\n      <td>=</td>\n      <td>30.62</td>\n      <td>uM</td>\n      <td>4.51</td>\n    </tr>\n    <tr>\n      <th>3</th>\n      <td>CHEMBL322970</td>\n      <td>Fold stimulation</td>\n      <td>=</td>\n      <td>1.3</td>\n      <td>None</td>\n      <td>None</td>\n    </tr>\n    <tr>\n      <th>4</th>\n      <td>CHEMBL112564</td>\n      <td>IC50</td>\n      <td>=</td>\n      <td>6.92</td>\n      <td>uM</td>\n      <td>5.16</td>\n    </tr>\n    <tr>\n      <th>...</th>\n      <td>...</td>\n      <td>...</td>\n      <td>...</td>\n      <td>...</td>\n      <td>...</td>\n      <td>...</td>\n    </tr>\n    <tr>\n      <th>6863</th>\n      <td>CHEMBL102714</td>\n      <td>IC50</td>\n      <td>=</td>\n      <td>0.028999999999999998</td>\n      <td>uM</td>\n      <td>7.54</td>\n    </tr>\n    <tr>\n      <th>6864</th>\n      <td>CHEMBL4868123</td>\n      <td>INH</td>\n      <td>=</td>\n      <td>13.0</td>\n      <td>%</td>\n      <td>None</td>\n    </tr>\n    <tr>\n      <th>6865</th>\n      <td>CHEMBL156277</td>\n      <td>IC50</td>\n      <td>=</td>\n      <td>14.0</td>\n      <td>nM</td>\n      <td>7.85</td>\n    </tr>\n    <tr>\n      <th>6866</th>\n      <td>CHEMBL4875188</td>\n      <td>IC50</td>\n      <td>=</td>\n      <td>36.0</td>\n      <td>nM</td>\n      <td>7.44</td>\n    </tr>\n    <tr>\n      <th>6867</th>\n      <td>CHEMBL388978</td>\n      <td>IC50</td>\n      <td>=</td>\n      <td>5.1</td>\n      <td>nM</td>\n      <td>8.29</td>\n    </tr>\n  </tbody>\n</table>\n<p>6868 rows × 6 columns</p>\n</div>"
     },
     "execution_count": 113,
     "metadata": {},
     "output_type": "execute_result"
    }
   ],
   "source": [
    "# Primero, descargamos toda la base de datos\n",
    "bioact_temp = bioactivities.filter(target_chembl_id = chembl_id)\\\n",
    "                      .filter(relation = '=') \\\n",
    "                      .only('molecule_chembl_id', 'type', 'relation', 'standar_value', 'standar_units', 'pchembl_value', )\n",
    "df_bioact_temp = pd.DataFrame(bioact_temp)\n",
    "# se organizan las columnas\n",
    "df_bioact_temp = df_bioact_temp[['molecule_chembl_id', 'type', 'relation', 'value', 'units', 'pchembl_value']]\n",
    "df_bioact_temp\n",
    "# La primera vez que se ejecuta esta celda celda puede tardar ~5-10 minutos"
   ],
   "metadata": {
    "collapsed": false
   }
  },
  {
   "cell_type": "markdown",
   "source": [
    "Ya que la columna *realtion* tiene solo un tipo (esto se debe al filtro incial de la base de datos), podemos quitarla:"
   ],
   "metadata": {
    "collapsed": false
   }
  },
  {
   "cell_type": "code",
   "execution_count": 114,
   "outputs": [
    {
     "data": {
      "text/plain": "  molecule_chembl_id              type  value units pchembl_value\n0       CHEMBL322970              IC50   0.38    uM          6.42\n1       CHEMBL322970              EC50   45.6    uM          4.34\n2       CHEMBL322970              EC50  30.62    uM          4.51\n3       CHEMBL322970  Fold stimulation    1.3  None          None\n4       CHEMBL112564              IC50   6.92    uM          5.16",
      "text/html": "<div>\n<style scoped>\n    .dataframe tbody tr th:only-of-type {\n        vertical-align: middle;\n    }\n\n    .dataframe tbody tr th {\n        vertical-align: top;\n    }\n\n    .dataframe thead th {\n        text-align: right;\n    }\n</style>\n<table border=\"1\" class=\"dataframe\">\n  <thead>\n    <tr style=\"text-align: right;\">\n      <th></th>\n      <th>molecule_chembl_id</th>\n      <th>type</th>\n      <th>value</th>\n      <th>units</th>\n      <th>pchembl_value</th>\n    </tr>\n  </thead>\n  <tbody>\n    <tr>\n      <th>0</th>\n      <td>CHEMBL322970</td>\n      <td>IC50</td>\n      <td>0.38</td>\n      <td>uM</td>\n      <td>6.42</td>\n    </tr>\n    <tr>\n      <th>1</th>\n      <td>CHEMBL322970</td>\n      <td>EC50</td>\n      <td>45.6</td>\n      <td>uM</td>\n      <td>4.34</td>\n    </tr>\n    <tr>\n      <th>2</th>\n      <td>CHEMBL322970</td>\n      <td>EC50</td>\n      <td>30.62</td>\n      <td>uM</td>\n      <td>4.51</td>\n    </tr>\n    <tr>\n      <th>3</th>\n      <td>CHEMBL322970</td>\n      <td>Fold stimulation</td>\n      <td>1.3</td>\n      <td>None</td>\n      <td>None</td>\n    </tr>\n    <tr>\n      <th>4</th>\n      <td>CHEMBL112564</td>\n      <td>IC50</td>\n      <td>6.92</td>\n      <td>uM</td>\n      <td>5.16</td>\n    </tr>\n  </tbody>\n</table>\n</div>"
     },
     "execution_count": 114,
     "metadata": {},
     "output_type": "execute_result"
    }
   ],
   "source": [
    "df_bioact_temp.pop('relation')\n",
    "df_bioact_temp.head()"
   ],
   "metadata": {
    "collapsed": false
   }
  },
  {
   "cell_type": "markdown",
   "source": [],
   "metadata": {
    "collapsed": false
   }
  },
  {
   "cell_type": "markdown",
   "source": [
    "# Explorar los datos adquiridos\n",
    "## Tipo de actividad\n",
    "Podemos ver el tipo de actividad descargada (filtrar por _type_)"
   ],
   "metadata": {
    "collapsed": false
   }
  },
  {
   "cell_type": "code",
   "execution_count": 116,
   "outputs": [
    {
     "data": {
      "text/plain": "IC50                      2707\nInhibition                 889\nINH                        877\npKi                        620\nActivity                   437\nResidual Activity          316\nKi                         289\npIC50                      262\nThermal melting change     156\nEC50                        69\nAC50                        39\nKd                          35\ndeltaT                      27\nIZ                          26\ndeltaTm                     26\nKd apparent                 25\nAC50_uM                     20\nResidual activity            9\nVmax                         8\nKm                           8\nEfficacy                     7\nFold stimulation             4\nResidual_activity            3\nIC                           3\nRatio                        1\nInihibition                  1\nSelectivity ratio            1\nLog IC50                     1\nSpecific activity            1\nRatio IC50                   1\nName: type, dtype: int64"
     },
     "execution_count": 116,
     "metadata": {},
     "output_type": "execute_result"
    }
   ],
   "source": [
    "df_bioact_temp.type.value_counts()"
   ],
   "metadata": {
    "collapsed": false
   }
  },
  {
   "cell_type": "markdown",
   "source": [
    "O realizar rápidamente un gráfico con la información filtrada"
   ],
   "metadata": {
    "collapsed": false
   }
  },
  {
   "cell_type": "code",
   "execution_count": 117,
   "outputs": [
    {
     "data": {
      "text/plain": "<AxesSubplot: >"
     },
     "execution_count": 117,
     "metadata": {},
     "output_type": "execute_result"
    },
    {
     "data": {
      "text/plain": "<Figure size 640x480 with 1 Axes>",
      "image/png": "[encoded data removed]"
     },
     "metadata": {},
     "output_type": "display_data"
    }
   ],
   "source": [
    "df_bioact_temp.type.value_counts().plot.barh()"
   ],
   "metadata": {
    "collapsed": false
   }
  },
  {
   "cell_type": "markdown",
   "source": [
    "Ahora, supongamos que queremos filtrar solamente la actividad **IC50**, **EC50** y **KI**"
   ],
   "metadata": {
    "collapsed": false
   }
  },
  {
   "cell_type": "code",
   "execution_count": 155,
   "outputs": [
    {
     "name": "stdout",
     "output_type": "stream",
     "text": [
      "Total de datos cargados: 3065\n"
     ]
    },
    {
     "data": {
      "text/plain": "  molecule_chembl_id  type  value units pchembl_value\n0       CHEMBL322970  IC50   0.38    uM          6.42\n1       CHEMBL322970  EC50   45.6    uM          4.34\n2       CHEMBL322970  EC50  30.62    uM          4.51\n4       CHEMBL112564  IC50   6.92    uM          5.16\n5       CHEMBL321421  IC50   0.41    uM          6.39",
      "text/html": "<div>\n<style scoped>\n    .dataframe tbody tr th:only-of-type {\n        vertical-align: middle;\n    }\n\n    .dataframe tbody tr th {\n        vertical-align: top;\n    }\n\n    .dataframe thead th {\n        text-align: right;\n    }\n</style>\n<table border=\"1\" class=\"dataframe\">\n  <thead>\n    <tr style=\"text-align: right;\">\n      <th></th>\n      <th>molecule_chembl_id</th>\n      <th>type</th>\n      <th>value</th>\n      <th>units</th>\n      <th>pchembl_value</th>\n    </tr>\n  </thead>\n  <tbody>\n    <tr>\n      <th>0</th>\n      <td>CHEMBL322970</td>\n      <td>IC50</td>\n      <td>0.38</td>\n      <td>uM</td>\n      <td>6.42</td>\n    </tr>\n    <tr>\n      <th>1</th>\n      <td>CHEMBL322970</td>\n      <td>EC50</td>\n      <td>45.6</td>\n      <td>uM</td>\n      <td>4.34</td>\n    </tr>\n    <tr>\n      <th>2</th>\n      <td>CHEMBL322970</td>\n      <td>EC50</td>\n      <td>30.62</td>\n      <td>uM</td>\n      <td>4.51</td>\n    </tr>\n    <tr>\n      <th>4</th>\n      <td>CHEMBL112564</td>\n      <td>IC50</td>\n      <td>6.92</td>\n      <td>uM</td>\n      <td>5.16</td>\n    </tr>\n    <tr>\n      <th>5</th>\n      <td>CHEMBL321421</td>\n      <td>IC50</td>\n      <td>0.41</td>\n      <td>uM</td>\n      <td>6.39</td>\n    </tr>\n  </tbody>\n</table>\n</div>"
     },
     "execution_count": 155,
     "metadata": {},
     "output_type": "execute_result"
    }
   ],
   "source": [
    "# Luego, filtramos por el tipo de actividad deseada\n",
    "df_bioact = df_bioact_temp[(df_bioact_temp['type'] == 'IC50') |\n",
    "                           (df_bioact_temp['type'] == 'EC50') |\n",
    "                           (df_bioact_temp['type'] == 'Ki')]\n",
    "print(f'Total de datos cargados: {len(df_bioact)}')\n",
    "# primeros compuestos del dataframe\n",
    "df_bioact.head()"
   ],
   "metadata": {
    "collapsed": false
   }
  },
  {
   "cell_type": "code",
   "execution_count": 156,
   "outputs": [
    {
     "data": {
      "text/plain": "IC50    2707\nKi       289\nEC50      69\nName: type, dtype: int64"
     },
     "execution_count": 156,
     "metadata": {},
     "output_type": "execute_result"
    }
   ],
   "source": [
    "grupo_actividad = df_bioact.type.value_counts()\n",
    "grupo_actividad"
   ],
   "metadata": {
    "collapsed": false
   }
  },
  {
   "cell_type": "code",
   "execution_count": 157,
   "outputs": [
    {
     "data": {
      "text/plain": "<AxesSubplot: >"
     },
     "execution_count": 157,
     "metadata": {},
     "output_type": "execute_result"
    },
    {
     "data": {
      "text/plain": "<Figure size 640x480 with 1 Axes>",
      "image/png": "[encoded data removed]"
     },
     "metadata": {},
     "output_type": "display_data"
    }
   ],
   "source": [
    "grupo_actividad.plot.bar()"
   ],
   "metadata": {
    "collapsed": false
   }
  },
  {
   "cell_type": "markdown",
   "source": [
    "## Unidades de medición\n",
    "Ahora exploremos un poco las unidades de medición de la bioactividad"
   ],
   "metadata": {
    "collapsed": false
   }
  },
  {
   "cell_type": "code",
   "execution_count": 158,
   "outputs": [
    {
     "data": {
      "text/plain": "uM        1593\nnM        1425\nmicroM      34\nmM           7\nM            1\npM           1\numol/L       1\nnmol/L       1\n10'-9M       1\n10^-9M       1\nName: units, dtype: int64"
     },
     "execution_count": 158,
     "metadata": {},
     "output_type": "execute_result"
    }
   ],
   "source": [
    "grupo_unidades = df_bioact.units.value_counts(dropna=False)\n",
    "grupo_unidades"
   ],
   "metadata": {
    "collapsed": false
   }
  },
  {
   "cell_type": "code",
   "execution_count": 159,
   "outputs": [
    {
     "data": {
      "text/plain": "<AxesSubplot: >"
     },
     "execution_count": 159,
     "metadata": {},
     "output_type": "execute_result"
    },
    {
     "data": {
      "text/plain": "<Figure size 640x480 with 1 Axes>",
      "image/png": "[encoded data removed]"
     },
     "metadata": {},
     "output_type": "display_data"
    }
   ],
   "source": [
    "grupo_unidades.plot.bar()"
   ],
   "metadata": {
    "collapsed": false
   }
  },
  {
   "cell_type": "markdown",
   "source": [
    "## Limpiar los datos\n",
    "Es posible que algunos compuestos tengan valores faltantes y también duplicados, ya que el mismo compuesto puede haber sido probado más de una vez (nosotros nos quedaremos solo con el que primero haya sido probado)"
   ],
   "metadata": {
    "collapsed": false
   }
  },
  {
   "cell_type": "code",
   "execution_count": 160,
   "outputs": [
    {
     "name": "stdout",
     "output_type": "stream",
     "text": [
      "Total de compuestos originales es: 3065\n"
     ]
    }
   ],
   "source": [
    "# Primero verificamos cuantos compuestos tenemos en total\n",
    "ori_len = len(df_bioact)\n",
    "print(f'Total de compuestos originales es: {ori_len}')"
   ],
   "metadata": {
    "collapsed": false
   }
  },
  {
   "cell_type": "code",
   "execution_count": 162,
   "outputs": [
    {
     "name": "stdout",
     "output_type": "stream",
     "text": [
      "Total de compuestos despues de eliminar aquellos con datos faltantes: 3042\n",
      "Total compuestos eliminados 0\n"
     ]
    }
   ],
   "source": [
    "# Se eliminan los compuestos que no tienen pChEMBL_value\n",
    "df_bioact = df_bioact.dropna(axis=0, how = 'any')\n",
    "new_len = len(df_bioact)\n",
    "print(f'Total de compuestos despues de eliminar aquellos con datos faltantes: {new_len}')\n",
    "# Se le resta al número total de compuestos el número total de compuestos al eliminar los que no tienen pChEMBL_value\n",
    "print(f'Total compuestos eliminados {ori_len - new_len}')\n",
    "ori_len = new_len"
   ],
   "metadata": {
    "collapsed": false
   }
  },
  {
   "cell_type": "code",
   "execution_count": 163,
   "outputs": [
    {
     "name": "stdout",
     "output_type": "stream",
     "text": [
      "Total de compuestos sin duplicados : 2605\n",
      "Total compuestos eliminados 437\n"
     ]
    }
   ],
   "source": [
    "# Se eliminan los compuestos duplicados y nos quedamos con el primer compuesto de la lista\n",
    "df_bioact = df_bioact.drop_duplicates('molecule_chembl_id', keep = 'first')\n",
    "new_len = len(df_bioact)\n",
    "print(f'Total de compuestos sin duplicados : {new_len}')\n",
    "# Se le resta al número total de compuestos al eliminar los que no tienen pChEMBL_value el número total de compuestos sin duplicados\n",
    "print(f'Total compuestos eliminados {ori_len - new_len}')\n",
    "ori_len = new_len"
   ],
   "metadata": {
    "collapsed": false
   }
  },
  {
   "cell_type": "markdown",
   "source": [
    "Ahora que hemos eliminado algunas filas restableceremos el índice para que este sea continuo"
   ],
   "metadata": {
    "collapsed": false
   }
  },
  {
   "cell_type": "code",
   "execution_count": 164,
   "outputs": [
    {
     "data": {
      "text/plain": "  molecule_chembl_id  type value units pchembl_value\n0       CHEMBL322970  IC50  0.38    uM          6.42\n4       CHEMBL112564  IC50  6.92    uM          5.16\n5       CHEMBL321421  IC50  0.41    uM          6.39\n6       CHEMBL388978  IC50  0.16    uM          6.80\n8       CHEMBL115875  IC50   9.6    uM          5.02",
      "text/html": "<div>\n<style scoped>\n    .dataframe tbody tr th:only-of-type {\n        vertical-align: middle;\n    }\n\n    .dataframe tbody tr th {\n        vertical-align: top;\n    }\n\n    .dataframe thead th {\n        text-align: right;\n    }\n</style>\n<table border=\"1\" class=\"dataframe\">\n  <thead>\n    <tr style=\"text-align: right;\">\n      <th></th>\n      <th>molecule_chembl_id</th>\n      <th>type</th>\n      <th>value</th>\n      <th>units</th>\n      <th>pchembl_value</th>\n    </tr>\n  </thead>\n  <tbody>\n    <tr>\n      <th>0</th>\n      <td>CHEMBL322970</td>\n      <td>IC50</td>\n      <td>0.38</td>\n      <td>uM</td>\n      <td>6.42</td>\n    </tr>\n    <tr>\n      <th>4</th>\n      <td>CHEMBL112564</td>\n      <td>IC50</td>\n      <td>6.92</td>\n      <td>uM</td>\n      <td>5.16</td>\n    </tr>\n    <tr>\n      <th>5</th>\n      <td>CHEMBL321421</td>\n      <td>IC50</td>\n      <td>0.41</td>\n      <td>uM</td>\n      <td>6.39</td>\n    </tr>\n    <tr>\n      <th>6</th>\n      <td>CHEMBL388978</td>\n      <td>IC50</td>\n      <td>0.16</td>\n      <td>uM</td>\n      <td>6.80</td>\n    </tr>\n    <tr>\n      <th>8</th>\n      <td>CHEMBL115875</td>\n      <td>IC50</td>\n      <td>9.6</td>\n      <td>uM</td>\n      <td>5.02</td>\n    </tr>\n  </tbody>\n</table>\n</div>"
     },
     "execution_count": 164,
     "metadata": {},
     "output_type": "execute_result"
    }
   ],
   "source": [
    "# El ínidce tiene saltos\n",
    "df_bioact.head()"
   ],
   "metadata": {
    "collapsed": false
   }
  },
  {
   "cell_type": "code",
   "execution_count": 165,
   "outputs": [
    {
     "data": {
      "text/plain": "  molecule_chembl_id  type value units pchembl_value\n0       CHEMBL322970  IC50  0.38    uM          6.42\n1       CHEMBL112564  IC50  6.92    uM          5.16\n2       CHEMBL321421  IC50  0.41    uM          6.39\n3       CHEMBL388978  IC50  0.16    uM          6.80\n4       CHEMBL115875  IC50   9.6    uM          5.02",
      "text/html": "<div>\n<style scoped>\n    .dataframe tbody tr th:only-of-type {\n        vertical-align: middle;\n    }\n\n    .dataframe tbody tr th {\n        vertical-align: top;\n    }\n\n    .dataframe thead th {\n        text-align: right;\n    }\n</style>\n<table border=\"1\" class=\"dataframe\">\n  <thead>\n    <tr style=\"text-align: right;\">\n      <th></th>\n      <th>molecule_chembl_id</th>\n      <th>type</th>\n      <th>value</th>\n      <th>units</th>\n      <th>pchembl_value</th>\n    </tr>\n  </thead>\n  <tbody>\n    <tr>\n      <th>0</th>\n      <td>CHEMBL322970</td>\n      <td>IC50</td>\n      <td>0.38</td>\n      <td>uM</td>\n      <td>6.42</td>\n    </tr>\n    <tr>\n      <th>1</th>\n      <td>CHEMBL112564</td>\n      <td>IC50</td>\n      <td>6.92</td>\n      <td>uM</td>\n      <td>5.16</td>\n    </tr>\n    <tr>\n      <th>2</th>\n      <td>CHEMBL321421</td>\n      <td>IC50</td>\n      <td>0.41</td>\n      <td>uM</td>\n      <td>6.39</td>\n    </tr>\n    <tr>\n      <th>3</th>\n      <td>CHEMBL388978</td>\n      <td>IC50</td>\n      <td>0.16</td>\n      <td>uM</td>\n      <td>6.80</td>\n    </tr>\n    <tr>\n      <th>4</th>\n      <td>CHEMBL115875</td>\n      <td>IC50</td>\n      <td>9.6</td>\n      <td>uM</td>\n      <td>5.02</td>\n    </tr>\n  </tbody>\n</table>\n</div>"
     },
     "execution_count": 165,
     "metadata": {},
     "output_type": "execute_result"
    }
   ],
   "source": [
    "df_bioact.reset_index(drop=True, inplace=True)\n",
    "df_bioact.head()"
   ],
   "metadata": {
    "collapsed": false
   }
  },
  {
   "cell_type": "markdown",
   "source": [
    "## Histograma del pchembl_value\n",
    "La columna `pchembl_value` maneja un valor _común_ el cual se puede analizar un poco.\n",
    "Antes de realizar el histograma debemos cambiar el tipo de la variable, pues esta como `string`"
   ],
   "metadata": {
    "collapsed": false
   }
  },
  {
   "cell_type": "code",
   "execution_count": 166,
   "outputs": [
    {
     "name": "stdout",
     "output_type": "stream",
     "text": [
      "6.42 <class 'str'>\n"
     ]
    }
   ],
   "source": [
    "# Primer valor:\n",
    "value = df_bioact.pchembl_value[0]\n",
    "print(value, type(value))"
   ],
   "metadata": {
    "collapsed": false
   }
  },
  {
   "cell_type": "markdown",
   "source": [
    "Colo la columna `pchembl_value` tiene valores como texto, se deben convetir a valores numéricos"
   ],
   "metadata": {
    "collapsed": false
   }
  },
  {
   "cell_type": "code",
   "execution_count": 167,
   "outputs": [
    {
     "name": "stdout",
     "output_type": "stream",
     "text": [
      "6.42 <class 'numpy.float64'>\n"
     ]
    }
   ],
   "source": [
    "# Cambiar de str a float la columna pchembl_value\n",
    "df_bioact = df_bioact.astype({'pchembl_value': 'float'})\n",
    "value = df_bioact.pchembl_value[0]\n",
    "print(value, type(value))"
   ],
   "metadata": {
    "collapsed": false
   }
  },
  {
   "cell_type": "code",
   "execution_count": 168,
   "outputs": [
    {
     "data": {
      "text/plain": "molecule_chembl_id     object\ntype                   object\nvalue                  object\nunits                  object\npchembl_value         float64\ndtype: object"
     },
     "execution_count": 168,
     "metadata": {},
     "output_type": "execute_result"
    }
   ],
   "source": [
    "df_bioact.dtypes"
   ],
   "metadata": {
    "collapsed": false
   }
  },
  {
   "cell_type": "markdown",
   "source": [
    "Ahora se puede hacar el instograma de los valores de la columna `pchembl_value`"
   ],
   "metadata": {
    "collapsed": false
   }
  },
  {
   "cell_type": "code",
   "execution_count": 172,
   "outputs": [
    {
     "data": {
      "text/plain": "array([[<AxesSubplot: title={'center': 'pchembl_value'}>]], dtype=object)"
     },
     "execution_count": 172,
     "metadata": {},
     "output_type": "execute_result"
    },
    {
     "data": {
      "text/plain": "<Figure size 640x480 with 1 Axes>",
      "image/png": "[encoded data removed]"
     },
     "metadata": {},
     "output_type": "display_data"
    }
   ],
   "source": [
    "df_bioact.hist(column='pchembl_value', bins=20)"
   ],
   "metadata": {
    "collapsed": false
   }
  },
  {
   "cell_type": "markdown",
   "source": [
    "## Organizar los datos\n",
    "Vamos a organizar el DataFrame de mayor a menor pchembl_value."
   ],
   "metadata": {
    "collapsed": false
   }
  },
  {
   "cell_type": "code",
   "execution_count": 173,
   "outputs": [
    {
     "data": {
      "text/plain": "  molecule_chembl_id  type    value units  pchembl_value\n0      CHEMBL2386094  IC50    0.013    nM          10.89\n1      CHEMBL4084855  IC50      0.1    nM          10.00\n2      CHEMBL3895998  IC50      0.1    nM          10.00\n3       CHEMBL564450  IC50  0.00014    uM           9.85\n4      CHEMBL4077376  IC50      0.2    nM           9.70",
      "text/html": "<div>\n<style scoped>\n    .dataframe tbody tr th:only-of-type {\n        vertical-align: middle;\n    }\n\n    .dataframe tbody tr th {\n        vertical-align: top;\n    }\n\n    .dataframe thead th {\n        text-align: right;\n    }\n</style>\n<table border=\"1\" class=\"dataframe\">\n  <thead>\n    <tr style=\"text-align: right;\">\n      <th></th>\n      <th>molecule_chembl_id</th>\n      <th>type</th>\n      <th>value</th>\n      <th>units</th>\n      <th>pchembl_value</th>\n    </tr>\n  </thead>\n  <tbody>\n    <tr>\n      <th>0</th>\n      <td>CHEMBL2386094</td>\n      <td>IC50</td>\n      <td>0.013</td>\n      <td>nM</td>\n      <td>10.89</td>\n    </tr>\n    <tr>\n      <th>1</th>\n      <td>CHEMBL4084855</td>\n      <td>IC50</td>\n      <td>0.1</td>\n      <td>nM</td>\n      <td>10.00</td>\n    </tr>\n    <tr>\n      <th>2</th>\n      <td>CHEMBL3895998</td>\n      <td>IC50</td>\n      <td>0.1</td>\n      <td>nM</td>\n      <td>10.00</td>\n    </tr>\n    <tr>\n      <th>3</th>\n      <td>CHEMBL564450</td>\n      <td>IC50</td>\n      <td>0.00014</td>\n      <td>uM</td>\n      <td>9.85</td>\n    </tr>\n    <tr>\n      <th>4</th>\n      <td>CHEMBL4077376</td>\n      <td>IC50</td>\n      <td>0.2</td>\n      <td>nM</td>\n      <td>9.70</td>\n    </tr>\n  </tbody>\n</table>\n</div>"
     },
     "execution_count": 173,
     "metadata": {},
     "output_type": "execute_result"
    }
   ],
   "source": [
    "# Organizamos de mayor a menor pchembl_value\n",
    "df_bioact.sort_values(by=\"pchembl_value\", ascending=False, inplace=True)\n",
    "# Restablecemos el índice\n",
    "df_bioact.reset_index(drop=True, inplace=True)\n",
    "# Imprimimos los primeros datos del Dataframe\n",
    "df_bioact.head()"
   ],
   "metadata": {
    "collapsed": false
   }
  },
  {
   "cell_type": "markdown",
   "source": [
    "## Guardar y cargar los datos\n",
    "Para continuar usando el Data Frame en la práctica sin necesidad de siempre estarnos conectando a ChEMBL, vamos a guardar el Data Frame obtenido como un archivo separado por comas (data/compuestos_uniprot_id.csv)"
   ],
   "metadata": {
    "collapsed": false
   }
  },
  {
   "cell_type": "code",
   "execution_count": 176,
   "outputs": [],
   "source": [
    "df_bioact.to_csv(f\"./data/compuestos_{uniprot_id}.csv\", index=0)"
   ],
   "metadata": {
    "collapsed": false
   }
  },
  {
   "cell_type": "markdown",
   "source": [
    "En adelante, si queremos utilizar el Dataframe, podemos cargar el archivo guardado"
   ],
   "metadata": {
    "collapsed": false
   }
  },
  {
   "cell_type": "code",
   "execution_count": 179,
   "outputs": [
    {
     "data": {
      "text/plain": "  molecule_chembl_id  type    value units  pchembl_value\n0      CHEMBL2386094  IC50  0.01300    nM          10.89\n1      CHEMBL4084855  IC50  0.10000    nM          10.00\n2      CHEMBL3895998  IC50  0.10000    nM          10.00\n3       CHEMBL564450  IC50  0.00014    uM           9.85\n4      CHEMBL4077376  IC50  0.20000    nM           9.70",
      "text/html": "<div>\n<style scoped>\n    .dataframe tbody tr th:only-of-type {\n        vertical-align: middle;\n    }\n\n    .dataframe tbody tr th {\n        vertical-align: top;\n    }\n\n    .dataframe thead th {\n        text-align: right;\n    }\n</style>\n<table border=\"1\" class=\"dataframe\">\n  <thead>\n    <tr style=\"text-align: right;\">\n      <th></th>\n      <th>molecule_chembl_id</th>\n      <th>type</th>\n      <th>value</th>\n      <th>units</th>\n      <th>pchembl_value</th>\n    </tr>\n  </thead>\n  <tbody>\n    <tr>\n      <th>0</th>\n      <td>CHEMBL2386094</td>\n      <td>IC50</td>\n      <td>0.01300</td>\n      <td>nM</td>\n      <td>10.89</td>\n    </tr>\n    <tr>\n      <th>1</th>\n      <td>CHEMBL4084855</td>\n      <td>IC50</td>\n      <td>0.10000</td>\n      <td>nM</td>\n      <td>10.00</td>\n    </tr>\n    <tr>\n      <th>2</th>\n      <td>CHEMBL3895998</td>\n      <td>IC50</td>\n      <td>0.10000</td>\n      <td>nM</td>\n      <td>10.00</td>\n    </tr>\n    <tr>\n      <th>3</th>\n      <td>CHEMBL564450</td>\n      <td>IC50</td>\n      <td>0.00014</td>\n      <td>uM</td>\n      <td>9.85</td>\n    </tr>\n    <tr>\n      <th>4</th>\n      <td>CHEMBL4077376</td>\n      <td>IC50</td>\n      <td>0.20000</td>\n      <td>nM</td>\n      <td>9.70</td>\n    </tr>\n  </tbody>\n</table>\n</div>"
     },
     "execution_count": 179,
     "metadata": {},
     "output_type": "execute_result"
    }
   ],
   "source": [
    "df_bioact = pd.read_csv(f\"data/compuestos_{uniprot_id}.csv\")\n",
    "df_bioact.head()"
   ],
   "metadata": {
    "collapsed": false
   }
  },
  {
   "cell_type": "markdown",
   "source": [
    "# Datos de los compuestos\n",
    "\n",
    "A continuación vamos a obtener los datos de las moléculas que estan almacenados dentro de cada molecule_chembl_id"
   ],
   "metadata": {
    "collapsed": false
   }
  },
  {
   "cell_type": "code",
   "execution_count": 181,
   "outputs": [],
   "source": [
    "# Cargamos el archivo antes guardado\n",
    "df_bioact = pd.read_csv(f\"data/compuestos_{uniprot_id}.csv\")"
   ],
   "metadata": {
    "collapsed": false
   }
  },
  {
   "cell_type": "code",
   "execution_count": 182,
   "outputs": [],
   "source": [
    "# Primero tenemos que obtener la lista de los compuestos que definimos como bioactivos\n",
    "lista_comp_id = list(df_bioact['molecule_chembl_id'])\n",
    "# Obtener la estructura de cada compuesto\n",
    "lista_compuestos = compounds.filter(molecule_chembl_id__in = lista_comp_id) \\\n",
    "                            .only('molecule_chembl_id','molecule_structures')"
   ],
   "metadata": {
    "collapsed": false
   }
  },
  {
   "cell_type": "code",
   "execution_count": 183,
   "outputs": [
    {
     "name": "stdout",
     "output_type": "stream",
     "text": [
      "Total de compuestos es: 2605\n"
     ]
    },
    {
     "data": {
      "text/plain": "  molecule_chembl_id                                molecule_structures\n0         CHEMBL6246  {'canonical_smiles': 'O=c1oc2c(O)c(O)cc3c(=O)o...\n1         CHEMBL6291  {'canonical_smiles': 'Cn1cc(C2=C(c3cn(CCCSC(=N...\n2       CHEMBL269538  {'canonical_smiles': 'COc1ccc2c(c1)[nH]c1c(C)n...\n3           CHEMBL28  {'canonical_smiles': 'O=c1cc(-c2ccc(O)cc2)oc2c...\n4         CHEMBL7463  {'canonical_smiles': 'CN(C)CCCn1cc(C2=C(c3c[nH...",
      "text/html": "<div>\n<style scoped>\n    .dataframe tbody tr th:only-of-type {\n        vertical-align: middle;\n    }\n\n    .dataframe tbody tr th {\n        vertical-align: top;\n    }\n\n    .dataframe thead th {\n        text-align: right;\n    }\n</style>\n<table border=\"1\" class=\"dataframe\">\n  <thead>\n    <tr style=\"text-align: right;\">\n      <th></th>\n      <th>molecule_chembl_id</th>\n      <th>molecule_structures</th>\n    </tr>\n  </thead>\n  <tbody>\n    <tr>\n      <th>0</th>\n      <td>CHEMBL6246</td>\n      <td>{'canonical_smiles': 'O=c1oc2c(O)c(O)cc3c(=O)o...</td>\n    </tr>\n    <tr>\n      <th>1</th>\n      <td>CHEMBL6291</td>\n      <td>{'canonical_smiles': 'Cn1cc(C2=C(c3cn(CCCSC(=N...</td>\n    </tr>\n    <tr>\n      <th>2</th>\n      <td>CHEMBL269538</td>\n      <td>{'canonical_smiles': 'COc1ccc2c(c1)[nH]c1c(C)n...</td>\n    </tr>\n    <tr>\n      <th>3</th>\n      <td>CHEMBL28</td>\n      <td>{'canonical_smiles': 'O=c1cc(-c2ccc(O)cc2)oc2c...</td>\n    </tr>\n    <tr>\n      <th>4</th>\n      <td>CHEMBL7463</td>\n      <td>{'canonical_smiles': 'CN(C)CCCn1cc(C2=C(c3c[nH...</td>\n    </tr>\n  </tbody>\n</table>\n</div>"
     },
     "execution_count": 183,
     "metadata": {},
     "output_type": "execute_result"
    }
   ],
   "source": [
    "# Debemos convertir la lista obtenida en un dataframe. Esto puede tardar unos minutos\n",
    "df_comp = pd.DataFrame(lista_compuestos)\n",
    "# Eliminamos duplicados\n",
    "df_comp = df_comp.drop_duplicates('molecule_chembl_id', keep = 'first')\n",
    "print(f'Total de compuestos es: {str(len(df_comp))}')\n",
    "df_comp.head()"
   ],
   "metadata": {
    "collapsed": false
   }
  },
  {
   "cell_type": "markdown",
   "source": [
    "Los compuestos tienen distintos tipos de representaciones como el SMILES, el InChI y el InChI Key. Nos interesa únicamente quedarnos con el SMILES, ya que describe la estructura química."
   ],
   "metadata": {
    "collapsed": false
   }
  },
  {
   "cell_type": "code",
   "execution_count": 185,
   "outputs": [
    {
     "data": {
      "text/plain": "  molecule_chembl_id                                molecule_structures\n0         CHEMBL6246         O=c1oc2c(O)c(O)cc3c(=O)oc4c(O)c(O)cc1c4c23\n1         CHEMBL6291  Cn1cc(C2=C(c3cn(CCCSC(=N)N)c4ccccc34)C(=O)NC2=...\n2       CHEMBL269538                      COc1ccc2c(c1)[nH]c1c(C)nccc12\n3           CHEMBL28               O=c1cc(-c2ccc(O)cc2)oc2cc(O)cc(O)c12\n4         CHEMBL7463  CN(C)CCCn1cc(C2=C(c3c[nH]c4ccccc34)C(=O)NC2=O)...",
      "text/html": "<div>\n<style scoped>\n    .dataframe tbody tr th:only-of-type {\n        vertical-align: middle;\n    }\n\n    .dataframe tbody tr th {\n        vertical-align: top;\n    }\n\n    .dataframe thead th {\n        text-align: right;\n    }\n</style>\n<table border=\"1\" class=\"dataframe\">\n  <thead>\n    <tr style=\"text-align: right;\">\n      <th></th>\n      <th>molecule_chembl_id</th>\n      <th>molecule_structures</th>\n    </tr>\n  </thead>\n  <tbody>\n    <tr>\n      <th>0</th>\n      <td>CHEMBL6246</td>\n      <td>O=c1oc2c(O)c(O)cc3c(=O)oc4c(O)c(O)cc1c4c23</td>\n    </tr>\n    <tr>\n      <th>1</th>\n      <td>CHEMBL6291</td>\n      <td>Cn1cc(C2=C(c3cn(CCCSC(=N)N)c4ccccc34)C(=O)NC2=...</td>\n    </tr>\n    <tr>\n      <th>2</th>\n      <td>CHEMBL269538</td>\n      <td>COc1ccc2c(c1)[nH]c1c(C)nccc12</td>\n    </tr>\n    <tr>\n      <th>3</th>\n      <td>CHEMBL28</td>\n      <td>O=c1cc(-c2ccc(O)cc2)oc2cc(O)cc(O)c12</td>\n    </tr>\n    <tr>\n      <th>4</th>\n      <td>CHEMBL7463</td>\n      <td>CN(C)CCCn1cc(C2=C(c3c[nH]c4ccccc34)C(=O)NC2=O)...</td>\n    </tr>\n  </tbody>\n</table>\n</div>"
     },
     "execution_count": 185,
     "metadata": {},
     "output_type": "execute_result"
    }
   ],
   "source": [
    "# Vamos a utilizar un ciclo for para iterar por cada renglón (df_comp.iterrows())\n",
    "for i, cmpd in df_comp.iterrows():\n",
    "    if df_comp.loc[i]['molecule_structures'] is not None:\n",
    "        df_comp.loc[i]['molecule_structures'] = cmpd['molecule_structures']['canonical_smiles']\n",
    "\n",
    "df_comp.head()"
   ],
   "metadata": {
    "collapsed": false
   }
  },
  {
   "cell_type": "markdown",
   "source": [
    "## Combinar los Dataframe\n",
    "\n",
    "Ahora tenemos dos dataframes que vamos a combinar para tener todos los datos en uno solo dataframe y poder guardarlos"
   ],
   "metadata": {
    "collapsed": false
   }
  },
  {
   "cell_type": "code",
   "execution_count": 186,
   "outputs": [
    {
     "name": "stdout",
     "output_type": "stream",
     "text": [
      "Total de compuestos es: 2605\n"
     ]
    },
    {
     "data": {
      "text/plain": "  molecule_chembl_id  pchembl_value  \\\n0      CHEMBL2386094          10.89   \n1      CHEMBL4084855          10.00   \n2      CHEMBL3895998          10.00   \n3       CHEMBL564450           9.85   \n4      CHEMBL4077376           9.70   \n\n                                 molecule_structures  \n0  O=C1NC(=O)C(c2cn3c4c(cc(F)cc24)CN(C(=O)N2CCOCC...  \n1  COc1ccc(N2CCN(c3nc(-c4ccncn4)cc(=O)n3C)[C@H](C...  \n2     Nc1ncc(-c2ccccc2F)nc1C(=O)Nc1cnccc1N1CCC(N)CC1  \n3  COc1cc(C2=C(c3cn(CCN4CCN(C)CC4)c4ccccc34)C(=O)...  \n4  C[C@@H]1CN(c2ccccc2F)CCN1c1nc(-c2ccncn2)cc(=O)n1C  ",
      "text/html": "<div>\n<style scoped>\n    .dataframe tbody tr th:only-of-type {\n        vertical-align: middle;\n    }\n\n    .dataframe tbody tr th {\n        vertical-align: top;\n    }\n\n    .dataframe thead th {\n        text-align: right;\n    }\n</style>\n<table border=\"1\" class=\"dataframe\">\n  <thead>\n    <tr style=\"text-align: right;\">\n      <th></th>\n      <th>molecule_chembl_id</th>\n      <th>pchembl_value</th>\n      <th>molecule_structures</th>\n    </tr>\n  </thead>\n  <tbody>\n    <tr>\n      <th>0</th>\n      <td>CHEMBL2386094</td>\n      <td>10.89</td>\n      <td>O=C1NC(=O)C(c2cn3c4c(cc(F)cc24)CN(C(=O)N2CCOCC...</td>\n    </tr>\n    <tr>\n      <th>1</th>\n      <td>CHEMBL4084855</td>\n      <td>10.00</td>\n      <td>COc1ccc(N2CCN(c3nc(-c4ccncn4)cc(=O)n3C)[C@H](C...</td>\n    </tr>\n    <tr>\n      <th>2</th>\n      <td>CHEMBL3895998</td>\n      <td>10.00</td>\n      <td>Nc1ncc(-c2ccccc2F)nc1C(=O)Nc1cnccc1N1CCC(N)CC1</td>\n    </tr>\n    <tr>\n      <th>3</th>\n      <td>CHEMBL564450</td>\n      <td>9.85</td>\n      <td>COc1cc(C2=C(c3cn(CCN4CCN(C)CC4)c4ccccc34)C(=O)...</td>\n    </tr>\n    <tr>\n      <th>4</th>\n      <td>CHEMBL4077376</td>\n      <td>9.70</td>\n      <td>C[C@@H]1CN(c2ccccc2F)CCN1c1nc(-c2ccncn2)cc(=O)n1C</td>\n    </tr>\n  </tbody>\n</table>\n</div>"
     },
     "execution_count": 186,
     "metadata": {},
     "output_type": "execute_result"
    }
   ],
   "source": [
    "# En el Dataframe de bioactividad se filtran solamente dos columnas\n",
    "df_output = pd.merge(df_bioact[['molecule_chembl_id','pchembl_value']], df_comp, on='molecule_chembl_id')\n",
    "print(f'Total de compuestos es: {str(len(df_output))}')\n",
    "df_output.head()"
   ],
   "metadata": {
    "collapsed": false
   }
  },
  {
   "cell_type": "markdown",
   "source": [
    "Se pueden renombrar las columnas"
   ],
   "metadata": {
    "collapsed": false
   }
  },
  {
   "cell_type": "code",
   "execution_count": 187,
   "outputs": [
    {
     "name": "stdout",
     "output_type": "stream",
     "text": [
      "Total de compuestos es: 2605\n"
     ]
    },
    {
     "data": {
      "text/plain": "  molecule_chembl_id  pIC50                                             smiles\n0      CHEMBL2386094  10.89  O=C1NC(=O)C(c2cn3c4c(cc(F)cc24)CN(C(=O)N2CCOCC...\n1      CHEMBL4084855  10.00  COc1ccc(N2CCN(c3nc(-c4ccncn4)cc(=O)n3C)[C@H](C...\n2      CHEMBL3895998  10.00     Nc1ncc(-c2ccccc2F)nc1C(=O)Nc1cnccc1N1CCC(N)CC1\n3       CHEMBL564450   9.85  COc1cc(C2=C(c3cn(CCN4CCN(C)CC4)c4ccccc34)C(=O)...\n4      CHEMBL4077376   9.70  C[C@@H]1CN(c2ccccc2F)CCN1c1nc(-c2ccncn2)cc(=O)n1C",
      "text/html": "<div>\n<style scoped>\n    .dataframe tbody tr th:only-of-type {\n        vertical-align: middle;\n    }\n\n    .dataframe tbody tr th {\n        vertical-align: top;\n    }\n\n    .dataframe thead th {\n        text-align: right;\n    }\n</style>\n<table border=\"1\" class=\"dataframe\">\n  <thead>\n    <tr style=\"text-align: right;\">\n      <th></th>\n      <th>molecule_chembl_id</th>\n      <th>pIC50</th>\n      <th>smiles</th>\n    </tr>\n  </thead>\n  <tbody>\n    <tr>\n      <th>0</th>\n      <td>CHEMBL2386094</td>\n      <td>10.89</td>\n      <td>O=C1NC(=O)C(c2cn3c4c(cc(F)cc24)CN(C(=O)N2CCOCC...</td>\n    </tr>\n    <tr>\n      <th>1</th>\n      <td>CHEMBL4084855</td>\n      <td>10.00</td>\n      <td>COc1ccc(N2CCN(c3nc(-c4ccncn4)cc(=O)n3C)[C@H](C...</td>\n    </tr>\n    <tr>\n      <th>2</th>\n      <td>CHEMBL3895998</td>\n      <td>10.00</td>\n      <td>Nc1ncc(-c2ccccc2F)nc1C(=O)Nc1cnccc1N1CCC(N)CC1</td>\n    </tr>\n    <tr>\n      <th>3</th>\n      <td>CHEMBL564450</td>\n      <td>9.85</td>\n      <td>COc1cc(C2=C(c3cn(CCN4CCN(C)CC4)c4ccccc34)C(=O)...</td>\n    </tr>\n    <tr>\n      <th>4</th>\n      <td>CHEMBL4077376</td>\n      <td>9.70</td>\n      <td>C[C@@H]1CN(c2ccccc2F)CCN1c1nc(-c2ccncn2)cc(=O)n1C</td>\n    </tr>\n  </tbody>\n</table>\n</div>"
     },
     "execution_count": 187,
     "metadata": {},
     "output_type": "execute_result"
    }
   ],
   "source": [
    "df_output = df_output.rename(columns= {'molecule_structures':'smiles', 'pchembl_value':'pIC50'})\n",
    "print(f'Total de compuestos es: {str(len(df_output))}')\n",
    "df_output.head()"
   ],
   "metadata": {
    "collapsed": false
   }
  },
  {
   "cell_type": "markdown",
   "source": [
    "Para poder emplear la siguiente función de rdkit es necesario que todos los compuestos tenga SMILES, por esto eliminamos los compuestos sin SMILES en el dataframe"
   ],
   "metadata": {
    "collapsed": false
   }
  },
  {
   "cell_type": "code",
   "execution_count": 188,
   "outputs": [
    {
     "name": "stdout",
     "output_type": "stream",
     "text": [
      "Total de compuestos es: 2605\n"
     ]
    },
    {
     "data": {
      "text/plain": "  molecule_chembl_id  pIC50                                             smiles\n0      CHEMBL2386094  10.89  O=C1NC(=O)C(c2cn3c4c(cc(F)cc24)CN(C(=O)N2CCOCC...\n1      CHEMBL4084855  10.00  COc1ccc(N2CCN(c3nc(-c4ccncn4)cc(=O)n3C)[C@H](C...\n2      CHEMBL3895998  10.00     Nc1ncc(-c2ccccc2F)nc1C(=O)Nc1cnccc1N1CCC(N)CC1\n3       CHEMBL564450   9.85  COc1cc(C2=C(c3cn(CCN4CCN(C)CC4)c4ccccc34)C(=O)...\n4      CHEMBL4077376   9.70  C[C@@H]1CN(c2ccccc2F)CCN1c1nc(-c2ccncn2)cc(=O)n1C",
      "text/html": "<div>\n<style scoped>\n    .dataframe tbody tr th:only-of-type {\n        vertical-align: middle;\n    }\n\n    .dataframe tbody tr th {\n        vertical-align: top;\n    }\n\n    .dataframe thead th {\n        text-align: right;\n    }\n</style>\n<table border=\"1\" class=\"dataframe\">\n  <thead>\n    <tr style=\"text-align: right;\">\n      <th></th>\n      <th>molecule_chembl_id</th>\n      <th>pIC50</th>\n      <th>smiles</th>\n    </tr>\n  </thead>\n  <tbody>\n    <tr>\n      <th>0</th>\n      <td>CHEMBL2386094</td>\n      <td>10.89</td>\n      <td>O=C1NC(=O)C(c2cn3c4c(cc(F)cc24)CN(C(=O)N2CCOCC...</td>\n    </tr>\n    <tr>\n      <th>1</th>\n      <td>CHEMBL4084855</td>\n      <td>10.00</td>\n      <td>COc1ccc(N2CCN(c3nc(-c4ccncn4)cc(=O)n3C)[C@H](C...</td>\n    </tr>\n    <tr>\n      <th>2</th>\n      <td>CHEMBL3895998</td>\n      <td>10.00</td>\n      <td>Nc1ncc(-c2ccccc2F)nc1C(=O)Nc1cnccc1N1CCC(N)CC1</td>\n    </tr>\n    <tr>\n      <th>3</th>\n      <td>CHEMBL564450</td>\n      <td>9.85</td>\n      <td>COc1cc(C2=C(c3cn(CCN4CCN(C)CC4)c4ccccc34)C(=O)...</td>\n    </tr>\n    <tr>\n      <th>4</th>\n      <td>CHEMBL4077376</td>\n      <td>9.70</td>\n      <td>C[C@@H]1CN(c2ccccc2F)CCN1c1nc(-c2ccncn2)cc(=O)n1C</td>\n    </tr>\n  </tbody>\n</table>\n</div>"
     },
     "execution_count": 188,
     "metadata": {},
     "output_type": "execute_result"
    }
   ],
   "source": [
    "df_output = df_output[~df_output['smiles'].isnull()]\n",
    "print(f'Total de compuestos es: {str(len(df_output))}')\n",
    "df_output.head()"
   ],
   "metadata": {
    "collapsed": false
   }
  },
  {
   "cell_type": "markdown",
   "source": [
    "## Dibujar la molécula\n",
    "\n",
    "Vamos a añadir una nueva columna al dataframe con la función `.AddMoleculeColumnToFrame` la cual convierte las moléculas contenidas en \"smilesCol\" en moléculas RDKit y las agrega al dataframe"
   ],
   "metadata": {
    "collapsed": false
   }
  },
  {
   "cell_type": "code",
   "execution_count": 189,
   "outputs": [
    {
     "data": {
      "text/plain": "  molecule_chembl_id  pIC50  \\\n0      CHEMBL2386094  10.89   \n1      CHEMBL4084855  10.00   \n2      CHEMBL3895998  10.00   \n3       CHEMBL564450   9.85   \n4      CHEMBL4077376   9.70   \n\n                                              smiles  \\\n0  O=C1NC(=O)C(c2cn3c4c(cc(F)cc24)CN(C(=O)N2CCOCC...   \n1  COc1ccc(N2CCN(c3nc(-c4ccncn4)cc(=O)n3C)[C@H](C...   \n2     Nc1ncc(-c2ccccc2F)nc1C(=O)Nc1cnccc1N1CCC(N)CC1   \n3  COc1cc(C2=C(c3cn(CCN4CCN(C)CC4)c4ccccc34)C(=O)...   \n4  C[C@@H]1CN(c2ccccc2F)CCN1c1nc(-c2ccncn2)cc(=O)n1C   \n\n                                               ROMol  \n0  <rdkit.Chem.rdchem.Mol object at 0x0000023B34D...  \n1  <rdkit.Chem.rdchem.Mol object at 0x0000023B34D...  \n2  <rdkit.Chem.rdchem.Mol object at 0x0000023B34D...  \n3  <rdkit.Chem.rdchem.Mol object at 0x0000023B34D...  \n4  <rdkit.Chem.rdchem.Mol object at 0x0000023B34D...  ",
      "text/html": "<div>\n<style scoped>\n    .dataframe tbody tr th:only-of-type {\n        vertical-align: middle;\n    }\n\n    .dataframe tbody tr th {\n        vertical-align: top;\n    }\n\n    .dataframe thead th {\n        text-align: right;\n    }\n</style>\n<table border=\"1\" class=\"dataframe\">\n  <thead>\n    <tr style=\"text-align: right;\">\n      <th></th>\n      <th>molecule_chembl_id</th>\n      <th>pIC50</th>\n      <th>smiles</th>\n      <th>ROMol</th>\n    </tr>\n  </thead>\n  <tbody>\n    <tr>\n      <th>0</th>\n      <td>CHEMBL2386094</td>\n      <td>10.89</td>\n      <td>O=C1NC(=O)C(c2cn3c4c(cc(F)cc24)CN(C(=O)N2CCOCC...</td>\n      <td>&lt;rdkit.Chem.rdchem.Mol object at 0x0000023B34D...</td>\n    </tr>\n    <tr>\n      <th>1</th>\n      <td>CHEMBL4084855</td>\n      <td>10.00</td>\n      <td>COc1ccc(N2CCN(c3nc(-c4ccncn4)cc(=O)n3C)[C@H](C...</td>\n      <td>&lt;rdkit.Chem.rdchem.Mol object at 0x0000023B34D...</td>\n    </tr>\n    <tr>\n      <th>2</th>\n      <td>CHEMBL3895998</td>\n      <td>10.00</td>\n      <td>Nc1ncc(-c2ccccc2F)nc1C(=O)Nc1cnccc1N1CCC(N)CC1</td>\n      <td>&lt;rdkit.Chem.rdchem.Mol object at 0x0000023B34D...</td>\n    </tr>\n    <tr>\n      <th>3</th>\n      <td>CHEMBL564450</td>\n      <td>9.85</td>\n      <td>COc1cc(C2=C(c3cn(CCN4CCN(C)CC4)c4ccccc34)C(=O)...</td>\n      <td>&lt;rdkit.Chem.rdchem.Mol object at 0x0000023B34D...</td>\n    </tr>\n    <tr>\n      <th>4</th>\n      <td>CHEMBL4077376</td>\n      <td>9.70</td>\n      <td>C[C@@H]1CN(c2ccccc2F)CCN1c1nc(-c2ccncn2)cc(=O)n1C</td>\n      <td>&lt;rdkit.Chem.rdchem.Mol object at 0x0000023B34D...</td>\n    </tr>\n  </tbody>\n</table>\n</div>"
     },
     "execution_count": 189,
     "metadata": {},
     "output_type": "execute_result"
    }
   ],
   "source": [
    "from rdkit.Chem import PandasTools\n",
    "PandasTools.AddMoleculeColumnToFrame(df_output, smilesCol='smiles')\n",
    "df_output.head()"
   ],
   "metadata": {
    "collapsed": false
   }
  },
  {
   "cell_type": "markdown",
   "source": [
    "Ahora podemos llamar a cualquier compuesto para ver su representación en 2D"
   ],
   "metadata": {
    "collapsed": false
   }
  },
  {
   "cell_type": "code",
   "execution_count": 190,
   "outputs": [
    {
     "data": {
      "text/plain": "<rdkit.Chem.rdchem.Mol at 0x23b34d5f4a0>",
      "image/png": "[encoded data removed]"
     },
     "execution_count": 190,
     "metadata": {},
     "output_type": "execute_result"
    }
   ],
   "source": [
    "df_output.ROMol.iloc[0]"
   ],
   "metadata": {
    "collapsed": false
   }
  },
  {
   "cell_type": "markdown",
   "source": [
    "## Guardar el dataframe obtenido\n",
    "\n",
    "Se va a guardar el dataframe como un archivo csv"
   ],
   "metadata": {
    "collapsed": false
   }
  },
  {
   "cell_type": "code",
   "execution_count": 191,
   "outputs": [],
   "source": [
    "df_output.to_csv(f\"data/compounds_{uniprot_id}_full.csv\", index=0)"
   ],
   "metadata": {
    "collapsed": false
   }
  }
 ],
 "metadata": {
  "kernelspec": {
   "display_name": "Python 3",
   "language": "python",
   "name": "python3"
  },
  "language_info": {
   "codemirror_mode": {
    "name": "ipython",
    "version": 2
   },
   "file_extension": ".py",
   "mimetype": "text/x-python",
   "name": "python",
   "nbconvert_exporter": "python",
   "pygments_lexer": "ipython2",
   "version": "2.7.6"
  }
 },
 "nbformat": 4,
 "nbformat_minor": 0
}
