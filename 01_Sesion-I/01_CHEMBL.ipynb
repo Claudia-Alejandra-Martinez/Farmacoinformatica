{
 "cells": [
  {
   "cell_type": "markdown",
   "source": [
    "# Práctica 1: Adquirir y analizar datos de ChEMBL\n",
    "\n",
    "## Conceptos a trabajar\n",
    "**Uniprot:** Es una base de datos que busca proporcionar a la comunidad científica un recurso integral, de alta calidad y de libre acceso de secuencias de proteínas e información funcional. Referencia: [Uniprot](https://www.uniprot.org/).\n",
    "\n",
    "**ChEMBL:** Es una base de datos que contiene moléculas bioactivas, reune datos químicos, de bioactividad y genómicos. Refernecia: [ChEMBL](https://www.ebi.ac.uk/chembl/)\n",
    "\n",
    "**Half-maximal inhibitory concentration (IC50):** Expresa la cantidad de fármaco necesaria para inhibir un proceso biológico a la mitad del valor no inhibido, es la medida más utilizada de la eficacia o potencia de un fármaco. Referencia: [Aykul, S. y Martínez-Hackert, E. (2016)](https://doi.org/10.1016/j.ab.2016.06.025)\n",
    "\n",
    "**pIC50:** Es el logaritmo negativo en base diez del IC50, cuando las unidades de son **molares (M)**. Se usa para facilitar la comparación entre distintos IC50. También, es importante saber que a mayor pIC50 el fármaco tiene una mayor eficacia o mayor potencial.\n",
    "\n",
    "**Half maximal effective concentration (EC50):** Es la concentración efectiva para producir el 50 % de la respuesta máxima, se usa para comparar las potencias de los fármacos. También, es importante saber que a menor sea el EC50 más potente será el fármaco. A esta pedida también se le calcula el logaritmo negativo en base diez **(pEC50)** para facilitar su comprensión. Referencia: [Waller, D., & Sampson, A. (2018)](https://doi.org/10.1016/B978-0-7020-7167-6.00001-4)\n",
    "\n",
    "**Inhibitor constant (Ki):** Es la concentración requerida para producir la mitad de la inhibición máxima, es útil para describir la afinidad de unión de una molécula a un receptor.\n",
    "\n",
    "**SMILES (Simplified Molecular-Input Line-Entry System):** Es una notación de línea para describir estructuras químicas utilizando cadenas ASCII cortas. Referencia: [Daylight Chemical Information Systems](https://www.daylight.com/smiles/)"
   ],
   "metadata": {
    "collapsed": false
   }
  },
  {
   "cell_type": "markdown",
   "source": [
    "# Proteína a estudiar\n",
    "**UniprotID**: P49841\n",
    "**Name**: Glycogen synthase kinase-3 beta\n",
    "**Protein Target Classification**: Enzyme > Kinase > Protein Kinase > CMGC protein kinase group > CMGC protein kinase GSK family\n",
    "\n",
    "Debemos buscar el ID del target de interes en la base de datos Uniprot, que en este caso es Glucógeno sintasa quinasa-3 beta, ID: [P49841](https://www.uniprot.org/uniprot/P49841)."
   ],
   "metadata": {
    "collapsed": false
   }
  },
  {
   "cell_type": "code",
   "execution_count": 1,
   "outputs": [],
   "source": [
    "# Librería necesaria para comunicarse con CHEMBL\n",
    "from chembl_webresource_client.new_client import new_client\n",
    "# libreria para trabajar con base de datos (Dataframes)\n",
    "import pandas as pd\n",
    "\n",
    "# Declaración de variables para instanciar el cliente de CHEMBL y acceder a la base de datos\n",
    "targets = new_client.target\n",
    "compounds = new_client.molecule\n",
    "bioactivities = new_client.activity"
   ],
   "metadata": {
    "collapsed": false
   }
  },
  {
   "cell_type": "code",
   "execution_count": 2,
   "outputs": [
    {
     "data": {
      "text/plain": "       organism                                          pref_name  \\\n0  Homo sapiens             Epidermal growth factor receptor erbB1   \n1  Homo sapiens  Epidermal growth factor receptor and ErbB2 (HE...   \n2  Homo sapiens                   Epidermal growth factor receptor   \n3  Homo sapiens  MER intracellular domain/EGFR extracellular do...   \n4  Homo sapiens  Protein cereblon/Epidermal growth factor receptor   \n5  Homo sapiens                                        EGFR/PPP1CA   \n6  Homo sapiens                                           VHL/EGFR   \n7  Homo sapiens  Baculoviral IAP repeat-containing protein 2/Ep...   \n\n  target_chembl_id                  target_type  \n0        CHEMBL203               SINGLE PROTEIN  \n1    CHEMBL2111431               PROTEIN FAMILY  \n2    CHEMBL2363049               PROTEIN FAMILY  \n3    CHEMBL3137284             CHIMERIC PROTEIN  \n4    CHEMBL4523680  PROTEIN-PROTEIN INTERACTION  \n5    CHEMBL4523747  PROTEIN-PROTEIN INTERACTION  \n6    CHEMBL4523998  PROTEIN-PROTEIN INTERACTION  \n7    CHEMBL4802031  PROTEIN-PROTEIN INTERACTION  ",
      "text/html": "<div>\n<style scoped>\n    .dataframe tbody tr th:only-of-type {\n        vertical-align: middle;\n    }\n\n    .dataframe tbody tr th {\n        vertical-align: top;\n    }\n\n    .dataframe thead th {\n        text-align: right;\n    }\n</style>\n<table border=\"1\" class=\"dataframe\">\n  <thead>\n    <tr style=\"text-align: right;\">\n      <th></th>\n      <th>organism</th>\n      <th>pref_name</th>\n      <th>target_chembl_id</th>\n      <th>target_type</th>\n    </tr>\n  </thead>\n  <tbody>\n    <tr>\n      <th>0</th>\n      <td>Homo sapiens</td>\n      <td>Epidermal growth factor receptor erbB1</td>\n      <td>CHEMBL203</td>\n      <td>SINGLE PROTEIN</td>\n    </tr>\n    <tr>\n      <th>1</th>\n      <td>Homo sapiens</td>\n      <td>Epidermal growth factor receptor and ErbB2 (HE...</td>\n      <td>CHEMBL2111431</td>\n      <td>PROTEIN FAMILY</td>\n    </tr>\n    <tr>\n      <th>2</th>\n      <td>Homo sapiens</td>\n      <td>Epidermal growth factor receptor</td>\n      <td>CHEMBL2363049</td>\n      <td>PROTEIN FAMILY</td>\n    </tr>\n    <tr>\n      <th>3</th>\n      <td>Homo sapiens</td>\n      <td>MER intracellular domain/EGFR extracellular do...</td>\n      <td>CHEMBL3137284</td>\n      <td>CHIMERIC PROTEIN</td>\n    </tr>\n    <tr>\n      <th>4</th>\n      <td>Homo sapiens</td>\n      <td>Protein cereblon/Epidermal growth factor receptor</td>\n      <td>CHEMBL4523680</td>\n      <td>PROTEIN-PROTEIN INTERACTION</td>\n    </tr>\n    <tr>\n      <th>5</th>\n      <td>Homo sapiens</td>\n      <td>EGFR/PPP1CA</td>\n      <td>CHEMBL4523747</td>\n      <td>PROTEIN-PROTEIN INTERACTION</td>\n    </tr>\n    <tr>\n      <th>6</th>\n      <td>Homo sapiens</td>\n      <td>VHL/EGFR</td>\n      <td>CHEMBL4523998</td>\n      <td>PROTEIN-PROTEIN INTERACTION</td>\n    </tr>\n    <tr>\n      <th>7</th>\n      <td>Homo sapiens</td>\n      <td>Baculoviral IAP repeat-containing protein 2/Ep...</td>\n      <td>CHEMBL4802031</td>\n      <td>PROTEIN-PROTEIN INTERACTION</td>\n    </tr>\n  </tbody>\n</table>\n</div>"
     },
     "execution_count": 2,
     "metadata": {},
     "output_type": "execute_result"
    }
   ],
   "source": [
    "uniprot_id = 'P00533'\n",
    "# Adquirir información de ChEMBL que sea de interés\n",
    "target_P49841 = targets.get(target_components__accession=uniprot_id) \\\n",
    "                       .only('target_chembl_id', 'organism', 'pref_name', 'target_type')\n",
    "pd.DataFrame(target_P49841)"
   ],
   "metadata": {
    "collapsed": false
   }
  },
  {
   "cell_type": "markdown",
   "source": [
    "Vamos a seleccionar el target de interés (`CHEMBL262`) y guardar el ChEMBL-ID"
   ],
   "metadata": {
    "collapsed": false
   }
  },
  {
   "cell_type": "code",
   "execution_count": 3,
   "outputs": [
    {
     "name": "stdout",
     "output_type": "stream",
     "text": [
      "{'organism': 'Homo sapiens', 'pref_name': 'Epidermal growth factor receptor erbB1', 'target_chembl_id': 'CHEMBL203', 'target_type': 'SINGLE PROTEIN'}\n",
      "ChEMBL ID: CHEMBL203\n"
     ]
    }
   ],
   "source": [
    "# Seleccionar el target de interes\n",
    "target = target_P49841[0]\n",
    "print(target)\n",
    "# Guardar el ChEMBL-ID\n",
    "chembl_id = target['target_chembl_id']\n",
    "print(f'ChEMBL ID: {chembl_id}')"
   ],
   "metadata": {
    "collapsed": false
   }
  },
  {
   "cell_type": "markdown",
   "source": [
    "## Datos de bioactividad\n",
    "\n",
    "Ahora consultamos los datos de bioactividad que son de interés. Los pasos a seguir son:\n",
    "1. Descargar y filtrar bioactividades para el target\n",
    "    Los datos de bioactividad se van a filtrar de la siguiente manera:\n",
    "        * Tipo de bioactividad: IC50, EC50, Ki\n",
    "        * Relación: \"=\"\n",
    "2. Convertir los datos descargados en un data frame:\n",
    "    Las columnas de interés son: `molecule_chembl_id`, `type`, `relation`, `pchembl_value`"
   ],
   "metadata": {
    "collapsed": false
   }
  },
  {
   "cell_type": "code",
   "execution_count": 4,
   "outputs": [
    {
     "data": {
      "text/plain": "      molecule_chembl_id  type relation  value units pchembl_value\n0            CHEMBL68920  IC50        =  0.041    uM          7.39\n1            CHEMBL68920  IC50        =    0.3    uM          6.52\n2            CHEMBL68920  IC50        =   7.82    uM          5.11\n3            CHEMBL69960  IC50        =   0.17    uM          6.77\n4            CHEMBL69960  IC50        =   0.04    uM          7.40\n...                  ...   ...      ...    ...   ...           ...\n20793      CHEMBL4871593   INH        =   75.0     %          None\n20794      CHEMBL4871593  IC50        =   60.0    nM          7.22\n20795         CHEMBL7917  IC50        =    1.6    nM          8.80\n20796      CHEMBL4878790  IC50        =   2.98    uM          5.53\n20797      CHEMBL4877510  IC50        =    1.3    nM          8.89\n\n[20798 rows x 6 columns]",
      "text/html": "<div>\n<style scoped>\n    .dataframe tbody tr th:only-of-type {\n        vertical-align: middle;\n    }\n\n    .dataframe tbody tr th {\n        vertical-align: top;\n    }\n\n    .dataframe thead th {\n        text-align: right;\n    }\n</style>\n<table border=\"1\" class=\"dataframe\">\n  <thead>\n    <tr style=\"text-align: right;\">\n      <th></th>\n      <th>molecule_chembl_id</th>\n      <th>type</th>\n      <th>relation</th>\n      <th>value</th>\n      <th>units</th>\n      <th>pchembl_value</th>\n    </tr>\n  </thead>\n  <tbody>\n    <tr>\n      <th>0</th>\n      <td>CHEMBL68920</td>\n      <td>IC50</td>\n      <td>=</td>\n      <td>0.041</td>\n      <td>uM</td>\n      <td>7.39</td>\n    </tr>\n    <tr>\n      <th>1</th>\n      <td>CHEMBL68920</td>\n      <td>IC50</td>\n      <td>=</td>\n      <td>0.3</td>\n      <td>uM</td>\n      <td>6.52</td>\n    </tr>\n    <tr>\n      <th>2</th>\n      <td>CHEMBL68920</td>\n      <td>IC50</td>\n      <td>=</td>\n      <td>7.82</td>\n      <td>uM</td>\n      <td>5.11</td>\n    </tr>\n    <tr>\n      <th>3</th>\n      <td>CHEMBL69960</td>\n      <td>IC50</td>\n      <td>=</td>\n      <td>0.17</td>\n      <td>uM</td>\n      <td>6.77</td>\n    </tr>\n    <tr>\n      <th>4</th>\n      <td>CHEMBL69960</td>\n      <td>IC50</td>\n      <td>=</td>\n      <td>0.04</td>\n      <td>uM</td>\n      <td>7.40</td>\n    </tr>\n    <tr>\n      <th>...</th>\n      <td>...</td>\n      <td>...</td>\n      <td>...</td>\n      <td>...</td>\n      <td>...</td>\n      <td>...</td>\n    </tr>\n    <tr>\n      <th>20793</th>\n      <td>CHEMBL4871593</td>\n      <td>INH</td>\n      <td>=</td>\n      <td>75.0</td>\n      <td>%</td>\n      <td>None</td>\n    </tr>\n    <tr>\n      <th>20794</th>\n      <td>CHEMBL4871593</td>\n      <td>IC50</td>\n      <td>=</td>\n      <td>60.0</td>\n      <td>nM</td>\n      <td>7.22</td>\n    </tr>\n    <tr>\n      <th>20795</th>\n      <td>CHEMBL7917</td>\n      <td>IC50</td>\n      <td>=</td>\n      <td>1.6</td>\n      <td>nM</td>\n      <td>8.80</td>\n    </tr>\n    <tr>\n      <th>20796</th>\n      <td>CHEMBL4878790</td>\n      <td>IC50</td>\n      <td>=</td>\n      <td>2.98</td>\n      <td>uM</td>\n      <td>5.53</td>\n    </tr>\n    <tr>\n      <th>20797</th>\n      <td>CHEMBL4877510</td>\n      <td>IC50</td>\n      <td>=</td>\n      <td>1.3</td>\n      <td>nM</td>\n      <td>8.89</td>\n    </tr>\n  </tbody>\n</table>\n<p>20798 rows × 6 columns</p>\n</div>"
     },
     "execution_count": 4,
     "metadata": {},
     "output_type": "execute_result"
    }
   ],
   "source": [
    "# Primero, descargamos toda la base de datos\n",
    "bioact_temp = bioactivities.filter(target_chembl_id = chembl_id)\\\n",
    "                      .filter(relation = '=') \\\n",
    "                      .only('molecule_chembl_id', 'type', 'relation', 'standar_value', 'standar_units', 'pchembl_value', )\n",
    "df_bioact_temp = pd.DataFrame(bioact_temp)\n",
    "# se organizan las columnas\n",
    "df_bioact_temp = df_bioact_temp[['molecule_chembl_id', 'type', 'relation', 'value', 'units', 'pchembl_value']]\n",
    "df_bioact_temp\n",
    "# La primera vez que se ejecuta esta celda celda puede tardar ~5-10 minutos"
   ],
   "metadata": {
    "collapsed": false
   }
  },
  {
   "cell_type": "markdown",
   "source": [
    "Ya que la columna *realtion* tiene solo un tipo (esto se debe al filtro incial de la base de datos), podemos quitarla:"
   ],
   "metadata": {
    "collapsed": false
   }
  },
  {
   "cell_type": "code",
   "execution_count": 5,
   "outputs": [
    {
     "data": {
      "text/plain": "  molecule_chembl_id  type  value units pchembl_value\n0        CHEMBL68920  IC50  0.041    uM          7.39\n1        CHEMBL68920  IC50    0.3    uM          6.52\n2        CHEMBL68920  IC50   7.82    uM          5.11\n3        CHEMBL69960  IC50   0.17    uM          6.77\n4        CHEMBL69960  IC50   0.04    uM          7.40",
      "text/html": "<div>\n<style scoped>\n    .dataframe tbody tr th:only-of-type {\n        vertical-align: middle;\n    }\n\n    .dataframe tbody tr th {\n        vertical-align: top;\n    }\n\n    .dataframe thead th {\n        text-align: right;\n    }\n</style>\n<table border=\"1\" class=\"dataframe\">\n  <thead>\n    <tr style=\"text-align: right;\">\n      <th></th>\n      <th>molecule_chembl_id</th>\n      <th>type</th>\n      <th>value</th>\n      <th>units</th>\n      <th>pchembl_value</th>\n    </tr>\n  </thead>\n  <tbody>\n    <tr>\n      <th>0</th>\n      <td>CHEMBL68920</td>\n      <td>IC50</td>\n      <td>0.041</td>\n      <td>uM</td>\n      <td>7.39</td>\n    </tr>\n    <tr>\n      <th>1</th>\n      <td>CHEMBL68920</td>\n      <td>IC50</td>\n      <td>0.3</td>\n      <td>uM</td>\n      <td>6.52</td>\n    </tr>\n    <tr>\n      <th>2</th>\n      <td>CHEMBL68920</td>\n      <td>IC50</td>\n      <td>7.82</td>\n      <td>uM</td>\n      <td>5.11</td>\n    </tr>\n    <tr>\n      <th>3</th>\n      <td>CHEMBL69960</td>\n      <td>IC50</td>\n      <td>0.17</td>\n      <td>uM</td>\n      <td>6.77</td>\n    </tr>\n    <tr>\n      <th>4</th>\n      <td>CHEMBL69960</td>\n      <td>IC50</td>\n      <td>0.04</td>\n      <td>uM</td>\n      <td>7.40</td>\n    </tr>\n  </tbody>\n</table>\n</div>"
     },
     "execution_count": 5,
     "metadata": {},
     "output_type": "execute_result"
    }
   ],
   "source": [
    "df_bioact_temp.pop('relation')\n",
    "df_bioact_temp.head()"
   ],
   "metadata": {
    "collapsed": false
   }
  },
  {
   "cell_type": "markdown",
   "source": [],
   "metadata": {
    "collapsed": false
   }
  },
  {
   "cell_type": "markdown",
   "source": [
    "# Explorar los datos adquiridos\n",
    "## Tipo de actividad\n",
    "Podemos ver el tipo de actividad descargada (filtrar por _type_)"
   ],
   "metadata": {
    "collapsed": false
   }
  },
  {
   "cell_type": "code",
   "execution_count": 6,
   "outputs": [
    {
     "data": {
      "text/plain": "IC50                 10651\nInhibition            3989\nINH                   2712\nKd                     720\nActivity               593\npIC50                  537\nResidual Activity      316\nKi                     260\nEC50                   212\nKi(app)                141\nGI50                   124\npKi                    115\nRatio                  106\nRatio IC50              82\nKd apparent             40\nPotency                 37\nKinact                  36\nResidual activity       36\nIC50 app                33\nFC                      18\nTime                    17\nActivation               3\nFC50                     3\nLog IC50                 3\nKd(free)                 2\nBmax                     2\nED50                     2\nlog(ratio)               2\nKm                       1\nkmax                     1\nT1/2                     1\nkmax/KS                  1\nFold selectivity         1\nRatio EC50               1\nName: type, dtype: int64"
     },
     "execution_count": 6,
     "metadata": {},
     "output_type": "execute_result"
    }
   ],
   "source": [
    "df_bioact_temp.type.value_counts()"
   ],
   "metadata": {
    "collapsed": false
   }
  },
  {
   "cell_type": "markdown",
   "source": [
    "O realizar rápidamente un gráfico con la información filtrada"
   ],
   "metadata": {
    "collapsed": false
   }
  },
  {
   "cell_type": "code",
   "execution_count": 7,
   "outputs": [
    {
     "data": {
      "text/plain": "<AxesSubplot: >"
     },
     "execution_count": 7,
     "metadata": {},
     "output_type": "execute_result"
    },
    {
     "data": {
      "text/plain": "<Figure size 640x480 with 1 Axes>",
      "image/png": "[encoded data removed]"
     },
     "metadata": {},
     "output_type": "display_data"
    }
   ],
   "source": [
    "df_bioact_temp.type.value_counts().plot.barh()"
   ],
   "metadata": {
    "collapsed": false
   }
  },
  {
   "cell_type": "markdown",
   "source": [
    "Ahora, supongamos que queremos filtrar solamente la actividad **IC50**, **EC50** y **KI**"
   ],
   "metadata": {
    "collapsed": false
   }
  },
  {
   "cell_type": "code",
   "execution_count": 8,
   "outputs": [
    {
     "name": "stdout",
     "output_type": "stream",
     "text": [
      "Total de datos cargados: 11123\n"
     ]
    },
    {
     "data": {
      "text/plain": "  molecule_chembl_id  type  value units pchembl_value\n0        CHEMBL68920  IC50  0.041    uM          7.39\n1        CHEMBL68920  IC50    0.3    uM          6.52\n2        CHEMBL68920  IC50   7.82    uM          5.11\n3        CHEMBL69960  IC50   0.17    uM          6.77\n4        CHEMBL69960  IC50   0.04    uM          7.40",
      "text/html": "<div>\n<style scoped>\n    .dataframe tbody tr th:only-of-type {\n        vertical-align: middle;\n    }\n\n    .dataframe tbody tr th {\n        vertical-align: top;\n    }\n\n    .dataframe thead th {\n        text-align: right;\n    }\n</style>\n<table border=\"1\" class=\"dataframe\">\n  <thead>\n    <tr style=\"text-align: right;\">\n      <th></th>\n      <th>molecule_chembl_id</th>\n      <th>type</th>\n      <th>value</th>\n      <th>units</th>\n      <th>pchembl_value</th>\n    </tr>\n  </thead>\n  <tbody>\n    <tr>\n      <th>0</th>\n      <td>CHEMBL68920</td>\n      <td>IC50</td>\n      <td>0.041</td>\n      <td>uM</td>\n      <td>7.39</td>\n    </tr>\n    <tr>\n      <th>1</th>\n      <td>CHEMBL68920</td>\n      <td>IC50</td>\n      <td>0.3</td>\n      <td>uM</td>\n      <td>6.52</td>\n    </tr>\n    <tr>\n      <th>2</th>\n      <td>CHEMBL68920</td>\n      <td>IC50</td>\n      <td>7.82</td>\n      <td>uM</td>\n      <td>5.11</td>\n    </tr>\n    <tr>\n      <th>3</th>\n      <td>CHEMBL69960</td>\n      <td>IC50</td>\n      <td>0.17</td>\n      <td>uM</td>\n      <td>6.77</td>\n    </tr>\n    <tr>\n      <th>4</th>\n      <td>CHEMBL69960</td>\n      <td>IC50</td>\n      <td>0.04</td>\n      <td>uM</td>\n      <td>7.40</td>\n    </tr>\n  </tbody>\n</table>\n</div>"
     },
     "execution_count": 8,
     "metadata": {},
     "output_type": "execute_result"
    }
   ],
   "source": [
    "# Luego, filtramos por el tipo de actividad deseada\n",
    "df_bioact = df_bioact_temp[(df_bioact_temp['type'] == 'IC50') |\n",
    "                           (df_bioact_temp['type'] == 'EC50') |\n",
    "                           (df_bioact_temp['type'] == 'Ki')]\n",
    "print(f'Total de datos cargados: {len(df_bioact)}')\n",
    "# primeros compuestos del dataframe\n",
    "df_bioact.head()"
   ],
   "metadata": {
    "collapsed": false
   }
  },
  {
   "cell_type": "code",
   "execution_count": 9,
   "outputs": [
    {
     "data": {
      "text/plain": "IC50    10651\nKi        260\nEC50      212\nName: type, dtype: int64"
     },
     "execution_count": 9,
     "metadata": {},
     "output_type": "execute_result"
    }
   ],
   "source": [
    "grupo_actividad = df_bioact.type.value_counts()\n",
    "grupo_actividad"
   ],
   "metadata": {
    "collapsed": false
   }
  },
  {
   "cell_type": "code",
   "execution_count": 10,
   "outputs": [
    {
     "data": {
      "text/plain": "<AxesSubplot: >"
     },
     "execution_count": 10,
     "metadata": {},
     "output_type": "execute_result"
    },
    {
     "data": {
      "text/plain": "<Figure size 640x480 with 1 Axes>",
      "image/png": "[encoded data removed]"
     },
     "metadata": {},
     "output_type": "display_data"
    }
   ],
   "source": [
    "grupo_actividad.plot.bar()"
   ],
   "metadata": {
    "collapsed": false
   }
  },
  {
   "cell_type": "markdown",
   "source": [
    "## Unidades de medición\n",
    "Ahora exploremos un poco las unidades de medición de la bioactividad"
   ],
   "metadata": {
    "collapsed": false
   }
  },
  {
   "cell_type": "code",
   "execution_count": 11,
   "outputs": [
    {
     "data": {
      "text/plain": "nM             5767\nuM             5173\nug ml-1          35\numol/L           26\n10'-1microM      23\nnmol/L           22\n10'1 uM          14\n10'1 ug/ml        9\n10'-1 ug/ml       9\n10'-6g/ml         8\n10'2 uM           8\npM                8\n/uM               6\nM                 4\nmM                3\n10'-2 ug/ml       1\n10'-3 ug/ml       1\n10'-2microM       1\n10'3 uM           1\n10'-10M           1\n10'-7M            1\nnmol              1\n10^-8M            1\nName: units, dtype: int64"
     },
     "execution_count": 11,
     "metadata": {},
     "output_type": "execute_result"
    }
   ],
   "source": [
    "grupo_unidades = df_bioact.units.value_counts(dropna=False)\n",
    "grupo_unidades"
   ],
   "metadata": {
    "collapsed": false
   }
  },
  {
   "cell_type": "code",
   "execution_count": 12,
   "outputs": [
    {
     "data": {
      "text/plain": "<AxesSubplot: >"
     },
     "execution_count": 12,
     "metadata": {},
     "output_type": "execute_result"
    },
    {
     "data": {
      "text/plain": "<Figure size 640x480 with 1 Axes>",
      "image/png": "[encoded data removed]"
     },
     "metadata": {},
     "output_type": "display_data"
    }
   ],
   "source": [
    "grupo_unidades.plot.bar()"
   ],
   "metadata": {
    "collapsed": false
   }
  },
  {
   "cell_type": "markdown",
   "source": [
    "## Limpiar los datos\n",
    "Es posible que algunos compuestos tengan valores faltantes y también duplicados, ya que el mismo compuesto puede haber sido probado más de una vez (nosotros nos quedaremos solo con el que primero haya sido probado)"
   ],
   "metadata": {
    "collapsed": false
   }
  },
  {
   "cell_type": "code",
   "execution_count": 13,
   "outputs": [
    {
     "name": "stdout",
     "output_type": "stream",
     "text": [
      "Total de compuestos originales es: 11123\n"
     ]
    }
   ],
   "source": [
    "# Primero verificamos cuantos compuestos tenemos en total\n",
    "ori_len = len(df_bioact)\n",
    "print(f'Total de compuestos originales es: {ori_len}')"
   ],
   "metadata": {
    "collapsed": false
   }
  },
  {
   "cell_type": "code",
   "execution_count": 14,
   "outputs": [
    {
     "name": "stdout",
     "output_type": "stream",
     "text": [
      "Total de compuestos despues de eliminar aquellos con datos faltantes: 10891\n",
      "Total compuestos eliminados 232\n"
     ]
    }
   ],
   "source": [
    "# Se eliminan los compuestos que no tienen pChEMBL_value\n",
    "df_bioact = df_bioact.dropna(axis=0, how = 'any')\n",
    "new_len = len(df_bioact)\n",
    "print(f'Total de compuestos despues de eliminar aquellos con datos faltantes: {new_len}')\n",
    "# Se le resta al número total de compuestos el número total de compuestos al eliminar los que no tienen pChEMBL_value\n",
    "print(f'Total compuestos eliminados {ori_len - new_len}')\n",
    "ori_len = new_len"
   ],
   "metadata": {
    "collapsed": false
   }
  },
  {
   "cell_type": "code",
   "execution_count": 15,
   "outputs": [
    {
     "name": "stdout",
     "output_type": "stream",
     "text": [
      "Total de compuestos sin duplicados : 6780\n",
      "Total compuestos eliminados 4111\n"
     ]
    }
   ],
   "source": [
    "# Se eliminan los compuestos duplicados y nos quedamos con el primer compuesto de la lista\n",
    "df_bioact = df_bioact.drop_duplicates('molecule_chembl_id', keep = 'first')\n",
    "new_len = len(df_bioact)\n",
    "print(f'Total de compuestos sin duplicados : {new_len}')\n",
    "# Se le resta al número total de compuestos al eliminar los que no tienen pChEMBL_value el número total de compuestos sin duplicados\n",
    "print(f'Total compuestos eliminados {ori_len - new_len}')\n",
    "ori_len = new_len"
   ],
   "metadata": {
    "collapsed": false
   }
  },
  {
   "cell_type": "markdown",
   "source": [
    "Ahora que hemos eliminado algunas filas restableceremos el índice para que este sea continuo"
   ],
   "metadata": {
    "collapsed": false
   }
  },
  {
   "cell_type": "code",
   "execution_count": 16,
   "outputs": [
    {
     "data": {
      "text/plain": "   molecule_chembl_id  type  value units pchembl_value\n0         CHEMBL68920  IC50  0.041    uM          7.39\n3         CHEMBL69960  IC50   0.17    uM          6.77\n6        CHEMBL137635  IC50    9.3    uM          5.03\n10        CHEMBL77085  IC50   96.0    uM          4.02\n12       CHEMBL443268  IC50   5.31    uM          5.28",
      "text/html": "<div>\n<style scoped>\n    .dataframe tbody tr th:only-of-type {\n        vertical-align: middle;\n    }\n\n    .dataframe tbody tr th {\n        vertical-align: top;\n    }\n\n    .dataframe thead th {\n        text-align: right;\n    }\n</style>\n<table border=\"1\" class=\"dataframe\">\n  <thead>\n    <tr style=\"text-align: right;\">\n      <th></th>\n      <th>molecule_chembl_id</th>\n      <th>type</th>\n      <th>value</th>\n      <th>units</th>\n      <th>pchembl_value</th>\n    </tr>\n  </thead>\n  <tbody>\n    <tr>\n      <th>0</th>\n      <td>CHEMBL68920</td>\n      <td>IC50</td>\n      <td>0.041</td>\n      <td>uM</td>\n      <td>7.39</td>\n    </tr>\n    <tr>\n      <th>3</th>\n      <td>CHEMBL69960</td>\n      <td>IC50</td>\n      <td>0.17</td>\n      <td>uM</td>\n      <td>6.77</td>\n    </tr>\n    <tr>\n      <th>6</th>\n      <td>CHEMBL137635</td>\n      <td>IC50</td>\n      <td>9.3</td>\n      <td>uM</td>\n      <td>5.03</td>\n    </tr>\n    <tr>\n      <th>10</th>\n      <td>CHEMBL77085</td>\n      <td>IC50</td>\n      <td>96.0</td>\n      <td>uM</td>\n      <td>4.02</td>\n    </tr>\n    <tr>\n      <th>12</th>\n      <td>CHEMBL443268</td>\n      <td>IC50</td>\n      <td>5.31</td>\n      <td>uM</td>\n      <td>5.28</td>\n    </tr>\n  </tbody>\n</table>\n</div>"
     },
     "execution_count": 16,
     "metadata": {},
     "output_type": "execute_result"
    }
   ],
   "source": [
    "# El ínidce tiene saltos\n",
    "df_bioact.head()"
   ],
   "metadata": {
    "collapsed": false
   }
  },
  {
   "cell_type": "code",
   "execution_count": 17,
   "outputs": [
    {
     "data": {
      "text/plain": "  molecule_chembl_id  type  value units pchembl_value\n0        CHEMBL68920  IC50  0.041    uM          7.39\n1        CHEMBL69960  IC50   0.17    uM          6.77\n2       CHEMBL137635  IC50    9.3    uM          5.03\n3        CHEMBL77085  IC50   96.0    uM          4.02\n4       CHEMBL443268  IC50   5.31    uM          5.28",
      "text/html": "<div>\n<style scoped>\n    .dataframe tbody tr th:only-of-type {\n        vertical-align: middle;\n    }\n\n    .dataframe tbody tr th {\n        vertical-align: top;\n    }\n\n    .dataframe thead th {\n        text-align: right;\n    }\n</style>\n<table border=\"1\" class=\"dataframe\">\n  <thead>\n    <tr style=\"text-align: right;\">\n      <th></th>\n      <th>molecule_chembl_id</th>\n      <th>type</th>\n      <th>value</th>\n      <th>units</th>\n      <th>pchembl_value</th>\n    </tr>\n  </thead>\n  <tbody>\n    <tr>\n      <th>0</th>\n      <td>CHEMBL68920</td>\n      <td>IC50</td>\n      <td>0.041</td>\n      <td>uM</td>\n      <td>7.39</td>\n    </tr>\n    <tr>\n      <th>1</th>\n      <td>CHEMBL69960</td>\n      <td>IC50</td>\n      <td>0.17</td>\n      <td>uM</td>\n      <td>6.77</td>\n    </tr>\n    <tr>\n      <th>2</th>\n      <td>CHEMBL137635</td>\n      <td>IC50</td>\n      <td>9.3</td>\n      <td>uM</td>\n      <td>5.03</td>\n    </tr>\n    <tr>\n      <th>3</th>\n      <td>CHEMBL77085</td>\n      <td>IC50</td>\n      <td>96.0</td>\n      <td>uM</td>\n      <td>4.02</td>\n    </tr>\n    <tr>\n      <th>4</th>\n      <td>CHEMBL443268</td>\n      <td>IC50</td>\n      <td>5.31</td>\n      <td>uM</td>\n      <td>5.28</td>\n    </tr>\n  </tbody>\n</table>\n</div>"
     },
     "execution_count": 17,
     "metadata": {},
     "output_type": "execute_result"
    }
   ],
   "source": [
    "df_bioact.reset_index(drop=True, inplace=True)\n",
    "df_bioact.head()"
   ],
   "metadata": {
    "collapsed": false
   }
  },
  {
   "cell_type": "markdown",
   "source": [
    "## Histograma del pchembl_value\n",
    "La columna `pchembl_value` maneja un valor _común_ el cual se puede analizar un poco.\n",
    "Antes de realizar el histograma debemos cambiar el tipo de la variable, pues esta como `string`"
   ],
   "metadata": {
    "collapsed": false
   }
  },
  {
   "cell_type": "code",
   "execution_count": 18,
   "outputs": [
    {
     "name": "stdout",
     "output_type": "stream",
     "text": [
      "7.39 <class 'str'>\n"
     ]
    }
   ],
   "source": [
    "# Primer valor:\n",
    "value = df_bioact.pchembl_value[0]\n",
    "print(value, type(value))"
   ],
   "metadata": {
    "collapsed": false
   }
  },
  {
   "cell_type": "markdown",
   "source": [
    "Colo la columna `pchembl_value` tiene valores como texto, se deben convetir a valores numéricos"
   ],
   "metadata": {
    "collapsed": false
   }
  },
  {
   "cell_type": "code",
   "execution_count": 19,
   "outputs": [
    {
     "name": "stdout",
     "output_type": "stream",
     "text": [
      "7.39 <class 'numpy.float64'>\n"
     ]
    }
   ],
   "source": [
    "# Cambiar de str a float la columna pchembl_value\n",
    "df_bioact = df_bioact.astype({'pchembl_value': 'float'})\n",
    "value = df_bioact.pchembl_value[0]\n",
    "print(value, type(value))"
   ],
   "metadata": {
    "collapsed": false
   }
  },
  {
   "cell_type": "code",
   "execution_count": 20,
   "outputs": [
    {
     "data": {
      "text/plain": "molecule_chembl_id     object\ntype                   object\nvalue                  object\nunits                  object\npchembl_value         float64\ndtype: object"
     },
     "execution_count": 20,
     "metadata": {},
     "output_type": "execute_result"
    }
   ],
   "source": [
    "df_bioact.dtypes"
   ],
   "metadata": {
    "collapsed": false
   }
  },
  {
   "cell_type": "markdown",
   "source": [
    "Ahora se puede hacar el instograma de los valores de la columna `pchembl_value`"
   ],
   "metadata": {
    "collapsed": false
   }
  },
  {
   "cell_type": "code",
   "execution_count": 21,
   "outputs": [
    {
     "data": {
      "text/plain": "array([[<AxesSubplot: title={'center': 'pchembl_value'}>]], dtype=object)"
     },
     "execution_count": 21,
     "metadata": {},
     "output_type": "execute_result"
    },
    {
     "data": {
      "text/plain": "<Figure size 640x480 with 1 Axes>",
      "image/png": "[encoded data removed]"
     },
     "metadata": {},
     "output_type": "display_data"
    }
   ],
   "source": [
    "df_bioact.hist(column='pchembl_value', bins=20)"
   ],
   "metadata": {
    "collapsed": false
   }
  },
  {
   "cell_type": "markdown",
   "source": [
    "## Organizar los datos\n",
    "Vamos a organizar el DataFrame de mayor a menor pchembl_value."
   ],
   "metadata": {
    "collapsed": false
   }
  },
  {
   "cell_type": "code",
   "execution_count": 22,
   "outputs": [
    {
     "data": {
      "text/plain": "  molecule_chembl_id  type  value units  pchembl_value\n0        CHEMBL35820  IC50  0.006    nM          11.22\n1        CHEMBL66031  IC50  0.008    nM          11.10\n2        CHEMBL53753  IC50  0.008    nM          11.10\n3       CHEMBL176582  IC50   0.01    nM          11.00\n4        CHEMBL29197  IC50  0.025    nM          10.60",
      "text/html": "<div>\n<style scoped>\n    .dataframe tbody tr th:only-of-type {\n        vertical-align: middle;\n    }\n\n    .dataframe tbody tr th {\n        vertical-align: top;\n    }\n\n    .dataframe thead th {\n        text-align: right;\n    }\n</style>\n<table border=\"1\" class=\"dataframe\">\n  <thead>\n    <tr style=\"text-align: right;\">\n      <th></th>\n      <th>molecule_chembl_id</th>\n      <th>type</th>\n      <th>value</th>\n      <th>units</th>\n      <th>pchembl_value</th>\n    </tr>\n  </thead>\n  <tbody>\n    <tr>\n      <th>0</th>\n      <td>CHEMBL35820</td>\n      <td>IC50</td>\n      <td>0.006</td>\n      <td>nM</td>\n      <td>11.22</td>\n    </tr>\n    <tr>\n      <th>1</th>\n      <td>CHEMBL66031</td>\n      <td>IC50</td>\n      <td>0.008</td>\n      <td>nM</td>\n      <td>11.10</td>\n    </tr>\n    <tr>\n      <th>2</th>\n      <td>CHEMBL53753</td>\n      <td>IC50</td>\n      <td>0.008</td>\n      <td>nM</td>\n      <td>11.10</td>\n    </tr>\n    <tr>\n      <th>3</th>\n      <td>CHEMBL176582</td>\n      <td>IC50</td>\n      <td>0.01</td>\n      <td>nM</td>\n      <td>11.00</td>\n    </tr>\n    <tr>\n      <th>4</th>\n      <td>CHEMBL29197</td>\n      <td>IC50</td>\n      <td>0.025</td>\n      <td>nM</td>\n      <td>10.60</td>\n    </tr>\n  </tbody>\n</table>\n</div>"
     },
     "execution_count": 22,
     "metadata": {},
     "output_type": "execute_result"
    }
   ],
   "source": [
    "# Organizamos de mayor a menor pchembl_value\n",
    "df_bioact.sort_values(by=\"pchembl_value\", ascending=False, inplace=True)\n",
    "# Restablecemos el índice\n",
    "df_bioact.reset_index(drop=True, inplace=True)\n",
    "# Imprimimos los primeros datos del Dataframe\n",
    "df_bioact.head()"
   ],
   "metadata": {
    "collapsed": false
   }
  },
  {
   "cell_type": "markdown",
   "source": [
    "## Guardar y cargar los datos\n",
    "Para continuar usando el Data Frame en la práctica sin necesidad de siempre estarnos conectando a ChEMBL, vamos a guardar el Data Frame obtenido como un archivo separado por comas (data/compuestos_uniprot_id.csv)"
   ],
   "metadata": {
    "collapsed": false
   }
  },
  {
   "cell_type": "code",
   "execution_count": 23,
   "outputs": [],
   "source": [
    "df_bioact.to_csv(f\"./data/compuestos_{uniprot_id}.csv\", index=0)"
   ],
   "metadata": {
    "collapsed": false
   }
  },
  {
   "cell_type": "markdown",
   "source": [
    "En adelante, si queremos utilizar el Dataframe, podemos cargar el archivo guardado"
   ],
   "metadata": {
    "collapsed": false
   }
  },
  {
   "cell_type": "code",
   "execution_count": 24,
   "outputs": [
    {
     "data": {
      "text/plain": "  molecule_chembl_id  type  value units  pchembl_value\n0        CHEMBL35820  IC50  0.006    nM          11.22\n1        CHEMBL66031  IC50  0.008    nM          11.10\n2        CHEMBL53753  IC50  0.008    nM          11.10\n3       CHEMBL176582  IC50  0.010    nM          11.00\n4        CHEMBL29197  IC50  0.025    nM          10.60",
      "text/html": "<div>\n<style scoped>\n    .dataframe tbody tr th:only-of-type {\n        vertical-align: middle;\n    }\n\n    .dataframe tbody tr th {\n        vertical-align: top;\n    }\n\n    .dataframe thead th {\n        text-align: right;\n    }\n</style>\n<table border=\"1\" class=\"dataframe\">\n  <thead>\n    <tr style=\"text-align: right;\">\n      <th></th>\n      <th>molecule_chembl_id</th>\n      <th>type</th>\n      <th>value</th>\n      <th>units</th>\n      <th>pchembl_value</th>\n    </tr>\n  </thead>\n  <tbody>\n    <tr>\n      <th>0</th>\n      <td>CHEMBL35820</td>\n      <td>IC50</td>\n      <td>0.006</td>\n      <td>nM</td>\n      <td>11.22</td>\n    </tr>\n    <tr>\n      <th>1</th>\n      <td>CHEMBL66031</td>\n      <td>IC50</td>\n      <td>0.008</td>\n      <td>nM</td>\n      <td>11.10</td>\n    </tr>\n    <tr>\n      <th>2</th>\n      <td>CHEMBL53753</td>\n      <td>IC50</td>\n      <td>0.008</td>\n      <td>nM</td>\n      <td>11.10</td>\n    </tr>\n    <tr>\n      <th>3</th>\n      <td>CHEMBL176582</td>\n      <td>IC50</td>\n      <td>0.010</td>\n      <td>nM</td>\n      <td>11.00</td>\n    </tr>\n    <tr>\n      <th>4</th>\n      <td>CHEMBL29197</td>\n      <td>IC50</td>\n      <td>0.025</td>\n      <td>nM</td>\n      <td>10.60</td>\n    </tr>\n  </tbody>\n</table>\n</div>"
     },
     "execution_count": 24,
     "metadata": {},
     "output_type": "execute_result"
    }
   ],
   "source": [
    "df_bioact = pd.read_csv(f\"data/compuestos_{uniprot_id}.csv\")\n",
    "df_bioact.head()"
   ],
   "metadata": {
    "collapsed": false
   }
  },
  {
   "cell_type": "markdown",
   "source": [
    "# Datos de los compuestos\n",
    "\n",
    "A continuación vamos a obtener los datos de las moléculas que estan almacenados dentro de cada molecule_chembl_id"
   ],
   "metadata": {
    "collapsed": false
   }
  },
  {
   "cell_type": "code",
   "execution_count": 25,
   "outputs": [],
   "source": [
    "# Librería necesaria para comunicarse con CHEMBL\n",
    "from chembl_webresource_client.new_client import new_client\n",
    "# libreria para trabajar con base de datos (Dataframes)\n",
    "import pandas as pd\n",
    "\n",
    "# Declaración de variables para instanciar el cliente de CHEMBL y acceder a la base de datos de las moléculas\n",
    "compounds = new_client.molecule\n",
    "\n",
    "# Cargamos el archivo antes guardado\n",
    "# uniprot_id = 'P49841'\n",
    "df_bioact = pd.read_csv(f\"data/compuestos_{uniprot_id}.csv\")"
   ],
   "metadata": {
    "collapsed": false
   }
  },
  {
   "cell_type": "code",
   "execution_count": 26,
   "outputs": [],
   "source": [
    "# Primero tenemos que obtener la lista de los compuestos que definimos como bioactivos\n",
    "lista_comp_id = list(df_bioact['molecule_chembl_id'])\n",
    "# Obtener la estructura de cada compuesto\n",
    "lista_compuestos = compounds.filter(molecule_chembl_id__in = lista_comp_id) \\\n",
    "                            .only('molecule_chembl_id','molecule_structures')"
   ],
   "metadata": {
    "collapsed": false
   }
  },
  {
   "cell_type": "markdown",
   "source": [
    "Veamos la estructura de la información"
   ],
   "metadata": {
    "collapsed": false
   }
  },
  {
   "cell_type": "code",
   "execution_count": 27,
   "outputs": [
    {
     "data": {
      "text/plain": "{'molecule_chembl_id': 'CHEMBL3891846',\n 'molecule_structures': {'canonical_smiles': 'C[C@@H](Nc1ncnc2oc(-c3ccc(NCCN4CCCCC4)cc3)cc12)c1ccccc1',\n  'molfile': '\\n     RDKit          2D\\n\\n 33 37  0  0  0  0  0  0  0  0999 V2000\\n   15.5665  -24.5570    0.0000 C   0  0  0  0  0  0  0  0  0  0  0  0\\n   15.5653  -25.3765    0.0000 N   0  0  0  0  0  0  0  0  0  0  0  0\\n   16.2734  -25.7855    0.0000 C   0  0  0  0  0  0  0  0  0  0  0  0\\n   16.2716  -24.1481    0.0000 N   0  0  0  0  0  0  0  0  0  0  0  0\\n   16.9802  -24.5534    0.0000 C   0  0  0  0  0  0  0  0  0  0  0  0\\n   16.9805  -25.3765    0.0000 C   0  0  0  0  0  0  0  0  0  0  0  0\\n   17.7634  -25.6307    0.0000 C   0  0  0  0  0  0  0  0  0  0  0  0\\n   18.2472  -24.9646    0.0000 C   0  0  0  0  0  0  0  0  0  0  0  0\\n   17.7630  -24.2988    0.0000 O   0  0  0  0  0  0  0  0  0  0  0  0\\n   16.2736  -26.6027    0.0000 N   0  0  0  0  0  0  0  0  0  0  0  0\\n   16.9814  -27.0111    0.0000 C   0  0  0  0  0  0  0  0  0  0  0  0\\n   16.9817  -27.8283    0.0000 C   0  0  0  0  0  0  0  0  0  0  0  0\\n   17.6890  -26.6023    0.0000 C   0  0  0  0  0  0  0  0  0  0  0  0\\n   16.2728  -28.2320    0.0000 C   0  0  0  0  0  0  0  0  0  0  0  0\\n   16.2727  -29.0485    0.0000 C   0  0  0  0  0  0  0  0  0  0  0  0\\n   16.9810  -29.4577    0.0000 C   0  0  0  0  0  0  0  0  0  0  0  0\\n   17.6910  -29.0445    0.0000 C   0  0  0  0  0  0  0  0  0  0  0  0\\n   17.6876  -28.2294    0.0000 C   0  0  0  0  0  0  0  0  0  0  0  0\\n   19.0611  -24.9629    0.0000 C   0  0  0  0  0  0  0  0  0  0  0  0\\n   19.4693  -25.6721    0.0000 C   0  0  0  0  0  0  0  0  0  0  0  0\\n   20.2858  -25.6721    0.0000 C   0  0  0  0  0  0  0  0  0  0  0  0\\n   20.6949  -24.9637    0.0000 C   0  0  0  0  0  0  0  0  0  0  0  0\\n   20.2817  -24.2538    0.0000 C   0  0  0  0  0  0  0  0  0  0  0  0\\n   19.4666  -24.2573    0.0000 C   0  0  0  0  0  0  0  0  0  0  0  0\\n   21.5121  -24.9624    0.0000 N   0  0  0  0  0  0  0  0  0  0  0  0\\n   21.9219  -25.6694    0.0000 C   0  0  0  0  0  0  0  0  0  0  0  0\\n   22.7391  -25.6680    0.0000 C   0  0  0  0  0  0  0  0  0  0  0  0\\n   23.1489  -26.3751    0.0000 N   0  0  0  0  0  0  0  0  0  0  0  0\\n   22.7372  -27.0795    0.0000 C   0  0  0  0  0  0  0  0  0  0  0  0\\n   23.1435  -27.7844    0.0000 C   0  0  0  0  0  0  0  0  0  0  0  0\\n   23.9611  -27.7872    0.0000 C   0  0  0  0  0  0  0  0  0  0  0  0\\n   24.3706  -27.0790    0.0000 C   0  0  0  0  0  0  0  0  0  0  0  0\\n   23.9627  -26.3679    0.0000 C   0  0  0  0  0  0  0  0  0  0  0  0\\n  1  2  2  0\\n  2  3  1  0\\n  3  6  2  0\\n  5  4  2  0\\n  4  1  1  0\\n  5  6  1  0\\n  6  7  1  0\\n  7  8  2  0\\n  8  9  1  0\\n  9  5  1  0\\n  3 10  1  0\\n 10 11  1  0\\n 11 12  1  0\\n 11 13  1  6\\n 12 14  2  0\\n 14 15  1  0\\n 15 16  2  0\\n 16 17  1  0\\n 17 18  2  0\\n 18 12  1  0\\n 19 20  2  0\\n 20 21  1  0\\n 21 22  2  0\\n 22 23  1  0\\n 23 24  2  0\\n 24 19  1  0\\n  8 19  1  0\\n 22 25  1  0\\n 25 26  1  0\\n 26 27  1  0\\n 27 28  1  0\\n 28 29  1  0\\n 28 33  1  0\\n 29 30  1  0\\n 30 31  1  0\\n 31 32  1  0\\n 32 33  1  0\\nM  END\\n\\n> <chembl_id>\\nCHEMBL3891846\\n\\n> <chembl_pref_name>\\nundefined\\n\\n',\n  'standard_inchi': 'InChI=1S/C27H31N5O/c1-20(21-8-4-2-5-9-21)31-26-24-18-25(33-27(24)30-19-29-26)22-10-12-23(13-11-22)28-14-17-32-15-6-3-7-16-32/h2,4-5,8-13,18-20,28H,3,6-7,14-17H2,1H3,(H,29,30,31)/t20-/m1/s1',\n  'standard_inchi_key': 'WXPVUXPDOICCSW-HXUWFJFHSA-N'}}"
     },
     "execution_count": 27,
     "metadata": {},
     "output_type": "execute_result"
    }
   ],
   "source": [
    "lista_compuestos[5000]"
   ],
   "metadata": {
    "collapsed": false
   }
  },
  {
   "cell_type": "markdown",
   "source": [
    "Los compuestos tienen distintos tipos de representaciones como el SMILES, el InChI y el InChI Key.\n",
    "Como solamente nos interesa la información de `canonical_smiles`, ya que describe la estructura química, podemos crear una nueva lista con el ChEMBL ID y el SMILE.\n",
    "\n",
    "Como es posible que todos los compuestos no tengan la estructura molecular, para que el ciclo no pare cuando encuentre un error, podemos crear un `try/excpet`."
   ],
   "metadata": {
    "collapsed": false
   }
  },
  {
   "cell_type": "code",
   "execution_count": null,
   "outputs": [],
   "source": [
    "new_lista_compuestos = list()\n",
    "for molecule_info in lista_compuestos:\n",
    "    try:\n",
    "        if molecule_info['molecule_structures'] is not None:\n",
    "            new_lista_compuestos.append({'molecule_chembl_id': molecule_info['molecule_chembl_id'],\n",
    "                                     'smile': molecule_info['molecule_structures']['canonical_smiles']})\n",
    "    except TypeError:\n",
    "        pass\n",
    "\n",
    "# Primeros elementos de la nueva lista\n",
    "new_lista_compuestos.head()\n",
    "# La primera vez que se ejecuta esta celda celda puede tardar ~5-10 minutos"
   ],
   "metadata": {
    "collapsed": false,
    "pycharm": {
     "is_executing": true
    }
   }
  },
  {
   "cell_type": "markdown",
   "source": [
    "Para combinar la información, se debe convertir la lista en un dataframe"
   ],
   "metadata": {
    "collapsed": false
   }
  },
  {
   "cell_type": "code",
   "execution_count": null,
   "outputs": [],
   "source": [
    "# convertir la lista obtenida en un dataframe\n",
    "df_comp = pd.DataFrame(new_lista_compuestos)\n",
    "# Eliminamos duplicados y valores nulos\n",
    "df_comp = df_comp.drop_duplicates('molecule_chembl_id', keep = 'first')\n",
    "print(f'Total de compuestos es: {str(len(df_comp))}')\n",
    "df_comp.head()"
   ],
   "metadata": {
    "collapsed": false,
    "pycharm": {
     "is_executing": true
    }
   }
  },
  {
   "cell_type": "markdown",
   "source": [
    "## Combinar los Dataframe\n",
    "\n",
    "Ahora tenemos dos dataframes que vamos a combinar para tener todos los datos en uno solo dataframe y poder guardarlos"
   ],
   "metadata": {
    "collapsed": false
   }
  },
  {
   "cell_type": "code",
   "execution_count": null,
   "outputs": [],
   "source": [
    "# En el Dataframe de bioactividad se filtran solamente dos columnas\n",
    "df_output = pd.merge(df_bioact[['molecule_chembl_id','pchembl_value']], df_comp, on='molecule_chembl_id')\n",
    "print(f'Total de compuestos es: {str(len(df_output))}')\n",
    "df_output.head()"
   ],
   "metadata": {
    "collapsed": false,
    "pycharm": {
     "is_executing": true
    }
   }
  },
  {
   "cell_type": "markdown",
   "source": [
    "Se pueden renombrar las columnas"
   ],
   "metadata": {
    "collapsed": false
   }
  },
  {
   "cell_type": "code",
   "execution_count": null,
   "outputs": [],
   "source": [
    "df_output = df_output.rename(columns= {'pchembl_value':'pIC50'})\n",
    "print(f'Total de compuestos es: {str(len(df_output))}')\n",
    "df_output.head()"
   ],
   "metadata": {
    "collapsed": false,
    "pycharm": {
     "is_executing": true
    }
   }
  },
  {
   "cell_type": "markdown",
   "source": [
    "Para poder emplear la siguiente función de rdkit es necesario que todos los compuestos tenga SMILES, por esto eliminamos los compuestos sin SMILES en el dataframe"
   ],
   "metadata": {
    "collapsed": false
   }
  },
  {
   "cell_type": "code",
   "execution_count": null,
   "outputs": [],
   "source": [
    "df_output = df_output[~df_output['smile'].isnull()]\n",
    "print(f'Total de compuestos es: {str(len(df_output))}')\n",
    "df_output.head()"
   ],
   "metadata": {
    "collapsed": false,
    "pycharm": {
     "is_executing": true
    }
   }
  },
  {
   "cell_type": "markdown",
   "source": [
    "## Dibujar la molécula\n",
    "\n",
    "Vamos a añadir una nueva columna al dataframe con la función `.AddMoleculeColumnToFrame` la cual convierte las moléculas contenidas en \"smilesCol\" en moléculas RDKit y las agrega al dataframe"
   ],
   "metadata": {
    "collapsed": false
   }
  },
  {
   "cell_type": "code",
   "execution_count": null,
   "outputs": [],
   "source": [
    "from rdkit.Chem import PandasTools\n",
    "PandasTools.AddMoleculeColumnToFrame(df_output, smilesCol='smile')\n",
    "df_output.head()"
   ],
   "metadata": {
    "collapsed": false,
    "pycharm": {
     "is_executing": true
    }
   }
  },
  {
   "cell_type": "markdown",
   "source": [
    "Ahora podemos llamar a cualquier compuesto para ver su representación en 2D"
   ],
   "metadata": {
    "collapsed": false
   }
  },
  {
   "cell_type": "code",
   "execution_count": null,
   "outputs": [],
   "source": [
    "df_output.ROMol.iloc[0]"
   ],
   "metadata": {
    "collapsed": false,
    "pycharm": {
     "is_executing": true
    }
   }
  },
  {
   "cell_type": "markdown",
   "source": [
    "## Guardar el dataframe obtenido\n",
    "\n",
    "Se va a guardar el dataframe como un archivo csv"
   ],
   "metadata": {
    "collapsed": false
   }
  },
  {
   "cell_type": "code",
   "execution_count": null,
   "outputs": [],
   "source": [
    "df_output.to_csv(f\"data/compounds_{uniprot_id}_full.csv\", index=0)"
   ],
   "metadata": {
    "collapsed": false,
    "pycharm": {
     "is_executing": true
    }
   }
  },
  {
   "cell_type": "markdown",
   "source": [
    "## Actividad práctica\n",
    "Teniendo en cuenta lo aprendido en este Notebook, responda:\n",
    "1. ¿Qué otros datos podemos obtener de ChEMBL del target de interés?\n",
    "2. ¿Se podría realizar una nueva clasificación de los compuestos filtrándolos únicamente por el pEC50?, compruébelo y observe las diferencias\n",
    "3. Obtenga los datos conocidos de los compuestos, referentes a inhibición y actividad."
   ],
   "metadata": {
    "collapsed": false
   }
  },
  {
   "cell_type": "markdown",
   "source": [
    "## Conclusiones\n",
    "En esta práctica se empleó la base de datos ChEMBL para obtener datos de compuestos bioactivos frente a nuestro target de interés. Estos datos extraidos en forma de diccionarios y listas se convirtieron en un DataFrame el cual permite visualizar fácilmente la información obtenida. Además, se obtuvieron datos de los compuestos bioactivos, combinaron DataFrames, se renombraron columnas y se utilizo una herramienta de panda para añadir una nueva columna al DataFrame construido."
   ],
   "metadata": {
    "collapsed": false
   }
  }
 ],
 "metadata": {
  "kernelspec": {
   "display_name": "Python 3",
   "language": "python",
   "name": "python3"
  },
  "language_info": {
   "codemirror_mode": {
    "name": "ipython",
    "version": 2
   },
   "file_extension": ".py",
   "mimetype": "text/x-python",
   "name": "python",
   "nbconvert_exporter": "python",
   "pygments_lexer": "ipython2",
   "version": "2.7.6"
  }
 },
 "nbformat": 4,
 "nbformat_minor": 0
}
