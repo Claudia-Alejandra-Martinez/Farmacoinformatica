{
 "cells": [
  {
   "cell_type": "markdown",
   "metadata": {},
   "source": [
    "# Práctica 3: Análisis estadístico de la Regla de Lipinski\n",
    "\n",
    "## Conceptos a trabajar\n",
    "\n",
    "### **Farmacocinética**\n",
    "\n",
    "La farmacocinética es el estudio de lo que le sucede a un compuesto en un organismo durante un período de tiempo<sup> **1** </sup> . Se divide en cuatro pasos: **A**bsorción, **D**istribución, **M**etabolismo y **E**xcreción (ADME)**<sup> 1, </sup>** **<sup> 2 </sup>**. En ocasiones también se incluye **T**oxicología (ADMET) y **L**iberación (LADME).\n",
    "\n",
    " \n",
    "<img src=\"data/ADME-es.jpg\" alt=\"ADME\" width=\"800\"/>\n",
    "\n",
    "*Figura 1*. Pasos que componen la farmacocinética. Adaptada de: [Somvanshi, Kharat, Jadhav, Thorat y Townley, 2021](https://doi.org/10.1016/B978-0-323-85050-6.00007-4)\n",
    "\n",
    "   * **Absorción:** Se refiere a la cantidad y el tiempo que tarda un compuesto o sustancia en ingresar a la circulación sistémica desde el sitio de administración. Depende de múltiples factores como la capacidad del compuesto para penetrar la pared intestinal, la solubilidad del compuesto, el tiempo de vaciado gástrico, la estabilidad química del compuesto en el estómago, entre otros<sup> **1, 2** </sup>.\n",
    "   * **Distribución:** Se refiere a cómo una sustancia se distribuye por todo el cuerpo. Depende de la difusión y la convección, que pueden verse influidas por la polaridad, el tamaño o la capacidad de unión del fármaco, el estado de líquidos del paciente o la constitución corporal del individuo. Es muy importante lograr la concentración eficaz del fármaco en el sitio del receptor porque, para ser eficaz, un medicamento debe llegar a su destino compartimental designado<sup> **1,2** </sup>.\n",
    "   * **Metabolismo:** Se refiere al procesamiento del fármaco por parte del cuerpo en compuestos posteriores. También puede ser convertir un fármaco en sustancias más solubles en agua para que sea más fácil de excretar o, en el caso de los profármacos, se requiere el metabolismo para convertir el fármaco en metabolitos activos<sup> **1,2** </sup>.\n",
    "   * **Excreción:** Se refiere al proceso por el cual el fármaco es eliminado del organismo. Generalmente, los riñones son conductos de excreción por filtración pasiva en los glomérulos o secreción en los túbulos<sup> **1, 2** </sup>.\n",
    "\n",
    "### **Reglas de Lipinski:**\n",
    "\n",
    "Las reglas de Lipinski es una forma de descartar compuestos con probables problemas de absorción. Esta regla establece que la mala absorción o penetración de un fármaco es más probable cuando la estructura química cumple con dos o más de los siguientes criterios<sup> **3** </sup>:\n",
    "1. El peso molecular (MW) es superior a 500.\n",
    "2. El valor de log P calculado es superior a 5.\n",
    "3. Hay más de 5 donantes de enlaces de hidrógeno (–NH–, –OH).\n",
    "4. El número de aceptores de enlaces de hidrógeno (–N ¼ , –O–) es mayor que 10.\n",
    "\n",
    "Es importante saber que la regla de cinco no categoriza definitivamente todos los compuestos bien y mal absorbidos, aunque es simple, rápida y proporciona un grado razonable de clasificación."
   ]
  },
  {
   "cell_type": "markdown",
   "metadata": {},
   "source": [
    "# Carga conjunto de datos de P49841\n",
    "Lo primero que vamos a hacer es importar la base de datos trabajada en la primera práctica, como está guardada en una carpeta diferente, lo primero que tenemos que hacer es crear un `directorio raíz` (`ROOT_DIR`) para poder navegar hasta el archivo"
   ]
  },
  {
   "cell_type": "code",
   "execution_count": 50,
   "metadata": {
    "collapsed": false,
    "jupyter": {
     "outputs_hidden": false
    }
   },
   "outputs": [
    {
     "name": "stdout",
     "output_type": "stream",
     "text": [
      "Directorio raíz: C:\\Users\\caramirezs\\My Drive\\Python\\Farmacoinformatica-2022\n"
     ]
    },
    {
     "data": {
      "text/html": [
       "<div>\n",
       "<style scoped>\n",
       "    .dataframe tbody tr th:only-of-type {\n",
       "        vertical-align: middle;\n",
       "    }\n",
       "\n",
       "    .dataframe tbody tr th {\n",
       "        vertical-align: top;\n",
       "    }\n",
       "\n",
       "    .dataframe thead th {\n",
       "        text-align: right;\n",
       "    }\n",
       "</style>\n",
       "<table border=\"1\" class=\"dataframe\">\n",
       "  <thead>\n",
       "    <tr style=\"text-align: right;\">\n",
       "      <th></th>\n",
       "      <th>molecule_chembl_id</th>\n",
       "      <th>pIC50</th>\n",
       "      <th>smile</th>\n",
       "      <th>ROMol</th>\n",
       "    </tr>\n",
       "  </thead>\n",
       "  <tbody>\n",
       "    <tr>\n",
       "      <th>0</th>\n",
       "      <td>CHEMBL2386094</td>\n",
       "      <td>10.89</td>\n",
       "      <td>O=C1NC(=O)C(c2cn3c4c(cc(F)cc24)CN(C(=O)N2CCOCC...</td>\n",
       "      <td>&lt;rdkit.Chem.rdchem.Mol object at 0x0000029121E...</td>\n",
       "    </tr>\n",
       "    <tr>\n",
       "      <th>1</th>\n",
       "      <td>CHEMBL4084855</td>\n",
       "      <td>10.00</td>\n",
       "      <td>COc1ccc(N2CCN(c3nc(-c4ccncn4)cc(=O)n3C)[C@H](C...</td>\n",
       "      <td>&lt;rdkit.Chem.rdchem.Mol object at 0x0000029121E...</td>\n",
       "    </tr>\n",
       "    <tr>\n",
       "      <th>2</th>\n",
       "      <td>CHEMBL3895998</td>\n",
       "      <td>10.00</td>\n",
       "      <td>Nc1ncc(-c2ccccc2F)nc1C(=O)Nc1cnccc1N1CCC(N)CC1</td>\n",
       "      <td>&lt;rdkit.Chem.rdchem.Mol object at 0x00000291297...</td>\n",
       "    </tr>\n",
       "    <tr>\n",
       "      <th>3</th>\n",
       "      <td>CHEMBL564450</td>\n",
       "      <td>9.85</td>\n",
       "      <td>COc1cc(C2=C(c3cn(CCN4CCN(C)CC4)c4ccccc34)C(=O)...</td>\n",
       "      <td>&lt;rdkit.Chem.rdchem.Mol object at 0x00000291297...</td>\n",
       "    </tr>\n",
       "    <tr>\n",
       "      <th>4</th>\n",
       "      <td>CHEMBL4077376</td>\n",
       "      <td>9.70</td>\n",
       "      <td>C[C@@H]1CN(c2ccccc2F)CCN1c1nc(-c2ccncn2)cc(=O)n1C</td>\n",
       "      <td>&lt;rdkit.Chem.rdchem.Mol object at 0x00000291297...</td>\n",
       "    </tr>\n",
       "  </tbody>\n",
       "</table>\n",
       "</div>"
      ],
      "text/plain": [
       "  molecule_chembl_id  pIC50  \\\n",
       "0      CHEMBL2386094  10.89   \n",
       "1      CHEMBL4084855  10.00   \n",
       "2      CHEMBL3895998  10.00   \n",
       "3       CHEMBL564450   9.85   \n",
       "4      CHEMBL4077376   9.70   \n",
       "\n",
       "                                               smile  \\\n",
       "0  O=C1NC(=O)C(c2cn3c4c(cc(F)cc24)CN(C(=O)N2CCOCC...   \n",
       "1  COc1ccc(N2CCN(c3nc(-c4ccncn4)cc(=O)n3C)[C@H](C...   \n",
       "2     Nc1ncc(-c2ccccc2F)nc1C(=O)Nc1cnccc1N1CCC(N)CC1   \n",
       "3  COc1cc(C2=C(c3cn(CCN4CCN(C)CC4)c4ccccc34)C(=O)...   \n",
       "4  C[C@@H]1CN(c2ccccc2F)CCN1c1nc(-c2ccncn2)cc(=O)n1C   \n",
       "\n",
       "                                               ROMol  \n",
       "0  <rdkit.Chem.rdchem.Mol object at 0x0000029121E...  \n",
       "1  <rdkit.Chem.rdchem.Mol object at 0x0000029121E...  \n",
       "2  <rdkit.Chem.rdchem.Mol object at 0x00000291297...  \n",
       "3  <rdkit.Chem.rdchem.Mol object at 0x00000291297...  \n",
       "4  <rdkit.Chem.rdchem.Mol object at 0x00000291297...  "
      ]
     },
     "execution_count": 50,
     "metadata": {},
     "output_type": "execute_result"
    }
   ],
   "source": [
    "# Librerias necesarias para importar la base de datos guardada\n",
    "import pandas as pd\n",
    "import os\n",
    "from pathlib import Path\n",
    "\n",
    "current_directory = os.getcwd()\n",
    "ROOT_DIR = Path(current_directory).parent\n",
    "uniprot_id = 'P49841'\n",
    "print('Directorio raíz:', ROOT_DIR)\n",
    "df_output = pd.read_csv(f'{ROOT_DIR}/01_Sesion-I/data/compounds_{uniprot_id}_full.csv')\n",
    "df_output.head()"
   ]
  },
  {
   "cell_type": "markdown",
   "metadata": {},
   "source": [
    "# Las reglas de Lipinski\n",
    "\n",
    "La siguiente función nos permitirá calcular las propiedades químicas de la regla de cinco de Lipinski teniendo como entrada los `SMILES`. Luego se definirán las condiciones de la regla de cinco y finalmente tendremos información de si se viola la regla de cinco."
   ]
  },
  {
   "cell_type": "code",
   "execution_count": 51,
   "metadata": {
    "collapsed": false,
    "jupyter": {
     "outputs_hidden": false
    }
   },
   "outputs": [],
   "source": [
    "# Librerias necessarias para adquirir las propiedades químicas de una molécula\n",
    "from rdkit import Chem\n",
    "from rdkit.Chem import Descriptors\n",
    "\n",
    "def Ro5(df):\n",
    "    smi = df['smile']\n",
    "    m = Chem.MolFromSmiles(smi)\n",
    "\n",
    "    # Calcular la regla de cinco propiedades químicas\n",
    "    MW = Descriptors.ExactMolWt(m)\n",
    "    HBA = Descriptors.NumHAcceptors(m)\n",
    "    HBD = Descriptors.NumHDonors(m)\n",
    "    LogP = Descriptors.MolLogP(m)\n",
    "\n",
    "    # Regla de cinco condiciones\n",
    "    conditions = [MW <= 500, HBA <= 10, HBD <= 5, LogP <= 5]\n",
    "\n",
    "    # Crear una fila de pandas para resultados de condiciones con valores e información sobre si se viola la regla de cinco\n",
    "    return pd.Series([MW, HBA, HBD, LogP, 'yes']) if conditions.count(True) >= 3 else pd.Series(\n",
    "        [MW, HBA, HBD, LogP, 'no'])"
   ]
  },
  {
   "cell_type": "markdown",
   "metadata": {},
   "source": [
    "Ahora vamos a aplicar la regla de 5 de Lipinski a nuestro conjunto de datos"
   ]
  },
  {
   "cell_type": "code",
   "execution_count": 52,
   "metadata": {
    "collapsed": false,
    "jupyter": {
     "outputs_hidden": false
    }
   },
   "outputs": [
    {
     "data": {
      "text/html": [
       "<div>\n",
       "<style scoped>\n",
       "    .dataframe tbody tr th:only-of-type {\n",
       "        vertical-align: middle;\n",
       "    }\n",
       "\n",
       "    .dataframe tbody tr th {\n",
       "        vertical-align: top;\n",
       "    }\n",
       "\n",
       "    .dataframe thead th {\n",
       "        text-align: right;\n",
       "    }\n",
       "</style>\n",
       "<table border=\"1\" class=\"dataframe\">\n",
       "  <thead>\n",
       "    <tr style=\"text-align: right;\">\n",
       "      <th></th>\n",
       "      <th>MW</th>\n",
       "      <th>HBA</th>\n",
       "      <th>HBD</th>\n",
       "      <th>LogP</th>\n",
       "      <th>rule_of_five_conform</th>\n",
       "    </tr>\n",
       "  </thead>\n",
       "  <tbody>\n",
       "    <tr>\n",
       "      <th>0</th>\n",
       "      <td>514.165248</td>\n",
       "      <td>6</td>\n",
       "      <td>1</td>\n",
       "      <td>3.3616</td>\n",
       "      <td>yes</td>\n",
       "    </tr>\n",
       "    <tr>\n",
       "      <th>1</th>\n",
       "      <td>392.196074</td>\n",
       "      <td>8</td>\n",
       "      <td>0</td>\n",
       "      <td>1.9610</td>\n",
       "      <td>yes</td>\n",
       "    </tr>\n",
       "    <tr>\n",
       "      <th>2</th>\n",
       "      <td>407.186987</td>\n",
       "      <td>7</td>\n",
       "      <td>3</td>\n",
       "      <td>2.4397</td>\n",
       "      <td>yes</td>\n",
       "    </tr>\n",
       "    <tr>\n",
       "      <th>3</th>\n",
       "      <td>484.211055</td>\n",
       "      <td>7</td>\n",
       "      <td>1</td>\n",
       "      <td>3.2107</td>\n",
       "      <td>yes</td>\n",
       "    </tr>\n",
       "    <tr>\n",
       "      <th>4</th>\n",
       "      <td>380.176088</td>\n",
       "      <td>7</td>\n",
       "      <td>0</td>\n",
       "      <td>2.0915</td>\n",
       "      <td>yes</td>\n",
       "    </tr>\n",
       "  </tbody>\n",
       "</table>\n",
       "</div>"
      ],
      "text/plain": [
       "           MW  HBA  HBD    LogP rule_of_five_conform\n",
       "0  514.165248    6    1  3.3616                  yes\n",
       "1  392.196074    8    0  1.9610                  yes\n",
       "2  407.186987    7    3  2.4397                  yes\n",
       "3  484.211055    7    1  3.2107                  yes\n",
       "4  380.176088    7    0  2.0915                  yes"
      ]
     },
     "execution_count": 52,
     "metadata": {},
     "output_type": "execute_result"
    }
   ],
   "source": [
    "df_rule5 = df_output.apply(Ro5, axis=1)\n",
    "# Nombre de las columnas condition columns\n",
    "df_rule5.columns= ['MW', 'HBA', 'HBD', 'LogP', 'rule_of_five_conform']\n",
    "df_rule5.head()"
   ]
  },
  {
   "cell_type": "markdown",
   "metadata": {},
   "source": [
    "Finalmente se concatena el dataset construido (`rule5_df`) con el original (`df_output`)"
   ]
  },
  {
   "cell_type": "code",
   "execution_count": 53,
   "metadata": {
    "collapsed": false,
    "jupyter": {
     "outputs_hidden": false
    }
   },
   "outputs": [
    {
     "data": {
      "text/html": [
       "<div>\n",
       "<style scoped>\n",
       "    .dataframe tbody tr th:only-of-type {\n",
       "        vertical-align: middle;\n",
       "    }\n",
       "\n",
       "    .dataframe tbody tr th {\n",
       "        vertical-align: top;\n",
       "    }\n",
       "\n",
       "    .dataframe thead th {\n",
       "        text-align: right;\n",
       "    }\n",
       "</style>\n",
       "<table border=\"1\" class=\"dataframe\">\n",
       "  <thead>\n",
       "    <tr style=\"text-align: right;\">\n",
       "      <th></th>\n",
       "      <th>molecule_chembl_id</th>\n",
       "      <th>pIC50</th>\n",
       "      <th>smile</th>\n",
       "      <th>ROMol</th>\n",
       "      <th>MW</th>\n",
       "      <th>HBA</th>\n",
       "      <th>HBD</th>\n",
       "      <th>LogP</th>\n",
       "      <th>rule_of_five_conform</th>\n",
       "    </tr>\n",
       "  </thead>\n",
       "  <tbody>\n",
       "    <tr>\n",
       "      <th>0</th>\n",
       "      <td>CHEMBL2386094</td>\n",
       "      <td>10.89</td>\n",
       "      <td>O=C1NC(=O)C(c2cn3c4c(cc(F)cc24)CN(C(=O)N2CCOCC...</td>\n",
       "      <td>&lt;rdkit.Chem.rdchem.Mol object at 0x0000029121E...</td>\n",
       "      <td>514.165248</td>\n",
       "      <td>6</td>\n",
       "      <td>1</td>\n",
       "      <td>3.3616</td>\n",
       "      <td>yes</td>\n",
       "    </tr>\n",
       "    <tr>\n",
       "      <th>1</th>\n",
       "      <td>CHEMBL4084855</td>\n",
       "      <td>10.00</td>\n",
       "      <td>COc1ccc(N2CCN(c3nc(-c4ccncn4)cc(=O)n3C)[C@H](C...</td>\n",
       "      <td>&lt;rdkit.Chem.rdchem.Mol object at 0x0000029121E...</td>\n",
       "      <td>392.196074</td>\n",
       "      <td>8</td>\n",
       "      <td>0</td>\n",
       "      <td>1.9610</td>\n",
       "      <td>yes</td>\n",
       "    </tr>\n",
       "    <tr>\n",
       "      <th>2</th>\n",
       "      <td>CHEMBL3895998</td>\n",
       "      <td>10.00</td>\n",
       "      <td>Nc1ncc(-c2ccccc2F)nc1C(=O)Nc1cnccc1N1CCC(N)CC1</td>\n",
       "      <td>&lt;rdkit.Chem.rdchem.Mol object at 0x00000291297...</td>\n",
       "      <td>407.186987</td>\n",
       "      <td>7</td>\n",
       "      <td>3</td>\n",
       "      <td>2.4397</td>\n",
       "      <td>yes</td>\n",
       "    </tr>\n",
       "    <tr>\n",
       "      <th>3</th>\n",
       "      <td>CHEMBL564450</td>\n",
       "      <td>9.85</td>\n",
       "      <td>COc1cc(C2=C(c3cn(CCN4CCN(C)CC4)c4ccccc34)C(=O)...</td>\n",
       "      <td>&lt;rdkit.Chem.rdchem.Mol object at 0x00000291297...</td>\n",
       "      <td>484.211055</td>\n",
       "      <td>7</td>\n",
       "      <td>1</td>\n",
       "      <td>3.2107</td>\n",
       "      <td>yes</td>\n",
       "    </tr>\n",
       "    <tr>\n",
       "      <th>4</th>\n",
       "      <td>CHEMBL4077376</td>\n",
       "      <td>9.70</td>\n",
       "      <td>C[C@@H]1CN(c2ccccc2F)CCN1c1nc(-c2ccncn2)cc(=O)n1C</td>\n",
       "      <td>&lt;rdkit.Chem.rdchem.Mol object at 0x00000291297...</td>\n",
       "      <td>380.176088</td>\n",
       "      <td>7</td>\n",
       "      <td>0</td>\n",
       "      <td>2.0915</td>\n",
       "      <td>yes</td>\n",
       "    </tr>\n",
       "  </tbody>\n",
       "</table>\n",
       "</div>"
      ],
      "text/plain": [
       "  molecule_chembl_id  pIC50  \\\n",
       "0      CHEMBL2386094  10.89   \n",
       "1      CHEMBL4084855  10.00   \n",
       "2      CHEMBL3895998  10.00   \n",
       "3       CHEMBL564450   9.85   \n",
       "4      CHEMBL4077376   9.70   \n",
       "\n",
       "                                               smile  \\\n",
       "0  O=C1NC(=O)C(c2cn3c4c(cc(F)cc24)CN(C(=O)N2CCOCC...   \n",
       "1  COc1ccc(N2CCN(c3nc(-c4ccncn4)cc(=O)n3C)[C@H](C...   \n",
       "2     Nc1ncc(-c2ccccc2F)nc1C(=O)Nc1cnccc1N1CCC(N)CC1   \n",
       "3  COc1cc(C2=C(c3cn(CCN4CCN(C)CC4)c4ccccc34)C(=O)...   \n",
       "4  C[C@@H]1CN(c2ccccc2F)CCN1c1nc(-c2ccncn2)cc(=O)n1C   \n",
       "\n",
       "                                               ROMol          MW  HBA  HBD  \\\n",
       "0  <rdkit.Chem.rdchem.Mol object at 0x0000029121E...  514.165248    6    1   \n",
       "1  <rdkit.Chem.rdchem.Mol object at 0x0000029121E...  392.196074    8    0   \n",
       "2  <rdkit.Chem.rdchem.Mol object at 0x00000291297...  407.186987    7    3   \n",
       "3  <rdkit.Chem.rdchem.Mol object at 0x00000291297...  484.211055    7    1   \n",
       "4  <rdkit.Chem.rdchem.Mol object at 0x00000291297...  380.176088    7    0   \n",
       "\n",
       "     LogP rule_of_five_conform  \n",
       "0  3.3616                  yes  \n",
       "1  1.9610                  yes  \n",
       "2  2.4397                  yes  \n",
       "3  3.2107                  yes  \n",
       "4  2.0915                  yes  "
      ]
     },
     "execution_count": 53,
     "metadata": {},
     "output_type": "execute_result"
    }
   ],
   "source": [
    "df_molecule = df_output.join(df_rule5)\n",
    "df_molecule.head()"
   ]
  },
  {
   "cell_type": "code",
   "execution_count": null,
   "metadata": {},
   "outputs": [],
   "source": [
    "# Eliminar filas vacías --> regla de cinco\n",
    "fil_df = df_molecule[df_molecule['rule_of_five_conform']=='yes']\n",
    "print('# de compuestos:', len(df_molecule))\n",
    "print('# de compuestos en conjunto de datos filtrados:', len(fil_df))\n",
    "print(\"# de compuestos que no cumplen con la regla de cinco de Lipinski:\", (len(df_molecule)-len(fil_df)))\n",
    "print(df_molecule.rule_of_five_conform.value_counts())\n",
    "df_molecule.rule_of_five_conform.value_counts().plot.bar()"
   ]
  },
  {
   "cell_type": "markdown",
   "metadata": {},
   "source": [
    "Finalmente, guardamos los datos"
   ]
  },
  {
   "cell_type": "code",
   "execution_count": 54,
   "metadata": {
    "collapsed": false,
    "jupyter": {
     "outputs_hidden": false
    }
   },
   "outputs": [],
   "source": [
    "df_molecule.to_csv(f'data/{uniprot_id}_compounds_lipinski.csv')"
   ]
  },
  {
   "cell_type": "markdown",
   "metadata": {},
   "source": [
    "## Graficar las propiedades de la regla de cinco por molécula como gráficos de barras."
   ]
  },
  {
   "cell_type": "code",
   "execution_count": null,
   "metadata": {},
   "outputs": [],
   "source": [
    "# Importar el conjunto de datos\n",
    "lipinski_comp = pd.read_csv('https://raw.githubusercontent.com/ramirezlab/Farmacoinformatica/main/02_Sesiones-practicas/03_Sesion-III/data/P49841_compounds_lipinski.csv')\n",
    "lipinski_comp.head(10)"
   ]
  },
  {
   "cell_type": "code",
   "execution_count": null,
   "metadata": {},
   "outputs": [],
   "source": [
    "comp_5_lipinski = lipinski_comp.iloc[:5]\n",
    "comp_5_lipinski"
   ]
  },
  {
   "cell_type": "markdown",
   "metadata": {},
   "source": [
    "#### Ahora haremos el gráfico de barras."
   ]
  },
  {
   "cell_type": "code",
   "execution_count": null,
   "metadata": {},
   "outputs": [],
   "source": [
    "ro5_properties = {\n",
    "    \"MW\": (500, \"molecular weight (g/mol)\"),\n",
    "    \"HBA\": (10, \"# HBA\"),\n",
    "    \"HBD\": (5, \"# HBD\"),\n",
    "    \"LogP\": (5, \"logP\"),\n",
    "}"
   ]
  },
  {
   "cell_type": "code",
   "execution_count": null,
   "metadata": {},
   "outputs": [],
   "source": [
    "fig, axes = plt.subplots(figsize=(10, 2.5), nrows=1, ncols=4)\n",
    "x = np.arange(1, len(comp_5_lipinski) + 1)\n",
    "colors = [\"DarkMagenta\", \"LightGreen\", \"blue\", \"DarkSalmon\", \"yellow\"]\n",
    "\n",
    "# Crear subgráficas parcelas\n",
    "for index, (key, (threshold, title)) in enumerate(ro5_properties.items()):\n",
    "    axes[index].bar([0, 1, 2, 3, 4], comp_5_lipinski [key], color=colors)\n",
    "    axes[index].axhline(y=threshold, color=\"black\", linestyle=\"dashed\")\n",
    "    axes[index].set_title(title)\n",
    "    axes[index].set_xticks([])\n",
    "\n",
    "# Agregar leyenda\n",
    "legend_elements = [mpatches.Patch(color=colors[index], label=row[\"molecule_chembl_id\"]) for index, row in comp_5_lipinski.iterrows()]\n",
    "legend_elements.append(Line2D([0], [0], color=\"black\", ls=\"dashed\", label=\"Threshold\"))\n",
    "fig.legend(handles=legend_elements, bbox_to_anchor=(1.2, 0.8))\n",
    "\n",
    "# Ajustar subgráficas parcelas y leyendas en la figura\n",
    "plt.tight_layout()\n",
    "plt.show()"
   ]
  },
  {
   "cell_type": "markdown",
   "metadata": {
    "tags": []
   },
   "source": [
    "## Graficar las propiedades de la regla de cinco por molécula como diagramas de dispersión."
   ]
  },
  {
   "cell_type": "code",
   "execution_count": null,
   "metadata": {
    "tags": []
   },
   "outputs": [],
   "source": [
    "fig = plt.figure(figsize=(20, 20))\n",
    "ax = sns.pairplot(data=lipinski_comp, vars=['HBD', 'HBA', 'MW', 'LogP'], hue='rule_of_five_conform')\n",
    "plt.show()\n",
    "plt.close()"
   ]
  },
  {
   "cell_type": "markdown",
   "metadata": {},
   "source": [
    "## Graficar las propiedades de la regla de cinco por molécula como gráfico de radar."
   ]
  },
  {
   "cell_type": "code",
   "execution_count": null,
   "metadata": {},
   "outputs": [],
   "source": [
    "# Importar el conjunto de datos\n",
    "lipinski_comp = pd.read_csv('https://raw.githubusercontent.com/ramirezlab/Farmacoinformatica/main/02_Sesiones-practicas/03_Sesion-III/data/P49841_compounds_lipinski.csv')\n",
    "lipinski_comp.head(10)"
   ]
  },
  {
   "cell_type": "markdown",
   "metadata": {},
   "source": [
    "Debido a que las propiedades químicas de la regla de cinco están en diferentes órdenes de magnitud, necesitamos transformarlas para poder visualizarlas en el diagrama de radar. En este caso, la mejor forma es transformar los datos de tal manera que los límites de validación sean todos 5:\n",
    "\n",
    "- MW original: 500 g/mol - MW modificado: 5 - regla: NW/100 (Masa molecular (g/mol)/100)\n",
    "- HBA original: 10 - HBA modificado: 5 - regla: HBA/2 (# Aceptores de enlaces de hidrogeno/2)\n",
    "- HBD original: 5 - no cambia (# Donores de enlaces de hidrógeno)\n",
    "- LogP original: 5 - no cambia (LogP)\n",
    "\n",
    "Por tanto, vamos a transformar las columnas `MW` y `HBA`, (los nuevos se agregan en las últimas columnas):"
   ]
  },
  {
   "cell_type": "code",
   "execution_count": null,
   "metadata": {},
   "outputs": [],
   "source": [
    "lipinski_comp['MW*100'] = lipinski_comp['MW']/100\n",
    "lipinski_comp['HBA*2'] = lipinski_comp['HBA']/2\n",
    "lipinski_comp.head(10)"
   ]
  },
  {
   "cell_type": "markdown",
   "metadata": {},
   "source": [
    "Para el gráfico de radar necesitamos las desviaciones media y estándar de un conjunto de datos, por lo que crearemos una función que nos permita calcular estas dos estadísticas para los valores escalados."
   ]
  },
  {
   "cell_type": "code",
   "execution_count": null,
   "metadata": {},
   "outputs": [],
   "source": [
    "metrics_Ro5_stats_scaled = lipinski_comp[['MW*100', 'HBA*2', 'HBD', 'LogP']].agg([\"mean\", \"std\"])\n",
    "metrics_Ro5_stats_scaled"
   ]
  },
  {
   "cell_type": "markdown",
   "metadata": {},
   "source": [
    "Ahora vamos a crear la función que realiza el gráfico. El conjunto de datos debe proporcionarse como entrada.\n",
    "La función escala los datos y encuentra la media y la desviación estándar para el diagrama de radar."
   ]
  },
  {
   "cell_type": "code",
   "execution_count": null,
   "metadata": {},
   "outputs": [],
   "source": [
    "def plot_radar(dataframe):\n",
    "    from math import pi\n",
    "    import numpy as np\n",
    "\n",
    "    # ------- PARTE 0: Conjunto de datos escalados / Métricas\n",
    "    df = dataframe.copy()\n",
    "    df['MW*100'] = df['MW']/100\n",
    "    df['HBA*2'] = df['HBA']/2\n",
    "\n",
    "    metrics_Ro5_stats_scaled = df[['MW*100', 'HBA*2', 'HBD', 'LogP']].agg([\"mean\", \"std\"])\n",
    "    stats_mean = metrics_Ro5_stats_scaled.loc['mean']\n",
    "    stats_std = metrics_Ro5_stats_scaled.loc['std']\n",
    "\n",
    "   # ------- PARTE 1: Crear fondo\n",
    "    # número de variables\n",
    "    N = 4\n",
    "\n",
    "    # ¿Cuál será el ángulo de cada eje en el gráfico? (dividimos la trama / número de variable)\n",
    "    angles = [n / float(N) * 2 * pi for n in range(N)]\n",
    "    angles += angles[:1]\n",
    "\n",
    "   # Inicializar el diagrama de radar\n",
    "    fig = plt.figure(figsize=(8, 8))\n",
    "    ax = plt.subplot(111, polar=True)\n",
    "\n",
    "    # Si desea que el primer eje esté en la parte superior:\n",
    "     # ax.set_theta_offset(pi/2)\n",
    "     # ax.set_theta_direction(-1)\n",
    "\n",
    "    # Dibuja un hacha por variable + agrega etiquetas\n",
    "    categories = ['MW (g/mol)*100', '# HBA*2', '# HBD', 'LogP']\n",
    "    plt.xticks(angles[:-1], categories, size=14)\n",
    "\n",
    "    # Dibujar etiquetas del eje Y\n",
    "    ax.set_rlabel_position(0)\n",
    "    plt.yticks([1, 3, 5, 7], [\"1\", \"3\", \"5\", \"7\"],\n",
    "               color=\"grey\", size=12)\n",
    "    plt.ylim(0,7)\n",
    "\n",
    "     # ------- PARTE 2: Agregar parcelas\n",
    "     # Grafique cada individuo = cada línea de los datos\n",
    "     # datos\n",
    "    data = stats_mean.values\n",
    "    data = np.append(data, data[0])  # cerrar polígono\n",
    "    ax.plot(angles, data, linewidth=3, linestyle='solid', color='purple', label=\"mean\")\n",
    "    # data + std\n",
    "    data_std_up = stats_mean.values + stats_std.values\n",
    "    data_std_up = np.append(data_std_up, data_std_up[0])  # cerrar polígono\n",
    "    ax.plot(angles, data_std_up, linewidth=2, linestyle='dashed', color='limegreen', label=\"mean + std\")\n",
    "    # data - std\n",
    "    data_std_down = stats_mean.values - stats_std.values\n",
    "    data_std_down = np.append(data_std_down, data_std_down[0])  # cerrar polígono\n",
    "    ax.plot(angles, data_std_down, linewidth=2, linestyle='dashed', color='limegreen', label=\"mean - std\")\n",
    "    # Legenda (coordenadas en polares)\n",
    "    ax.text(-np.pi/3, 8, f'# Total data: {len(dataframe)}', size=14)\n",
    "\n",
    "    # área de regla de cinco\n",
    "    # \"MW/100\": 5, \"HBA/2\": 5, \"HBD\": 5, \"LogP\": 5\n",
    "    ro5_properties = [5, 5, 5, 5, 5]\n",
    "\n",
    "    ax.fill(angles, ro5_properties, 'thistle', alpha=0.6, label=\"rule of five area\")\n",
    "\n",
    "   # Agregar leyenda\n",
    "    plt.legend(loc='upper right')\n",
    "\n",
    "    # Mostrar el gráfico\n",
    "    plt.show()"
   ]
  },
  {
   "cell_type": "code",
   "execution_count": null,
   "metadata": {},
   "outputs": [],
   "source": [
    "# Trazamos el radarplot para el conjunto de datos de compuestos (TODOS).\n",
    "plot_radar(df_molecule)"
   ]
  },
  {
   "cell_type": "markdown",
   "metadata": {
    "tags": []
   },
   "source": [
    "### Radar plot - Rof confort: SÍ\n",
    "Ahora vamos a repetir el proceso, pero solo con las moléculas que pasaron la prueba de la regla de cinco.\n",
    "Primero debemos filtrar el conjunto `rule_of_five_conform: yes`"
   ]
  },
  {
   "cell_type": "code",
   "execution_count": null,
   "metadata": {},
   "outputs": [],
   "source": [
    "df_molecule_Ro5_yes = df_molecule[df_molecule['rule_of_five_conform']=='yes']\n",
    "df_molecule_Ro5_yes.reset_index(inplace=True, drop=True)\n",
    "# conjunto de datos que si cumplen la regla\n",
    "df_molecule_Ro5_yes"
   ]
  },
  {
   "cell_type": "markdown",
   "metadata": {},
   "source": [
    "Trazamos el radarplot para el conjunto de datos filtrado"
   ]
  },
  {
   "cell_type": "code",
   "execution_count": null,
   "metadata": {},
   "outputs": [],
   "source": [
    "plot_radar(df_molecule_Ro5_yes)"
   ]
  },
  {
   "cell_type": "markdown",
   "metadata": {},
   "source": [
    "## Radar plot - Rof confort: NO\n",
    "Ahora vamos a repetir el proceso, pero solo con las moléculas que pasaron la prueba de la regla de cinco.\n",
    "Primero debemos filtrar el conjunto `rule_of_five_conform: no`"
   ]
  },
  {
   "cell_type": "code",
   "execution_count": null,
   "metadata": {},
   "outputs": [],
   "source": [
    "df_molecule_Ro5_no = df_molecule[df_molecule['rule_of_five_conform']=='no']\n",
    "df_molecule_Ro5_no.reset_index(inplace=True, drop=True)\n",
    "df_molecule_Ro5_no"
   ]
  },
  {
   "cell_type": "markdown",
   "metadata": {},
   "source": [
    "Trazamos el diagrama de radar para el conjunto de datos de compuestos que violan el Ro5"
   ]
  },
  {
   "cell_type": "code",
   "execution_count": null,
   "metadata": {},
   "outputs": [],
   "source": [
    "plot_radar(df_molecule_Ro5_no)"
   ]
  },
  {
   "cell_type": "markdown",
   "metadata": {},
   "source": [
    "## Conclusión\n",
    "\n",
    "En esta práctica, hemos aprendido sobre la regla de Lipinski como una medida para estimar la biodisponibilidad oral de un compuesto y hemos aplicado la regla en un conjunto de datos para poder filtrarlos y descartar aquellos compuestos que cumplen con dos o más de los criterios. Además, aprendemos a realizar gráficos sencillos como los de barras que nos permiten visualizar el conjunto de datos en total o cada compuesto del conjunto de datos. También, aprendimos a realizar, gráficos de dispersión que nos permiten observar el conjunto de datos frente a los cuatro criterios de la regla de Lipinski. Finalmente, construimos un gráfico más complejo como el gráfico de radar el cual nos permite comparar múltiples variables (reglas de Lipinski) en un solo gráfico."
   ]
  },
  {
   "cell_type": "markdown",
   "metadata": {},
   "source": [
    "# Referencias\n",
    "1. Grogan, S., & Preuss, C. V. (2022). Pharmacokinetics. En StatPearls. StatPearls Publishing. http://www.ncbi.nlm.nih.gov/books/NBK557744/\n",
    "2. Doogue, M. P., & Polasek, T. M. (2013). The ABCD of clinical pharmacokinetics. Therapeutic Advances in Drug Safety, 4(1), 5-7. https://doi.org/10.1177/2042098612469335\n",
    "3. Turner, J. V., & Agatonovic-Kustrin, S. (2007). In silico prediction of oral bioavailability. En Comprehensive Medicinal Chemistry II (pp. 699-724). Elsevier. https://doi.org/10.1016/B0-08-045044-X/00147-4"
   ]
  }
 ],
 "metadata": {
  "kernelspec": {
   "display_name": "Python 3 (ipykernel)",
   "language": "python",
   "name": "python3"
  },
  "language_info": {
   "codemirror_mode": {
    "name": "ipython",
    "version": 3
   },
   "file_extension": ".py",
   "mimetype": "text/x-python",
   "name": "python",
   "nbconvert_exporter": "python",
   "pygments_lexer": "ipython3",
   "version": "3.8.16"
  }
 },
 "nbformat": 4,
 "nbformat_minor": 4
}
